{
 "metadata": {
  "language": "Julia",
  "name": "",
  "signature": "sha256:f4ff63420045171c0ca1a6f021d367b50bbf0d75ecb9461bc7c367944f8222fc"
 },
 "nbformat": 3,
 "nbformat_minor": 0,
 "worksheets": [
  {
   "cells": [
    {
     "cell_type": "heading",
     "level": 1,
     "metadata": {},
     "source": [
      "Installation"
     ]
    },
    {
     "cell_type": "heading",
     "level": 2,
     "metadata": {},
     "source": [
      "Installing Julia"
     ]
    },
    {
     "cell_type": "markdown",
     "metadata": {},
     "source": [
      "There are sevral ways to install `Julia`:\n",
      "\n",
      "* Using prebuilt binaries for various operating systems - see [Downloads](http://julialang.org/downloads/)\n",
      "* Downloading the source for `github` and compiling it - see [Source Download and Compilation](https://github.com/JuliaLang/julia/#source-download-and-compilation)\n",
      "* Steven Johnson\n",
      "\n",
      "\n"
     ]
    },
    {
     "cell_type": "heading",
     "level": 2,
     "metadata": {},
     "source": [
      "Installing `IJulia` (`IPython`)"
     ]
    },
    {
     "cell_type": "markdown",
     "metadata": {},
     "source": [
      "To install and use `IJulia` you need to install [Python](https://www.python.org/) and [IPython](http://ipython.org/index.html). There are two options of doing this:\n",
      "\n",
      "* follow the instructions on the [Install IPython](http://ipython.org/install.html) page, or\n",
      "* download and install [Anaconda](http://continuum.io/downloads) - this installs `Python` and    most popular [Python packages](http://docs.continuum.io/anaconda/pkg-docs.html), including `IPython`\n",
      "\n",
      "To install `IJulia` follow the short instructions at [Installing Juila and IJulia](https://github.com/stevengj/julia-mit#installing-julia-and-ijulia).\n",
      "\n",
      "\n"
     ]
    },
    {
     "cell_type": "heading",
     "level": 2,
     "metadata": {},
     "source": [
      "Running `IJulia`"
     ]
    },
    {
     "cell_type": "markdown",
     "metadata": {},
     "source": [
      "Do the following:\n",
      "* start `julia` from the command prompt,\n",
      "* at the `julia` prompt type\n",
      "```\n",
      "Pkg.add(\"IJulia\")\n",
      "Pkg.add(\"PyPlot\")\n",
      "```\n",
      "* at the command prompt type\n",
      "```\n",
      "ipython notebook --profile julia\n",
      "```\n",
      "(If more versions of `Python` were installed you may have to substitute \n",
      "`'ipython'` by `'ipython2'` or `'ipython3'` in the above command)"
     ]
    },
    {
     "cell_type": "heading",
     "level": 2,
     "metadata": {},
     "source": [
      "Installing `nbgrader`"
     ]
    },
    {
     "cell_type": "markdown",
     "metadata": {},
     "source": [
      "[nbgrader](https://github.com/jupyter/nbgrader) is a system for creating and automatic grading of assignements within `IPython` and `IJulia` notebooks.\n",
      "\n",
      "Installation and usage is described in the [User Guide](http://nbviewer.ipython.org/github/jupyter/nbgrader/blob/master/docs/user_guide/Index.ipynb)\n",
      "\n",
      "Troubles:\n",
      "\n",
      "1. needed to setup virtual environment via [Virtual environment](http://virtualenvwrapper.readthedocs.org/en/latest/command_ref.html) called `nbgrader` in my case. \n",
      "- installed `python 3.4` and the corresponding `pip`. The problem was that somehow old version was still used.\n",
      "The solution was to edit `/home/ivan/.virtualenvs/nbgrader/bin/pip`, first line should read\n",
      "```\n",
      "#!/home/ivan/.virtualenvs/nbgrader/bin/python3\n",
      "```\n",
      "otherwise it points to the system's python\n",
      "\n",
      "- need to use `ipython notebook --browser=chromium-browser` for some reason\n",
      "- needed to install `matplotlib` but it did not work:\n",
      "    - had to follow [the instructions](http://stackoverflow.com/questions/27024731/matplotlib-compilation-error-typeerror-unorderable-types-str-int)\n",
      "    ```\n",
      "    sudo apt-get install libfreetype6-dev\n",
      "    pip install matplotlib\n",
      "    ```\n",
      "    - need to install `mongodb`\n",
      "    ```\n",
      "    sudo apt-get install mongodb\n",
      "    ```\n",
      "5. There is now the follwing error `TypeError: 'zip' object is not subscriptable`\n",
      "   Need to install PyMVPA\n",
      "   ```\n",
      "   git clone https://github.com/PyMVPA/PyMVPA\n",
      "   sudo apt-get install swig # this waas not good, had to install from source, ./congifure; make; sudo make install\n",
      "   make 3rd\n",
      "   python setup.py build_ext\n",
      "   python setup.py install\n",
      "   ```\n",
      "   \n"
     ]
    },
    {
     "cell_type": "code",
     "collapsed": false,
     "input": [],
     "language": "python",
     "metadata": {},
     "outputs": []
    }
   ],
   "metadata": {}
  }
 ]
}