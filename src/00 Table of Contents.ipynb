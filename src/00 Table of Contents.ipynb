{
 "metadata": {
  "language": "Julia",
  "name": "",
  "signature": "sha256:4ba9fc512ccf8d83900970c5955f23f039e1e99f13be87bab7fab4e40023beff"
 },
 "nbformat": 3,
 "nbformat_minor": 0,
 "worksheets": [
  {
   "cells": [
    {
     "cell_type": "markdown",
     "metadata": {},
     "source": [
      "# Julia Course - Table of Contents\n",
      "\n",
      "1. [Manifest - Teaching - Julia - Research](01 Manifest.ipynb)\n",
      "2. [Installation](02 Installation.ipynb)\n",
      "3. [Lightning Round - Basic Features and Commands](03 Lightning.ipynb)\n",
      "4. [Julia is Fast - `@time` and `@elapsed`](04 Julia is Fast.ipynb)\n",
      "5. [Julia is Open - `whos()`, `methods()` and `@which`](05 Julia is Open.ipynb)\n",
      "6. [Julia is Friendly](06 Julia is Friendly.ipynb)\n",
      "7. [Using Packages](07 Using packages.ipynb)\n",
      "8. [Namespace and Modules](08 Namespace and Modules.ipynb)\n",
      "9. [Plotting](09 Plotting.ipynb)\n",
      "10. [Manipulating Data - `@serialize` and `HDF5`](10 Manipulating data.ipynb)\n",
      "11. [Profiling](11 Profiling.ipynb)\n",
      "12. [Operator Overloading](12 Operator Overloading.ipynb)\n",
      "13. [Creating Packages](13 Creatinig Packages.ipynb)\n",
      "14. [Wrapping Libraries](14 Wrapping Libraries.ipynb)\n",
      "15. [Julia is Parallel](15 Julia is Parallel.ipynb)\n",
      "16. [Types](16 Types.ipynb)\n",
      "\n",
      "\n",
      "\n",
      "\n",
      "\n",
      "\n",
      "\n"
     ]
    },
    {
     "cell_type": "code",
     "collapsed": false,
     "input": [],
     "language": "python",
     "metadata": {},
     "outputs": []
    }
   ],
   "metadata": {}
  }
 ]
}