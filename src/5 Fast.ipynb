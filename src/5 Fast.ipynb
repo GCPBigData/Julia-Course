{
 "metadata": {
  "language": "Julia",
  "name": "",
  "signature": "sha256:67cb929ada21f432f95d5ad81903cc4ee7669b8666713ea8319caa4c0115fd91"
 },
 "nbformat": 3,
 "nbformat_minor": 0,
 "worksheets": [
  {
   "cells": [
    {
     "cell_type": "markdown",
     "metadata": {},
     "source": [
      "# Julia is fast - `@time` and `@elapsed`\n",
      "\n",
      "In this notebook, we demonstrate how fast `Julia` is, compared to other dynamically typed languages. \n",
      "\n",
      "## Prerequisites\n",
      "\n",
      "Read the text [Why Julia?](https://github.com/stevengj/julia-mit/blob/master/README.md#why-julia) (3 min)\n",
      "\n",
      "Read [Performance tips](http://julia.readthedocs.org/en/latest/manual/performance-tips/) section of the `Julia` manual. (20 min) \n",
      "\n",
      "## Competences \n",
      "\n",
      "The reader should understand effects of \"[just-in-time\n",
      "compiler](https://en.wikipedia.org/wiki/Just-in-time_compilation)\"\n",
      "called [LLVM](http://llvm.org/)`LLVM` on the speed of execution of programs. \n",
      "The reader should be able to write simple, but fast, programs containing loops.\n",
      "\n",
      "## Credits \n",
      "\n",
      "Some examples are taken from [The Julia Manual](http://julia.readthedocs.org/en/latest/manual/).\n",
      "\n",
      "## Scholarly example - summing integer halves\n",
      "\n",
      "Consider the function `f` which sums halves of integers from `1` to `n`:"
     ]
    },
    {
     "cell_type": "code",
     "collapsed": false,
     "input": [
      "function f(n)\n",
      "    s = 0\n",
      "    for i = 1:n\n",
      "        s += i/2\n",
      "    end\n",
      "    s\n",
      "end"
     ],
     "language": "python",
     "metadata": {},
     "outputs": [
      {
       "metadata": {},
       "output_type": "pyout",
       "prompt_number": 1,
       "text": [
        "f (generic function with 1 method)"
       ]
      }
     ],
     "prompt_number": 1
    },
    {
     "cell_type": "markdown",
     "metadata": {},
     "source": [
      "In order for the fast execution, the function must first be compiled. Compilation is performed automatically, when the function is invoked for the first time. Therefore, the first call can be done with some trivial choice of parameters.\n",
      "\n",
      "The timing can be done by two commands, `@time` and `@elapsed`: "
     ]
    },
    {
     "cell_type": "code",
     "collapsed": false,
     "input": [
      "help(\"@time\")  # \"\" are needed here"
     ],
     "language": "python",
     "metadata": {},
     "outputs": [
      {
       "output_type": "stream",
       "stream": "stdout",
       "text": [
        "Base.@time()\n",
        "\n",
        "   A macro to execute an expression, printing the time it took to\n",
        "   execute and the total number of bytes its execution caused to be\n",
        "   allocated, before returning the value of the expression.\n"
       ]
      }
     ],
     "prompt_number": 2
    },
    {
     "cell_type": "code",
     "collapsed": false,
     "input": [
      "help(\"@elapsed\")"
     ],
     "language": "python",
     "metadata": {},
     "outputs": [
      {
       "output_type": "stream",
       "stream": "stdout",
       "text": [
        "Base.@elapsed()\n",
        "\n",
        "   A macro to evaluate an expression, discarding the resulting value,\n",
        "   instead returning the number of seconds it took to execute as a\n",
        "   floating-point number.\n"
       ]
      }
     ],
     "prompt_number": 3
    },
    {
     "cell_type": "code",
     "collapsed": false,
     "input": [
      "@time f(1) "
     ],
     "language": "python",
     "metadata": {},
     "outputs": [
      {
       "output_type": "stream",
       "stream": "stdout",
       "text": [
        "elapsed time: 0."
       ]
      },
      {
       "output_type": "stream",
       "stream": "stdout",
       "text": [
        "004594426 seconds (95952 bytes allocated)\n"
       ]
      },
      {
       "metadata": {},
       "output_type": "pyout",
       "prompt_number": 4,
       "text": [
        "0.5"
       ]
      }
     ],
     "prompt_number": 4
    },
    {
     "cell_type": "code",
     "collapsed": false,
     "input": [
      "@elapsed f(1)  # This run is much faster, since the function is already compiled"
     ],
     "language": "python",
     "metadata": {},
     "outputs": [
      {
       "metadata": {},
       "output_type": "pyout",
       "prompt_number": 5,
       "text": [
        "2.513e-6"
       ]
      }
     ],
     "prompt_number": 5
    },
    {
     "cell_type": "markdown",
     "metadata": {},
     "source": [
      "Let us now run the big-size computation. Notice the unnaturally high byte allocation and the huge amount of time spent on \n",
      "[garbage collection](http://en.wikipedia.org/wiki/Garbage_collection_%28computer_science%29)."
     ]
    },
    {
     "cell_type": "code",
     "collapsed": false,
     "input": [
      "@time f(1000000) # Notice the unnaturally high byte  allocation!"
     ],
     "language": "python",
     "metadata": {},
     "outputs": [
      {
       "output_type": "stream",
       "stream": "stdout",
       "text": [
        "elapsed time: 0."
       ]
      },
      {
       "output_type": "stream",
       "stream": "stdout",
       "text": [
        "059702269 seconds (32000112 bytes allocated, 46.67% gc time)\n"
       ]
      },
      {
       "metadata": {},
       "output_type": "pyout",
       "prompt_number": 6,
       "text": [
        "2.5000025e11"
       ]
      }
     ],
     "prompt_number": 6
    },
    {
     "cell_type": "code",
     "collapsed": false,
     "input": [
      "@elapsed f(1000000)"
     ],
     "language": "python",
     "metadata": {},
     "outputs": [
      {
       "metadata": {},
       "output_type": "pyout",
       "prompt_number": 7,
       "text": [
        "0.027931273"
       ]
      }
     ],
     "prompt_number": 7
    },
    {
     "cell_type": "markdown",
     "metadata": {},
     "source": [
      "> Since your computer can execute several _Gigaflops_ (floating-point operations per second), this is rather slow. This slowness is due to _type instability_: variable `s` is in the beginning assumed to be of type `Integer`, while at every other step, the result is a real number of type `Float64`. Permanent checking of types requires permanent memory allocation and deallocation (garbage collection). This is corrected by very simple means: just declare `s` as a real number, and the execution is more than 10 times faster with almost no memory allocation (and, consequently, no garbage collection)."
     ]
    },
    {
     "cell_type": "code",
     "collapsed": false,
     "input": [
      "function f1(n)\n",
      "    s = 0.0\n",
      "    for i = 1:n\n",
      "        s += i/2\n",
      "    end\n",
      "    s\n",
      "end"
     ],
     "language": "python",
     "metadata": {},
     "outputs": [
      {
       "metadata": {},
       "output_type": "pyout",
       "prompt_number": 8,
       "text": [
        "f1 (generic function with 1 method)"
       ]
      }
     ],
     "prompt_number": 8
    },
    {
     "cell_type": "code",
     "collapsed": false,
     "input": [
      "@time f1(1)"
     ],
     "language": "python",
     "metadata": {},
     "outputs": [
      {
       "output_type": "stream",
       "stream": "stdout",
       "text": [
        "elapsed time: 0."
       ]
      },
      {
       "output_type": "stream",
       "stream": "stdout",
       "text": [
        "002243955 seconds (81264 bytes allocated)\n"
       ]
      },
      {
       "metadata": {},
       "output_type": "pyout",
       "prompt_number": 9,
       "text": [
        "0.5"
       ]
      }
     ],
     "prompt_number": 9
    },
    {
     "cell_type": "code",
     "collapsed": false,
     "input": [
      "@time f1(1000000)"
     ],
     "language": "python",
     "metadata": {},
     "outputs": [
      {
       "output_type": "stream",
       "stream": "stdout",
       "text": [
        "elapsed time: 0."
       ]
      },
      {
       "output_type": "stream",
       "stream": "stdout",
       "text": [
        "003104317 seconds (96 bytes allocated)\n"
       ]
      },
      {
       "metadata": {},
       "output_type": "pyout",
       "prompt_number": 10,
       "text": [
        "2.5000025e11"
       ]
      }
     ],
     "prompt_number": 10
    },
    {
     "cell_type": "markdown",
     "metadata": {},
     "source": [
      "## Real-world example - exponential moving average\n",
      "\n",
      "[Exponential moving average](http://en.wikipedia.org/wiki/Moving_average#Exponential_moving_average) is a fast _one pass_ formula (each data point of the given data set $A$ is accessed only once) often used in high-frequency on-line trading (see [Online Algorithms in High-Frequency Trading](http://cacm.acm.org/magazines/2013/10/168184-online-algorithms-in-high-frequency-trading/fulltext) for more details). __Notice that the output array $X$ is declared in advance.__\n"
     ]
    },
    {
     "cell_type": "code",
     "collapsed": false,
     "input": [
      "function fexpma{T}( A::Vector{T}, alpha::T )\n",
      "# fast exponential moving average: X - moving average, A - data, alpha - exponential forgetting parameter\n",
      "    n = length(A)\n",
      "    X = Array(T,n) # Declare X\n",
      "    beta = one(T)-alpha\n",
      "    X[1] = A[1]\n",
      "    for k = 2:n\n",
      "        X[k] = beta*A[k] + alpha*X[k-1]\n",
      "    end\n",
      "    return X\n",
      "end\n"
     ],
     "language": "python",
     "metadata": {},
     "outputs": [
      {
       "metadata": {},
       "output_type": "pyout",
       "prompt_number": 11,
       "text": [
        "fexpma (generic function with 1 method)"
       ]
      }
     ],
     "prompt_number": 11
    },
    {
     "cell_type": "code",
     "collapsed": false,
     "input": [
      "fexpma([1.0],0.5) # First run for compilation"
     ],
     "language": "python",
     "metadata": {},
     "outputs": [
      {
       "metadata": {},
       "output_type": "pyout",
       "prompt_number": 12,
       "text": [
        "1-element Array{Float64,1}:\n",
        " 1.0"
       ]
      }
     ],
     "prompt_number": 12
    },
    {
     "cell_type": "markdown",
     "metadata": {},
     "source": [
      "We now generate some big-size data:"
     ]
    },
    {
     "cell_type": "code",
     "collapsed": false,
     "input": [
      "A=[rand() + 0.00001*k*rand() for k=1:20_000_000] # Big random sequence with slightly growing tendency"
     ],
     "language": "python",
     "metadata": {},
     "outputs": [
      {
       "metadata": {},
       "output_type": "pyout",
       "prompt_number": 13,
       "text": [
        "20000000-element Array{Float64,1}:\n",
        "   0.840851 \n",
        "   0.397939 \n",
        "   0.963808 \n",
        "   0.85621  \n",
        "   0.747582 \n",
        "   0.0481353\n",
        "   0.151273 \n",
        "   0.630102 \n",
        "   0.99109  \n",
        "   0.445978 \n",
        "   0.0906596\n",
        "   0.290273 \n",
        "   0.520707 \n",
        "   \u22ee        \n",
        " 193.389    \n",
        "  75.3893   \n",
        "  22.9326   \n",
        " 177.756    \n",
        " 111.288    \n",
        " 112.621    \n",
        " 160.51     \n",
        "   7.85722  \n",
        "  31.8879   \n",
        "  36.4999   \n",
        " 117.893    \n",
        "  15.5344   "
       ]
      }
     ],
     "prompt_number": 13
    },
    {
     "cell_type": "code",
     "collapsed": false,
     "input": [
      "@time X=fexpma(A,0.9)"
     ],
     "language": "python",
     "metadata": {},
     "outputs": [
      {
       "output_type": "stream",
       "stream": "stdout",
       "text": [
        "elapsed time: 0."
       ]
      },
      {
       "output_type": "stream",
       "stream": "stdout",
       "text": [
        "119609041 seconds (160000176 bytes allocated, 18.10% gc time)\n"
       ]
      },
      {
       "metadata": {},
       "output_type": "pyout",
       "prompt_number": 14,
       "text": [
        "20000000-element Array{Float64,1}:\n",
        "   0.840851\n",
        "   0.79656 \n",
        "   0.813285\n",
        "   0.817577\n",
        "   0.810578\n",
        "   0.734333\n",
        "   0.676027\n",
        "   0.671435\n",
        "   0.7034  \n",
        "   0.677658\n",
        "   0.618958\n",
        "   0.58609 \n",
        "   0.579551\n",
        "   \u22ee       \n",
        " 112.465   \n",
        " 108.757   \n",
        " 100.175   \n",
        " 107.933   \n",
        " 108.269   \n",
        " 108.704   \n",
        " 113.884   \n",
        " 103.282   \n",
        "  96.1423  \n",
        "  90.1781  \n",
        "  92.9495  \n",
        "  85.208   "
       ]
      }
     ],
     "prompt_number": 14
    },
    {
     "cell_type": "markdown",
     "metadata": {},
     "source": [
      "Similar `Matlab` programs give the following timing for the two versions of the function, first _without_ prior declaration of $X$ and then _with_ prior declaration. The _latter_ version is several times faster, but still slow. \n",
      "\n",
      "---\n",
      "```\n",
      "function X = fexpma0( A,alpha )\n",
      "% fast exponential moving average: X - moving average, A - data, alpha - exponential forgetting parameter\n",
      "n=length(A);\n",
      "beta=1-alpha;\n",
      "X(1)=A(1);\n",
      "for k=2:n\n",
      "    X(k)=beta*A(k)+alpha*X(k-1);\n",
      "end\n",
      "```\n",
      "```\n",
      ">> A=rand(20000000,1)+0.00001*[1:20000000]'.*rand(20000000,1);\n",
      ">> tic, X=fexpma0(A,0.9); toc\n",
      "Elapsed time is 3.073359 seconds.\n",
      "```\n",
      "\n",
      "---\n",
      "\n",
      "```\n",
      "function X = fexpma( A,alpha )\n",
      "% fast exponential moving average: X - moving average, A - data, alpha - exponential forgetting parameter\n",
      "n=length(A);\n",
      "X=zeros(n,1); % Allocate X in advance\n",
      "beta=1-alpha;\n",
      "X(1)=A(1);\n",
      "for k=2:n\n",
      "    X(k)=beta*A(k)+alpha*X(k-1);\n",
      "end\n",
      "```\n",
      "```\n",
      ">> tic, X=fexpma(A,0.9); toc\n",
      "Elapsed time is 0.320976 seconds.\n",
      "```"
     ]
    },
    {
     "cell_type": "markdown",
     "metadata": {},
     "source": [
      "## Plotting the moving average\n",
      "\n",
      "Let us plot the data $A$ and its exponential moving average $X$. The dimension of the data is too large for meaningful direct plot. In `Julia` we can use `@manipulate` command to slide through the data. It takes a while to read packages `Winston` (for plotting) and `Interact`, but this is needed only for the first invocation."
     ]
    },
    {
     "cell_type": "code",
     "collapsed": false,
     "input": [
      "using Winston\n",
      "using Interact"
     ],
     "language": "python",
     "metadata": {},
     "outputs": [],
     "prompt_number": 17
    },
    {
     "cell_type": "code",
     "collapsed": false,
     "input": [
      "@manipulate for k=1:1000:20000000\n",
      "    plot([k:k+1000],A[k:k+1000],\"r.\",[k:k+1000],X[k:k+1000],\"b\")\n",
      "end"
     ],
     "language": "python",
     "metadata": {},
     "outputs": [
      {
       "html": [],
       "metadata": {},
       "output_type": "display_data",
       "text": [
        "Slider{Int64}([Input{Int64}] 9999001,\"k\",9999001,1:1000:19999001)"
       ]
      },
      {
       "output_type": "stream",
       "stream": "stderr",
       "text": [
        "WARNING: apply(f, x) is deprecated, use `f(x...)` instead\n",
        " in lift at /home/ivan/.julia/v0.4/Reactive/src/Reactive.jl:296\n",
        " in include_string at loading.jl:97\n",
        " in execute_request_0x535c5df2 at /home/ivan/.julia/v0.4/IJulia/src/execute_request.jl:140\n",
        " in eventloop at /home/ivan/.julia/v0.4/IJulia/src/IJulia.jl:123\n",
        " in anonymous at task.jl:340\n"
       ]
      },
      {
       "metadata": {
        "comm_id": "2b71da44-8045-4cd5-ad6c-f9d2b9a91459",
        "reactive": true
       },
       "output_type": "pyout",
       "png": "[encoded data removed]",
       "prompt_number": 18,
       "text": [
        "FramedPlot(...)"
       ]
      },
      {
       "output_type": "stream",
       "stream": "stderr",
       "text": [
        "WARNING: apply(f, x) is deprecated, use `f(x...)` instead\n",
        " in init_comm at /home/ivan/.julia/v0.4/Interact/src/IJulia/setup.jl:71\n",
        " in metadata at /home/ivan/.julia/v0.4/Interact/src/IJulia/setup.jl:80\n",
        " in execute_request_0x535c5df2 at /home/ivan/.julia/v0.4/IJulia/src/execute_request.jl:183\n",
        " in eventloop at /home/ivan/.julia/v0.4/IJulia/src/IJulia.jl:123\n",
        " in anonymous at task.jl:340\n"
       ]
      }
     ],
     "prompt_number": 18
    },
    {
     "cell_type": "markdown",
     "metadata": {},
     "source": [
      "### Remark\n",
      "More details about optimizing your programs are given in the [Profiling Notebook]().\n",
      "Plotting is described in the [Plotting Notebook](). `@manipulate` command is described in the [Interactive Notebook]()."
     ]
    },
    {
     "cell_type": "code",
     "collapsed": false,
     "input": [],
     "language": "python",
     "metadata": {},
     "outputs": []
    }
   ],
   "metadata": {}
  }
 ]
}