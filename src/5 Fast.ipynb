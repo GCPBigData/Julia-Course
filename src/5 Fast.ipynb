{
 "metadata": {
  "language": "Julia",
  "name": "",
  "signature": "sha256:c049d88535153c6020b05dfde562363ff16255afc592fdc24fe4c8b0f6b0382e"
 },
 "nbformat": 3,
 "nbformat_minor": 0,
 "worksheets": [
  {
   "cells": [
    {
     "cell_type": "markdown",
     "metadata": {},
     "source": [
      "# Julia is fast - `@time`, `@elapsed` and `@inbounds`\n",
      "\n",
      "In this notebook, we demonstrate how fast `Julia` is, compared to other dynamically typed languages. \n",
      "\n",
      "## Prerequisites\n",
      "\n",
      "Read the text [Why Julia?](https://github.com/stevengj/julia-mit/blob/master/README.md#why-julia) (3 min)\n",
      "\n",
      "Read [Performance tips](http://julia.readthedocs.org/en/latest/manual/performance-tips/) section of the `Julia` manual. (20 min) \n",
      "\n",
      "## Competences \n",
      "\n",
      "The reader should understand effects of \"[just-in-time\n",
      "compiler](https://en.wikipedia.org/wiki/Just-in-time_compilation)\"\n",
      "called [LLVM](http://llvm.org/)`LLVM` on the speed of execution of programs. \n",
      "The reader should be able to write simple, but fast, programs containing loops.\n",
      "\n",
      "## Credits \n",
      "\n",
      "Some examples are taken from [The Julia Manual](http://julia.readthedocs.org/en/latest/manual/).\n",
      "\n",
      "---"
     ]
    },
    {
     "cell_type": "markdown",
     "metadata": {},
     "source": [
      "## Scholarly example - summing integer halves\n",
      "\n",
      "Consider the function `f` which sums halves of integers from `1` to `n`:"
     ]
    },
    {
     "cell_type": "code",
     "collapsed": false,
     "input": [
      "function f(n)\n",
      "    s = 0\n",
      "    for i = 1:n\n",
      "        s += i/2\n",
      "    end\n",
      "    s\n",
      "end"
     ],
     "language": "python",
     "metadata": {},
     "outputs": [
      {
       "metadata": {},
       "output_type": "pyout",
       "prompt_number": 1,
       "text": [
        "f (generic function with 1 method)"
       ]
      }
     ],
     "prompt_number": 1
    },
    {
     "cell_type": "markdown",
     "metadata": {},
     "source": [
      "In order for the fast execution, the function must first be compiled. Compilation is performed automatically, when the function is invoked for the first time. Therefore, the first call can be done with some trivial choice of parameters.\n",
      "\n",
      "The timing can be done by two commands, `@time` and `@elapsed`: "
     ]
    },
    {
     "cell_type": "code",
     "collapsed": false,
     "input": [
      "help(\"@time\")  # \"\" are needed here"
     ],
     "language": "python",
     "metadata": {},
     "outputs": [
      {
       "output_type": "stream",
       "stream": "stdout",
       "text": [
        "Base.@time()\n",
        "\n",
        "   A macro to execute an expression, printing the time it took to\n",
        "   execute and the total number of bytes its execution caused to be\n",
        "   allocated, before returning the value of the expression.\n"
       ]
      }
     ],
     "prompt_number": 2
    },
    {
     "cell_type": "code",
     "collapsed": false,
     "input": [
      "help(\"@elapsed\")"
     ],
     "language": "python",
     "metadata": {},
     "outputs": [
      {
       "output_type": "stream",
       "stream": "stdout",
       "text": [
        "Base.@elapsed()\n",
        "\n",
        "   A macro to evaluate an expression, discarding the resulting value,\n",
        "   instead returning the number of seconds it took to execute as a\n",
        "   floating-point number.\n"
       ]
      }
     ],
     "prompt_number": 3
    },
    {
     "cell_type": "code",
     "collapsed": false,
     "input": [
      "@time f(1) "
     ],
     "language": "python",
     "metadata": {},
     "outputs": [
      {
       "output_type": "stream",
       "stream": "stdout",
       "text": [
        "elapsed time: 0."
       ]
      },
      {
       "output_type": "stream",
       "stream": "stdout",
       "text": [
        "003100441 seconds (95952 bytes allocated)\n"
       ]
      },
      {
       "metadata": {},
       "output_type": "pyout",
       "prompt_number": 4,
       "text": [
        "0.5"
       ]
      }
     ],
     "prompt_number": 4
    },
    {
     "cell_type": "code",
     "collapsed": false,
     "input": [
      "@elapsed f(1)  # This run is much faster, since the function is already compiled"
     ],
     "language": "python",
     "metadata": {},
     "outputs": [
      {
       "metadata": {},
       "output_type": "pyout",
       "prompt_number": 5,
       "text": [
        "3.58e-6"
       ]
      }
     ],
     "prompt_number": 5
    },
    {
     "cell_type": "markdown",
     "metadata": {},
     "source": [
      "Let us now run the big-size computation. Notice the unnaturally high byte allocation and the huge amount of time spent on \n",
      "[garbage collection](http://en.wikipedia.org/wiki/Garbage_collection_%28computer_science%29)."
     ]
    },
    {
     "cell_type": "code",
     "collapsed": false,
     "input": [
      "@time f(1000000) # Notice the unnaturally high byte  allocation!"
     ],
     "language": "python",
     "metadata": {},
     "outputs": [
      {
       "output_type": "stream",
       "stream": "stdout",
       "text": [
        "elapsed time: 0."
       ]
      },
      {
       "output_type": "stream",
       "stream": "stdout",
       "text": [
        "060411115 seconds (32154392 bytes allocated, 61.47% gc time)\n"
       ]
      },
      {
       "metadata": {},
       "output_type": "pyout",
       "prompt_number": 6,
       "text": [
        "2.5000025e11"
       ]
      }
     ],
     "prompt_number": 6
    },
    {
     "cell_type": "code",
     "collapsed": false,
     "input": [
      "@elapsed f(1000000) # We shall be using @time from now on"
     ],
     "language": "python",
     "metadata": {},
     "outputs": [
      {
       "metadata": {},
       "output_type": "pyout",
       "prompt_number": 7,
       "text": [
        "0.056787021"
       ]
      }
     ],
     "prompt_number": 7
    },
    {
     "cell_type": "markdown",
     "metadata": {},
     "source": [
      "> Since your computer can execute several _Gigaflops_ (floating-point operations per second), this is rather slow. This slowness is due to _type instability_: variable `s` is in the beginning assumed to be of type `Integer`, while at every other step, the result is a real number of type `Float64`. Permanent checking of types requires permanent memory allocation and deallocation (garbage collection). This is corrected by very simple means: just declare `s` as a real number, and the execution is more than 10 times faster with almost no memory allocation (and, consequently, no garbage collection)."
     ]
    },
    {
     "cell_type": "code",
     "collapsed": false,
     "input": [
      "function f1(n)\n",
      "    s = 0.0\n",
      "    for i = 1:n\n",
      "        s += i/2\n",
      "    end\n",
      "    s\n",
      "end"
     ],
     "language": "python",
     "metadata": {},
     "outputs": [
      {
       "metadata": {},
       "output_type": "pyout",
       "prompt_number": 8,
       "text": [
        "f1 (generic function with 1 method)"
       ]
      }
     ],
     "prompt_number": 8
    },
    {
     "cell_type": "code",
     "collapsed": false,
     "input": [
      "@time f1(1)"
     ],
     "language": "python",
     "metadata": {},
     "outputs": [
      {
       "output_type": "stream",
       "stream": "stdout",
       "text": [
        "elapsed time: 0."
       ]
      },
      {
       "output_type": "stream",
       "stream": "stdout",
       "text": [
        "002322619 seconds (81264 bytes allocated)\n"
       ]
      },
      {
       "metadata": {},
       "output_type": "pyout",
       "prompt_number": 9,
       "text": [
        "0.5"
       ]
      }
     ],
     "prompt_number": 9
    },
    {
     "cell_type": "code",
     "collapsed": false,
     "input": [
      "@time f1(1000000)"
     ],
     "language": "python",
     "metadata": {},
     "outputs": [
      {
       "output_type": "stream",
       "stream": "stdout",
       "text": [
        "elapsed time: 0."
       ]
      },
      {
       "output_type": "stream",
       "stream": "stdout",
       "text": [
        "003152801 seconds (96 bytes allocated)\n"
       ]
      },
      {
       "metadata": {},
       "output_type": "pyout",
       "prompt_number": 10,
       "text": [
        "2.5000025e11"
       ]
      }
     ],
     "prompt_number": 10
    },
    {
     "cell_type": "markdown",
     "metadata": {},
     "source": [
      "## Real-world example - exponential moving average\n",
      "\n",
      "[Exponential moving average](http://en.wikipedia.org/wiki/Moving_average#Exponential_moving_average) is a fast _one pass_ formula (each data point of the given data set $A$ is accessed only once) often used in high-frequency on-line trading (see [Online Algorithms in High-Frequency Trading](http://cacm.acm.org/magazines/2013/10/168184-online-algorithms-in-high-frequency-trading/fulltext) for more details). __Notice that the output array $X$ is declared in advance.__\n"
     ]
    },
    {
     "cell_type": "code",
     "collapsed": false,
     "input": [
      "function fexpma{T}( A::Vector{T}, alpha::T )\n",
      "# fast exponential moving average: X - moving average, A - data, alpha - exponential forgetting parameter\n",
      "    n = length(A)\n",
      "    X = Array(T,n) # Declare X\n",
      "    beta = one(T)-alpha\n",
      "    X[1] = A[1]\n",
      "    for k = 2:n\n",
      "        X[k] = beta*A[k] + alpha*X[k-1]\n",
      "    end\n",
      "    return X\n",
      "end\n"
     ],
     "language": "python",
     "metadata": {},
     "outputs": [
      {
       "metadata": {},
       "output_type": "pyout",
       "prompt_number": 11,
       "text": [
        "fexpma (generic function with 1 method)"
       ]
      }
     ],
     "prompt_number": 11
    },
    {
     "cell_type": "code",
     "collapsed": false,
     "input": [
      "fexpma([1.0],0.5) # First run for compilation"
     ],
     "language": "python",
     "metadata": {},
     "outputs": [
      {
       "metadata": {},
       "output_type": "pyout",
       "prompt_number": 12,
       "text": [
        "1-element Array{Float64,1}:\n",
        " 1.0"
       ]
      }
     ],
     "prompt_number": 12
    },
    {
     "cell_type": "markdown",
     "metadata": {},
     "source": [
      "We now generate some big-size data:"
     ]
    },
    {
     "cell_type": "code",
     "collapsed": false,
     "input": [
      "A=[rand() + 0.00001*k*rand() for k=1:20_000_000] # Big random sequence with slightly growing tendency"
     ],
     "language": "python",
     "metadata": {},
     "outputs": [
      {
       "metadata": {},
       "output_type": "pyout",
       "prompt_number": 13,
       "text": [
        "20000000-element Array{Float64,1}:\n",
        "   0.3416    \n",
        "   0.45853   \n",
        "   0.357309  \n",
        "   0.381329  \n",
        "   0.0576313 \n",
        "   0.40299   \n",
        "   0.497808  \n",
        "   0.396536  \n",
        "   7.01168e-5\n",
        "   0.74797   \n",
        "   0.177584  \n",
        "   0.0963013 \n",
        "   0.553632  \n",
        "   \u22ee         \n",
        " 102.12      \n",
        " 167.402     \n",
        " 142.455     \n",
        " 165.695     \n",
        "  51.1275    \n",
        "  53.2398    \n",
        "  38.6982    \n",
        "  94.0859    \n",
        " 131.765     \n",
        " 175.428     \n",
        " 104.571     \n",
        "  74.4238    "
       ]
      }
     ],
     "prompt_number": 13
    },
    {
     "cell_type": "code",
     "collapsed": false,
     "input": [
      "@time X=fexpma(A,0.9)"
     ],
     "language": "python",
     "metadata": {},
     "outputs": [
      {
       "output_type": "stream",
       "stream": "stdout",
       "text": [
        "elapsed time: 0."
       ]
      },
      {
       "output_type": "stream",
       "stream": "stdout",
       "text": [
        "111131165 seconds (160000176 bytes allocated, 19.39% gc time)\n"
       ]
      },
      {
       "metadata": {},
       "output_type": "pyout",
       "prompt_number": 14,
       "text": [
        "20000000-element Array{Float64,1}:\n",
        "   0.3416  \n",
        "   0.353293\n",
        "   0.353694\n",
        "   0.356458\n",
        "   0.326575\n",
        "   0.334217\n",
        "   0.350576\n",
        "   0.355172\n",
        "   0.319662\n",
        "   0.362492\n",
        "   0.344002\n",
        "   0.319232\n",
        "   0.342672\n",
        "   \u22ee       \n",
        " 124.991   \n",
        " 129.232   \n",
        " 130.554   \n",
        " 134.068   \n",
        " 125.774   \n",
        " 118.521   \n",
        " 110.539   \n",
        " 108.893   \n",
        " 111.18    \n",
        " 117.605   \n",
        " 116.302   \n",
        " 112.114   "
       ]
      }
     ],
     "prompt_number": 14
    },
    {
     "cell_type": "markdown",
     "metadata": {},
     "source": [
      "## `@inbounds`\n",
      "\n",
      "The `@inbounds` command eliminates array bounds checking within expressions. Be certain before doing this. If the subscripts are ever out of bounds, you may suffer crashes or silent corruption. The above program runs 40% faster.,"
     ]
    },
    {
     "cell_type": "code",
     "collapsed": false,
     "input": [
      "function fexpma{T}( A::Vector{T}, alpha::T )\n",
      "# fast exponential moving average: X - moving average, A - data, alpha - exponential forgetting parameter\n",
      "    n = length(A)\n",
      "    X = Array(T,n) # Declare X\n",
      "    beta = one(T)-alpha\n",
      "    X[1] = A[1]\n",
      "    @inbounds for k = 2:n\n",
      "        X[k] = beta*A[k] + alpha*X[k-1]\n",
      "    end\n",
      "    return X\n",
      "end"
     ],
     "language": "python",
     "metadata": {},
     "outputs": [
      {
       "metadata": {},
       "output_type": "pyout",
       "prompt_number": 15,
       "text": [
        "fexpma (generic function with 1 method)"
       ]
      }
     ],
     "prompt_number": 15
    },
    {
     "cell_type": "code",
     "collapsed": false,
     "input": [
      "@time X=fexpma(A,0.9)"
     ],
     "language": "python",
     "metadata": {},
     "outputs": [
      {
       "output_type": "stream",
       "stream": "stdout",
       "text": [
        "elapsed time: 0."
       ]
      },
      {
       "output_type": "stream",
       "stream": "stdout",
       "text": [
        "063851845 seconds (160164828 bytes allocated)\n"
       ]
      },
      {
       "metadata": {},
       "output_type": "pyout",
       "prompt_number": 16,
       "text": [
        "20000000-element Array{Float64,1}:\n",
        "   0.3416  \n",
        "   0.353293\n",
        "   0.353694\n",
        "   0.356458\n",
        "   0.326575\n",
        "   0.334217\n",
        "   0.350576\n",
        "   0.355172\n",
        "   0.319662\n",
        "   0.362492\n",
        "   0.344002\n",
        "   0.319232\n",
        "   0.342672\n",
        "   \u22ee       \n",
        " 124.991   \n",
        " 129.232   \n",
        " 130.554   \n",
        " 134.068   \n",
        " 125.774   \n",
        " 118.521   \n",
        " 110.539   \n",
        " 108.893   \n",
        " 111.18    \n",
        " 117.605   \n",
        " 116.302   \n",
        " 112.114   "
       ]
      }
     ],
     "prompt_number": 16
    },
    {
     "cell_type": "markdown",
     "metadata": {},
     "source": [
      "Similar `Matlab` programs give the following timing for the two versions of the function, first _without_ prior declaration of $X$ and then _with_ prior declaration. The _latter_ version is several times faster, but still slow. \n",
      "\n",
      "---\n",
      "```\n",
      "function X = fexpma0( A,alpha )\n",
      "% fast exponential moving average: X - moving average, A - data, alpha - exponential forgetting parameter\n",
      "n=length(A);\n",
      "beta=1-alpha;\n",
      "X(1)=A(1);\n",
      "for k=2:n\n",
      "    X(k)=beta*A(k)+alpha*X(k-1);\n",
      "end\n",
      "```\n",
      "```\n",
      ">> A=rand(20000000,1)+0.00001*[1:20000000]'.*rand(20000000,1);\n",
      ">> tic, X=fexpma0(A,0.9); toc\n",
      "Elapsed time is 3.073359 seconds.\n",
      "```\n",
      "\n",
      "---\n",
      "\n",
      "```\n",
      "function X = fexpma( A,alpha )\n",
      "% fast exponential moving average: X - moving average, A - data, alpha - exponential forgetting parameter\n",
      "n=length(A);\n",
      "X=zeros(n,1); % Allocate X in advance\n",
      "beta=1-alpha;\n",
      "X(1)=A(1);\n",
      "for k=2:n\n",
      "    X(k)=beta*A(k)+alpha*X(k-1);\n",
      "end\n",
      "```\n",
      "```\n",
      ">> tic, X=fexpma(A,0.9); toc\n",
      "Elapsed time is 0.320976 seconds.\n",
      "```"
     ]
    },
    {
     "cell_type": "markdown",
     "metadata": {},
     "source": [
      "## Plotting the moving average\n",
      "\n",
      "Let us plot the data $A$ and its exponential moving average $X$. The dimension of the data is too large for meaningful direct plot. In `Julia` we can use `@manipulate` command to slide through the data. It takes a while to read packages `Winston` (for plotting) and `Interact`, but this is needed only for the first invocation."
     ]
    },
    {
     "cell_type": "code",
     "collapsed": false,
     "input": [
      "using Winston\n",
      "using Interact"
     ],
     "language": "python",
     "metadata": {},
     "outputs": [],
     "prompt_number": 18
    },
    {
     "cell_type": "code",
     "collapsed": false,
     "input": [
      "@manipulate for k=1:1000:20000000\n",
      "    plot([k:k+1000],A[k:k+1000],\"r.\",[k:k+1000],X[k:k+1000],\"b\")\n",
      "end"
     ],
     "language": "python",
     "metadata": {},
     "outputs": [
      {
       "html": [],
       "metadata": {},
       "output_type": "display_data",
       "text": [
        "Slider{Int64}([Input{Int64}] 9999001,\"k\",9999001,1:1000:19999001)"
       ]
      },
      {
       "metadata": {
        "comm_id": "dd3a2ba2-620c-44f2-b3bf-37c7477561e1",
        "reactive": true
       },
       "output_type": "pyout",
       "png": "[encoded data removed]",
       "prompt_number": 19,
       "text": [
        "FramedPlot(...)"
       ]
      }
     ],
     "prompt_number": 19
    },
    {
     "cell_type": "markdown",
     "metadata": {},
     "source": [
      "### Remark\n",
      "More details about optimizing your programs are given in the [Profiling Notebook]().\n",
      "Plotting is described in the [Plotting Notebook](). `@manipulate` command is described in the [Interactive Notebook]()."
     ]
    },
    {
     "cell_type": "markdown",
     "metadata": {},
     "source": [
      "## Pre-allocating output\n",
      "\n",
      "The following example is from [Pre-allocating outputs](http://julia.readthedocs.org/en/latest/manual/performance-tips/#pre-allocating-outputs). The functions `loopinc()` and `loopinc_prealloc()` both compute $\\sum_{i=2}^{10000001}i$, the second one being almost 40 times faster: "
     ]
    },
    {
     "cell_type": "code",
     "collapsed": false,
     "input": [
      "function xinc(x)\n",
      "    return [x, x+1, x+2]\n",
      "end\n",
      "\n",
      "function loopinc()\n",
      "    y = 0\n",
      "    for i = 1:10^7\n",
      "        ret = xinc(i)\n",
      "        y += ret[2]\n",
      "    end\n",
      "    y\n",
      "end\n",
      "\n",
      "function xinc!{T}(ret::AbstractVector{T}, x::T)\n",
      "    ret[1] = x\n",
      "    ret[2] = x+1\n",
      "    ret[3] = x+2\n",
      "    nothing\n",
      "end\n",
      "\n",
      "function loopinc_prealloc()\n",
      "    ret = Array(Int, 3)\n",
      "    y = 0\n",
      "    for i = 1:10^7\n",
      "        xinc!(ret, i)\n",
      "        y += ret[2]\n",
      "    end\n",
      "    y\n",
      "end"
     ],
     "language": "python",
     "metadata": {},
     "outputs": [
      {
       "metadata": {},
       "output_type": "pyout",
       "prompt_number": 20,
       "text": [
        "loopinc_prealloc (generic function with 1 method)"
       ]
      }
     ],
     "prompt_number": 20
    },
    {
     "cell_type": "code",
     "collapsed": false,
     "input": [
      "@time loopinc()"
     ],
     "language": "python",
     "metadata": {},
     "outputs": [
      {
       "output_type": "stream",
       "stream": "stdout",
       "text": [
        "elapsed time: 1"
       ]
      },
      {
       "output_type": "stream",
       "stream": "stdout",
       "text": [
        ".754455807 seconds (1280396756 bytes allocated, 69.09% gc time)\n"
       ]
      },
      {
       "metadata": {},
       "output_type": "pyout",
       "prompt_number": 21,
       "text": [
        "50000015000000"
       ]
      }
     ],
     "prompt_number": 21
    },
    {
     "cell_type": "code",
     "collapsed": false,
     "input": [
      "@time loopinc_prealloc() # After the second run"
     ],
     "language": "python",
     "metadata": {},
     "outputs": [
      {
       "output_type": "stream",
       "stream": "stdout",
       "text": [
        "elapsed time: 0."
       ]
      },
      {
       "output_type": "stream",
       "stream": "stdout",
       "text": [
        "040640377 seconds (176 bytes allocated)\n"
       ]
      },
      {
       "metadata": {},
       "output_type": "pyout",
       "prompt_number": 23,
       "text": [
        "50000015000000"
       ]
      }
     ],
     "prompt_number": 23
    },
    {
     "cell_type": "markdown",
     "metadata": {},
     "source": [
      "## Memory access\n",
      "\n",
      "The following example is from [Access arrays in memory order, along columns](http://julia.readthedocs.org/en/latest/manual/performance-tips/#access-arrays-in-memory-order-along-columns).\n",
      "\n",
      "Multidimensional arrays in Julia are stored in column-major order, which means that arrays are stacked one column at a time. This convention for ordering arrays is common in many languages like Fortran, Matlab, and R (to name a few). The alternative to column-major ordering is row-major ordering, which is the convention adopted by C and Python (numpy) among other languages. The ordering can be verified using the `vec()` function or the syntax `[:]`:"
     ]
    },
    {
     "cell_type": "code",
     "collapsed": false,
     "input": [
      "B = rand(0:9,4,3)"
     ],
     "language": "python",
     "metadata": {},
     "outputs": [
      {
       "metadata": {},
       "output_type": "pyout",
       "prompt_number": 24,
       "text": [
        "4x3 Array{Int64,2}:\n",
        " 1  0  3\n",
        " 8  4  7\n",
        " 1  8  4\n",
        " 2  6  5"
       ]
      }
     ],
     "prompt_number": 24
    },
    {
     "cell_type": "code",
     "collapsed": false,
     "input": [
      "B[:]"
     ],
     "language": "python",
     "metadata": {},
     "outputs": [
      {
       "metadata": {},
       "output_type": "pyout",
       "prompt_number": 25,
       "text": [
        "12-element Array{Int64,1}:\n",
        " 1\n",
        " 8\n",
        " 1\n",
        " 2\n",
        " 0\n",
        " 4\n",
        " 8\n",
        " 6\n",
        " 3\n",
        " 7\n",
        " 4\n",
        " 5"
       ]
      }
     ],
     "prompt_number": 25
    },
    {
     "cell_type": "code",
     "collapsed": false,
     "input": [
      "vec(B)"
     ],
     "language": "python",
     "metadata": {},
     "outputs": [
      {
       "metadata": {},
       "output_type": "pyout",
       "prompt_number": 26,
       "text": [
        "12-element Array{Int64,1}:\n",
        " 1\n",
        " 8\n",
        " 1\n",
        " 2\n",
        " 0\n",
        " 4\n",
        " 8\n",
        " 6\n",
        " 3\n",
        " 7\n",
        " 4\n",
        " 5"
       ]
      }
     ],
     "prompt_number": 26
    },
    {
     "cell_type": "markdown",
     "metadata": {},
     "source": [
      "The ordering of arrays can have significant performance effects when looping over arrays. Loops should be organized such that the subsequent accessed elements are close to each other in physical memory.\n",
      "\n",
      "The following functions accept a `Vector` and and return a square `Array` with the rows or the columns filled with copies of the input vector, respectively."
     ]
    },
    {
     "cell_type": "code",
     "collapsed": false,
     "input": [
      "function copy_cols{T}(x::Vector{T})\n",
      "    n = size(x, 1)\n",
      "    out = Array(eltype(x), n, n)\n",
      "    for i=1:n\n",
      "        out[:, i] = x\n",
      "    end\n",
      "    out\n",
      "end\n",
      "\n",
      "function copy_rows{T}(x::Vector{T})\n",
      "    n = size(x, 1)\n",
      "    out = Array(eltype(x), n, n)\n",
      "    for i=1:n\n",
      "        out[i, :] = x\n",
      "    end\n",
      "    out\n",
      "end"
     ],
     "language": "python",
     "metadata": {},
     "outputs": [
      {
       "metadata": {},
       "output_type": "pyout",
       "prompt_number": 27,
       "text": [
        "copy_rows (generic function with 1 method)"
       ]
      }
     ],
     "prompt_number": 27
    },
    {
     "cell_type": "code",
     "collapsed": false,
     "input": [
      "x=rand(10000) # generate a random vector"
     ],
     "language": "python",
     "metadata": {},
     "outputs": [
      {
       "metadata": {},
       "output_type": "pyout",
       "prompt_number": 28,
       "text": [
        "10000-element Array{Float64,1}:\n",
        " 0.590348\n",
        " 0.364859\n",
        " 0.16114 \n",
        " 0.60592 \n",
        " 0.733788\n",
        " 0.609524\n",
        " 0.65556 \n",
        " 0.925024\n",
        " 0.491193\n",
        " 0.377532\n",
        " 0.817031\n",
        " 0.416168\n",
        " 0.432313\n",
        " \u22ee       \n",
        " 0.178619\n",
        " 0.128051\n",
        " 0.52972 \n",
        " 0.174868\n",
        " 0.710827\n",
        " 0.25289 \n",
        " 0.879075\n",
        " 0.418884\n",
        " 0.833915\n",
        " 0.700312\n",
        " 0.992733\n",
        " 0.775146"
       ]
      }
     ],
     "prompt_number": 28
    },
    {
     "cell_type": "code",
     "collapsed": false,
     "input": [
      "@time C=copy_cols(x)  # We generate a large matrix"
     ],
     "language": "python",
     "metadata": {},
     "outputs": [
      {
       "output_type": "stream",
       "stream": "stdout",
       "text": [
        "elapsed time: 0."
       ]
      },
      {
       "output_type": "stream",
       "stream": "stdout",
       "text": [
        "143762357 seconds (800000128 bytes allocated)\n"
       ]
      },
      {
       "metadata": {},
       "output_type": "pyout",
       "prompt_number": 30,
       "text": [
        "10000x10000 Array{Float64,2}:\n",
        " 0.590348  0.590348  0.590348  0.590348  \u2026  0.590348  0.590348  0.590348\n",
        " 0.364859  0.364859  0.364859  0.364859     0.364859  0.364859  0.364859\n",
        " 0.16114   0.16114   0.16114   0.16114      0.16114   0.16114   0.16114 \n",
        " 0.60592   0.60592   0.60592   0.60592      0.60592   0.60592   0.60592 \n",
        " 0.733788  0.733788  0.733788  0.733788     0.733788  0.733788  0.733788\n",
        " 0.609524  0.609524  0.609524  0.609524  \u2026  0.609524  0.609524  0.609524\n",
        " 0.65556   0.65556   0.65556   0.65556      0.65556   0.65556   0.65556 \n",
        " 0.925024  0.925024  0.925024  0.925024     0.925024  0.925024  0.925024\n",
        " 0.491193  0.491193  0.491193  0.491193     0.491193  0.491193  0.491193\n",
        " 0.377532  0.377532  0.377532  0.377532     0.377532  0.377532  0.377532\n",
        " 0.817031  0.817031  0.817031  0.817031  \u2026  0.817031  0.817031  0.817031\n",
        " 0.416168  0.416168  0.416168  0.416168     0.416168  0.416168  0.416168\n",
        " 0.432313  0.432313  0.432313  0.432313     0.432313  0.432313  0.432313\n",
        " \u22ee                                       \u22f1                              \n",
        " 0.178619  0.178619  0.178619  0.178619     0.178619  0.178619  0.178619\n",
        " 0.128051  0.128051  0.128051  0.128051     0.128051  0.128051  0.128051\n",
        " 0.52972   0.52972   0.52972   0.52972   \u2026  0.52972   0.52972   0.52972 \n",
        " 0.174868  0.174868  0.174868  0.174868     0.174868  0.174868  0.174868\n",
        " 0.710827  0.710827  0.710827  0.710827     0.710827  0.710827  0.710827\n",
        " 0.25289   0.25289   0.25289   0.25289      0.25289   0.25289   0.25289 \n",
        " 0.879075  0.879075  0.879075  0.879075     0.879075  0.879075  0.879075\n",
        " 0.418884  0.418884  0.418884  0.418884  \u2026  0.418884  0.418884  0.418884\n",
        " 0.833915  0.833915  0.833915  0.833915     0.833915  0.833915  0.833915\n",
        " 0.700312  0.700312  0.700312  0.700312     0.700312  0.700312  0.700312\n",
        " 0.992733  0.992733  0.992733  0.992733     0.992733  0.992733  0.992733\n",
        " 0.775146  0.775146  0.775146  0.775146     0.775146  0.775146  0.775146"
       ]
      }
     ],
     "prompt_number": 30
    },
    {
     "cell_type": "code",
     "collapsed": false,
     "input": [
      "@time D=copy_rows(x) # This is several times slower"
     ],
     "language": "python",
     "metadata": {},
     "outputs": [
      {
       "output_type": "stream",
       "stream": "stdout",
       "text": [
        "elapsed time: 0."
       ]
      },
      {
       "output_type": "stream",
       "stream": "stdout",
       "text": [
        "859811083 seconds (800000128 bytes allocated)\n"
       ]
      },
      {
       "metadata": {},
       "output_type": "pyout",
       "prompt_number": 32,
       "text": [
        "10000x10000 Array{Float64,2}:\n",
        " 0.590348  0.364859  0.16114  0.60592  \u2026  0.700312  0.992733  0.775146\n",
        " 0.590348  0.364859  0.16114  0.60592     0.700312  0.992733  0.775146\n",
        " 0.590348  0.364859  0.16114  0.60592     0.700312  0.992733  0.775146\n",
        " 0.590348  0.364859  0.16114  0.60592     0.700312  0.992733  0.775146\n",
        " 0.590348  0.364859  0.16114  0.60592     0.700312  0.992733  0.775146\n",
        " 0.590348  0.364859  0.16114  0.60592  \u2026  0.700312  0.992733  0.775146\n",
        " 0.590348  0.364859  0.16114  0.60592     0.700312  0.992733  0.775146\n",
        " 0.590348  0.364859  0.16114  0.60592     0.700312  0.992733  0.775146\n",
        " 0.590348  0.364859  0.16114  0.60592     0.700312  0.992733  0.775146\n",
        " 0.590348  0.364859  0.16114  0.60592     0.700312  0.992733  0.775146\n",
        " 0.590348  0.364859  0.16114  0.60592  \u2026  0.700312  0.992733  0.775146\n",
        " 0.590348  0.364859  0.16114  0.60592     0.700312  0.992733  0.775146\n",
        " 0.590348  0.364859  0.16114  0.60592     0.700312  0.992733  0.775146\n",
        " \u22ee                                     \u22f1                              \n",
        " 0.590348  0.364859  0.16114  0.60592     0.700312  0.992733  0.775146\n",
        " 0.590348  0.364859  0.16114  0.60592     0.700312  0.992733  0.775146\n",
        " 0.590348  0.364859  0.16114  0.60592  \u2026  0.700312  0.992733  0.775146\n",
        " 0.590348  0.364859  0.16114  0.60592     0.700312  0.992733  0.775146\n",
        " 0.590348  0.364859  0.16114  0.60592     0.700312  0.992733  0.775146\n",
        " 0.590348  0.364859  0.16114  0.60592     0.700312  0.992733  0.775146\n",
        " 0.590348  0.364859  0.16114  0.60592     0.700312  0.992733  0.775146\n",
        " 0.590348  0.364859  0.16114  0.60592  \u2026  0.700312  0.992733  0.775146\n",
        " 0.590348  0.364859  0.16114  0.60592     0.700312  0.992733  0.775146\n",
        " 0.590348  0.364859  0.16114  0.60592     0.700312  0.992733  0.775146\n",
        " 0.590348  0.364859  0.16114  0.60592     0.700312  0.992733  0.775146\n",
        " 0.590348  0.364859  0.16114  0.60592     0.700312  0.992733  0.775146"
       ]
      }
     ],
     "prompt_number": 32
    },
    {
     "cell_type": "markdown",
     "metadata": {},
     "source": [
      "### Remark\n",
      "There is also a built-in function `repmat()`:"
     ]
    },
    {
     "cell_type": "code",
     "collapsed": false,
     "input": [
      "help(repmat)"
     ],
     "language": "python",
     "metadata": {},
     "outputs": [
      {
       "output_type": "stream",
       "stream": "stdout",
       "text": [
        "Base.repmat(A, n, m)\n",
        "\n",
        "   Construct a matrix by repeating the given matrix \"n\" times in\n",
        "   dimension 1 and \"m\" times in dimension 2.\n"
       ]
      }
     ],
     "prompt_number": 33
    },
    {
     "cell_type": "code",
     "collapsed": false,
     "input": [
      "@time C1=repmat(x,1,10000)"
     ],
     "language": "python",
     "metadata": {},
     "outputs": [
      {
       "output_type": "stream",
       "stream": "stdout",
       "text": [
        "elapsed time: 1"
       ]
      },
      {
       "output_type": "stream",
       "stream": "stdout",
       "text": [
        ".833385574 seconds (801393244 bytes allocated, 2.12% gc time)\n"
       ]
      },
      {
       "metadata": {},
       "output_type": "pyout",
       "prompt_number": 34,
       "text": [
        "10000x10000 Array{Float64,2}:\n",
        " 0.590348  0.590348  0.590348  0.590348  \u2026  0.590348  0.590348  0.590348\n",
        " 0.364859  0.364859  0.364859  0.364859     0.364859  0.364859  0.364859\n",
        " 0.16114   0.16114   0.16114   0.16114      0.16114   0.16114   0.16114 \n",
        " 0.60592   0.60592   0.60592   0.60592      0.60592   0.60592   0.60592 \n",
        " 0.733788  0.733788  0.733788  0.733788     0.733788  0.733788  0.733788\n",
        " 0.609524  0.609524  0.609524  0.609524  \u2026  0.609524  0.609524  0.609524\n",
        " 0.65556   0.65556   0.65556   0.65556      0.65556   0.65556   0.65556 \n",
        " 0.925024  0.925024  0.925024  0.925024     0.925024  0.925024  0.925024\n",
        " 0.491193  0.491193  0.491193  0.491193     0.491193  0.491193  0.491193\n",
        " 0.377532  0.377532  0.377532  0.377532     0.377532  0.377532  0.377532\n",
        " 0.817031  0.817031  0.817031  0.817031  \u2026  0.817031  0.817031  0.817031\n",
        " 0.416168  0.416168  0.416168  0.416168     0.416168  0.416168  0.416168\n",
        " 0.432313  0.432313  0.432313  0.432313     0.432313  0.432313  0.432313\n",
        " \u22ee                                       \u22f1                              \n",
        " 0.178619  0.178619  0.178619  0.178619     0.178619  0.178619  0.178619\n",
        " 0.128051  0.128051  0.128051  0.128051     0.128051  0.128051  0.128051\n",
        " 0.52972   0.52972   0.52972   0.52972   \u2026  0.52972   0.52972   0.52972 \n",
        " 0.174868  0.174868  0.174868  0.174868     0.174868  0.174868  0.174868\n",
        " 0.710827  0.710827  0.710827  0.710827     0.710827  0.710827  0.710827\n",
        " 0.25289   0.25289   0.25289   0.25289      0.25289   0.25289   0.25289 \n",
        " 0.879075  0.879075  0.879075  0.879075     0.879075  0.879075  0.879075\n",
        " 0.418884  0.418884  0.418884  0.418884  \u2026  0.418884  0.418884  0.418884\n",
        " 0.833915  0.833915  0.833915  0.833915     0.833915  0.833915  0.833915\n",
        " 0.700312  0.700312  0.700312  0.700312     0.700312  0.700312  0.700312\n",
        " 0.992733  0.992733  0.992733  0.992733     0.992733  0.992733  0.992733\n",
        " 0.775146  0.775146  0.775146  0.775146     0.775146  0.775146  0.775146"
       ]
      }
     ],
     "prompt_number": 34
    },
    {
     "cell_type": "code",
     "collapsed": false,
     "input": [],
     "language": "python",
     "metadata": {},
     "outputs": []
    }
   ],
   "metadata": {}
  }
 ]
}