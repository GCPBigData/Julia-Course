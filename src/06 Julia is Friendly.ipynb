{
 "metadata": {
  "language": "Julia",
  "name": "",
  "signature": "sha256:90655b59e89442f5a4af9f5747ce31303ce8075f07c9baa0fd7612d564e05bae"
 },
 "nbformat": 3,
 "nbformat_minor": 0,
 "worksheets": [
  {
   "cells": [
    {
     "cell_type": "markdown",
     "metadata": {},
     "source": [
      "# Julia is Friendly - `run()` and `ccall()`\n",
      "\n",
      "In this notebook, we show how to call external programs and program written in `C`, `Fortran` and `Python`.\n",
      "\n",
      "## Prerequisites\n",
      "\n",
      "Basic knowledge of programming in any language.\n",
      "\n",
      "\n",
      "\n",
      "Read [Calling C and Fortran Code](http://julia.readthedocs.org/en/latest/manual/calling-c-and-fortran-code/)  section of the `Julia` manual. (30 min)\n",
      "\n",
      "## Competences \n",
      "\n",
      "The reader should be able to call external (shell) programs and programs written in other languages.\n",
      "\n",
      "## Credits \n",
      "\n",
      "Some examples are taken from [The Julia Manual](http://julia.readthedocs.org/en/latest/manual/).\n",
      "\n",
      "---"
     ]
    },
    {
     "cell_type": "markdown",
     "metadata": {},
     "source": [
      "## `run()` and `runall()`\n",
      "\n",
      "The first line simply creates the `Cmd` type (Command). The `run()` command executes it. We can aslo execute a `Cmd` variable.\n",
      "\n",
      "We can also use `readall()` function to read the output of the external command. `chomp()` eliminates the newline symbol."
     ]
    },
    {
     "cell_type": "code",
     "collapsed": false,
     "input": [
      "`echo hello`"
     ],
     "language": "python",
     "metadata": {},
     "outputs": [
      {
       "metadata": {},
       "output_type": "pyout",
       "prompt_number": 3,
       "text": [
        "`echo hello`"
       ]
      }
     ],
     "prompt_number": 3
    },
    {
     "cell_type": "code",
     "collapsed": false,
     "input": [
      "typeof(ans)"
     ],
     "language": "python",
     "metadata": {},
     "outputs": [
      {
       "metadata": {},
       "output_type": "pyout",
       "prompt_number": 4,
       "text": [
        "Cmd"
       ]
      }
     ],
     "prompt_number": 4
    },
    {
     "cell_type": "code",
     "collapsed": false,
     "input": [
      "run(`echo hello`)"
     ],
     "language": "python",
     "metadata": {},
     "outputs": [
      {
       "output_type": "stream",
       "stream": "stdout",
       "text": [
        "hello\n"
       ]
      }
     ],
     "prompt_number": 2
    },
    {
     "cell_type": "code",
     "collapsed": false,
     "input": [
      "c1=`echo hello`\n",
      "run(c1)"
     ],
     "language": "python",
     "metadata": {},
     "outputs": [
      {
       "output_type": "stream",
       "stream": "stdout",
       "text": [
        "hello\n"
       ]
      }
     ],
     "prompt_number": 5
    },
    {
     "cell_type": "code",
     "collapsed": false,
     "input": [
      "help(readall)"
     ],
     "language": "python",
     "metadata": {},
     "outputs": [
      {
       "output_type": "stream",
       "stream": "stdout",
       "text": [
        "Base.readall(stream::IO)\n",
        "\n",
        "   Read the entire contents of an I/O stream as a string.\n"
       ]
      },
      {
       "output_type": "stream",
       "stream": "stdout",
       "text": [
        "\n",
        "Base.readall(filename::AbstractString)\n",
        "\n",
        "   Open \"filename\", read the entire contents as a string, then close\n",
        "   the file. Equivalent to \"open(readall, filename)\".\n"
       ]
      }
     ],
     "prompt_number": 12
    },
    {
     "cell_type": "code",
     "collapsed": false,
     "input": [
      "c2=readall(c1)"
     ],
     "language": "python",
     "metadata": {},
     "outputs": [
      {
       "metadata": {},
       "output_type": "pyout",
       "prompt_number": 13,
       "text": [
        "\"hello\\n\""
       ]
      }
     ],
     "prompt_number": 13
    },
    {
     "cell_type": "code",
     "collapsed": false,
     "input": [
      "help(chomp)"
     ],
     "language": "python",
     "metadata": {},
     "outputs": [
      {
       "output_type": "stream",
       "stream": "stdout",
       "text": [
        "Base.chomp(string)\n",
        "\n",
        "   Remove a trailing newline from a string\n"
       ]
      }
     ],
     "prompt_number": 14
    },
    {
     "cell_type": "code",
     "collapsed": false,
     "input": [
      "chomp(c2)"
     ],
     "language": "python",
     "metadata": {},
     "outputs": [
      {
       "metadata": {},
       "output_type": "pyout",
       "prompt_number": 15,
       "text": [
        "\"hello\""
       ]
      }
     ],
     "prompt_number": 15
    },
    {
     "cell_type": "markdown",
     "metadata": {},
     "source": [
      "More generally, you can use `open()` to read from or write to an external command. For example:"
     ]
    },
    {
     "cell_type": "code",
     "collapsed": false,
     "input": [
      "help(open)"
     ],
     "language": "python",
     "metadata": {},
     "outputs": [
      {
       "output_type": "stream",
       "stream": "stdout",
       "text": [
        "Base.open(file_name[, read, write, create, truncate, append]) -> IOStream\n",
        "\n",
        "   Open a file in a mode specified by five boolean arguments. The\n",
        "   default is to open files for reading only. Returns a stream for\n",
        "   accessing the file.\n"
       ]
      },
      {
       "output_type": "stream",
       "stream": "stdout",
       "text": [
        "\n",
        "Base.open(file_name[, mode]) -> IOStream\n",
        "\n",
        "   Alternate syntax for open, where a string-based mode specifier is\n",
        "   used instead of the five booleans. The values of \"mode\"\n",
        "   correspond to those from \"fopen(3)\" or Perl \"open\", and are\n",
        "   equivalent to setting the following boolean groups:\n",
        "\n",
        "   +------+-----------------------------------+\n",
        "   | r    | read                              |\n",
        "   +------+-----------------------------------+\n",
        "   | r+   | read, write                       |\n",
        "   +------+-----------------------------------+\n",
        "   | w    | write, create, truncate           |\n",
        "   +------+-----------------------------------+\n",
        "   | w+   | read, write, create, truncate     |\n",
        "   +------+-----------------------------------+\n",
        "   | a    | write, create, append             |\n",
        "   +------+-----------------------------------+\n",
        "   | a+   | read, write, create, append       |\n",
        "   +------+-----------------------------------+\n",
        "\n",
        "Base.open(f::function, args...)\n",
        "\n",
        "   Apply the function \"f\" to the result of \"open(args...)\" and\n",
        "   close the resulting file descriptor upon completion.\n",
        "\n",
        "   **Example**: \"open(readall, \"file.txt\")\"\n",
        "\n",
        "Base.open(command, mode::AbstractString=\"r\", stdio=DevNull)\n",
        "\n",
        "   Start running \"command\" asynchronously, and return a tuple\n",
        "   \"(stream,process)\".  If \"mode\" is \"\"r\"\", then \"stream\"\n",
        "   reads from the process's standard output and \"stdio\" optionally\n",
        "   specifies the process's standard input stream.  If \"mode\" is\n",
        "   \"\"w\"\", then \"stream\" writes to the process's standard input\n",
        "   and \"stdio\" optionally specifies the process's standard output\n",
        "   stream.\n",
        "\n",
        "Base.open(f::Function, command, mode::AbstractString=\"r\", stdio=DevNull)\n",
        "\n",
        "   Similar to \"open(command, mode, stdio)\", but calls \"f(stream)\"\n",
        "   on the resulting read or write stream, then closes the stream and\n",
        "   waits for the process to complete.  Returns the value returned by\n",
        "   \"f\".\n"
       ]
      }
     ],
     "prompt_number": 20
    },
    {
     "cell_type": "code",
     "collapsed": false,
     "input": [
      "open(`less`, \"w\", STDOUT) do io\n",
      "    for i = 1:14\n",
      "        println(io, i)\n",
      "    end\n",
      "end"
     ],
     "language": "python",
     "metadata": {},
     "outputs": [
      {
       "output_type": "stream",
       "stream": "stdout",
       "text": [
        "1\n",
        "2\n",
        "3\n",
        "4\n",
        "5\n",
        "6\n",
        "7\n",
        "8\n",
        "9\n",
        "10\n",
        "11\n",
        "12\n",
        "13\n",
        "14\n"
       ]
      }
     ],
     "prompt_number": 35
    },
    {
     "cell_type": "code",
     "collapsed": false,
     "input": [],
     "language": "python",
     "metadata": {},
     "outputs": [
      {
       "metadata": {},
       "output_type": "pyout",
       "prompt_number": 31,
       "text": [
        "0-element Array{Any,1}"
       ]
      }
     ],
     "prompt_number": 31
    },
    {
     "cell_type": "code",
     "collapsed": false,
     "input": [
      "files = [\"/etc/passwd\",\"/Volumes/External HD/data.csv\"]"
     ],
     "language": "python",
     "metadata": {},
     "outputs": [
      {
       "metadata": {},
       "output_type": "pyout",
       "prompt_number": 36,
       "text": [
        "2-element Array{ASCIIString,1}:\n",
        " \"/etc/passwd\"                  \n",
        " \"/Volumes/External HD/data.csv\""
       ]
      }
     ],
     "prompt_number": 36
    },
    {
     "cell_type": "code",
     "collapsed": false,
     "input": [
      "`grep foo $files`"
     ],
     "language": "python",
     "metadata": {},
     "outputs": [
      {
       "metadata": {},
       "output_type": "pyout",
       "prompt_number": 37,
       "text": [
        "`grep foo /etc/passwd '/Volumes/External HD/data.csv'`"
       ]
      }
     ],
     "prompt_number": 37
    },
    {
     "cell_type": "code",
     "collapsed": false,
     "input": [
      "run(ans) # The error is expected since there is no such file"
     ],
     "language": "python",
     "metadata": {},
     "outputs": [
      {
       "output_type": "stream",
       "stream": "stderr",
       "text": [
        "grep: "
       ]
      },
      {
       "output_type": "stream",
       "stream": "stderr",
       "text": [
        "/Volumes/External HD/data.csv: No such file or directory\n"
       ]
      },
      {
       "ename": "LoadError",
       "evalue": "failed process: Process(`grep foo /etc/passwd '/Volumes/External HD/data.csv'`, ProcessExited(2)) [2]\nwhile loading In[40], in expression starting on line 1",
       "output_type": "pyerr",
       "traceback": [
        "failed process: Process(`grep foo /etc/passwd '/Volumes/External HD/data.csv'`, ProcessExited(2)) [2]\nwhile loading In[40], in expression starting on line 1",
        ""
       ]
      }
     ],
     "prompt_number": 40
    },
    {
     "cell_type": "code",
     "collapsed": false,
     "input": [
      "?\"ccall\""
     ],
     "language": "python",
     "metadata": {},
     "outputs": [
      {
       "ename": "LoadError",
       "evalue": "ccall not defined\nwhile loading In[45], in expression starting on line 355",
       "output_type": "pyerr",
       "traceback": [
        "ccall not defined\nwhile loading In[45], in expression starting on line 355",
        "",
        " in doc at docs.jl:36"
       ]
      }
     ],
     "prompt_number": 45
    },
    {
     "cell_type": "code",
     "collapsed": false,
     "input": [
      "help(methods)"
     ],
     "language": "python",
     "metadata": {},
     "outputs": [
      {
       "output_type": "stream",
       "stream": "stdout",
       "text": [
        "Base.methods(f[, types])\n",
        "\n",
        "   Show all methods of \"f\" with their argument types.\n",
        "\n",
        "   If \"types\" is specified, an array of methods whose types match is\n",
        "   returned.\n"
       ]
      }
     ],
     "prompt_number": 47
    },
    {
     "cell_type": "code",
     "collapsed": false,
     "input": [],
     "language": "python",
     "metadata": {},
     "outputs": []
    }
   ],
   "metadata": {}
  }
 ]
}