{
 "metadata": {
  "language": "Julia",
  "name": "",
  "signature": "sha256:00e0304d3cb27551ce44b91bbb1acf0566549b4a9c573bbfec1fcb9ddc405229"
 },
 "nbformat": 3,
 "nbformat_minor": 0,
 "worksheets": [
  {
   "cells": [
    {
     "cell_type": "markdown",
     "metadata": {},
     "source": [
      "# Using Packages\n",
      "\n",
      "namespace, import, using, Pkg.add(), Pkg.build(), version, Pkg.update()"
     ]
    },
    {
     "cell_type": "code",
     "collapsed": false,
     "input": [],
     "language": "python",
     "metadata": {},
     "outputs": []
    }
   ],
   "metadata": {}
  }
 ]
}