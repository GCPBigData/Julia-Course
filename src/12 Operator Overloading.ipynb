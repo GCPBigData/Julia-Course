{
 "metadata": {
  "language": "Julia",
  "name": "",
  "signature": "sha256:fad2d50386ee9e586e15db9e2e9434dea445fbbe9dabc39637a28d2e84e2bd95"
 },
 "nbformat": 3,
 "nbformat_minor": 0,
 "worksheets": [
  {
   "cells": [
    {
     "cell_type": "markdown",
     "metadata": {},
     "source": [
      "# Operator Overloading\n",
      "\n",
      "---"
     ]
    },
    {
     "cell_type": "code",
     "collapsed": false,
     "input": [
      "@which 2.0+3.0"
     ],
     "language": "python",
     "metadata": {},
     "outputs": [
      {
       "html": [
        "+(x::<b>Float64</b>,y::<b>Float64</b>) at <a href=\"https://github.com/JuliaLang/julia/tree/f2b5a11d48d1607326a6659d951ac0e2d9661df8/base/float.jl#L190\" target=\"_blank\">float.jl:190</a>"
       ],
       "metadata": {},
       "output_type": "pyout",
       "prompt_number": 2,
       "text": [
        "+(x::Float64,y::Float64) at float.jl:190"
       ]
      }
     ],
     "prompt_number": 2
    },
    {
     "cell_type": "code",
     "collapsed": false,
     "input": [
      "+(2.0,3.0)"
     ],
     "language": "python",
     "metadata": {},
     "outputs": [
      {
       "metadata": {},
       "output_type": "pyout",
       "prompt_number": 3,
       "text": [
        "5.0"
       ]
      }
     ],
     "prompt_number": 3
    },
    {
     "cell_type": "code",
     "collapsed": false,
     "input": [
      "Base.(:+)(x::Float64, y::Float64) = Base.add_float(2.0x, y)"
     ],
     "language": "python",
     "metadata": {},
     "outputs": [
      {
       "output_type": "stream",
       "stream": "stderr",
       "text": [
        "Warning: Method definition +(Float64"
       ]
      },
      {
       "output_type": "stream",
       "stream": "stderr",
       "text": [
        ",Float64) in module Base at float.jl:190 overwritten in module Main at In[4]:1.\n"
       ]
      },
      {
       "metadata": {},
       "output_type": "pyout",
       "prompt_number": 4,
       "text": [
        "+ (generic function with 149 methods)"
       ]
      }
     ],
     "prompt_number": 4
    },
    {
     "cell_type": "code",
     "collapsed": false,
     "input": [
      "+(2.0,3.0)"
     ],
     "language": "python",
     "metadata": {},
     "outputs": [
      {
       "metadata": {},
       "output_type": "pyout",
       "prompt_number": 5,
       "text": [
        "7.0"
       ]
      }
     ],
     "prompt_number": 5
    },
    {
     "cell_type": "code",
     "collapsed": false,
     "input": [
      "myplus(x::Float64, y::Float64) = add_float(2.0x, y)\n",
      "Base.(:+)(x::Float64, y::Float64) = Base.add_float(2.0x, y)"
     ],
     "language": "python",
     "metadata": {},
     "outputs": [
      {
       "output_type": "stream",
       "stream": "stderr",
       "text": [
        "Warning: Method definition +(Float64"
       ]
      },
      {
       "output_type": "stream",
       "stream": "stderr",
       "text": [
        ",Float64) in module Base at float.jl:190 overwritten in module Main at In[1]:2.\n"
       ]
      },
      {
       "metadata": {},
       "output_type": "pyout",
       "prompt_number": 1,
       "text": [
        "+ (generic function with 149 methods)"
       ]
      }
     ],
     "prompt_number": 1
    },
    {
     "cell_type": "code",
     "collapsed": false,
     "input": [
      "+(2.0,3.0)"
     ],
     "language": "python",
     "metadata": {},
     "outputs": [
      {
       "metadata": {},
       "output_type": "pyout",
       "prompt_number": 2,
       "text": [
        "7.0"
       ]
      }
     ],
     "prompt_number": 2
    },
    {
     "cell_type": "code",
     "collapsed": false,
     "input": [],
     "language": "python",
     "metadata": {},
     "outputs": []
    }
   ],
   "metadata": {}
  }
 ]
}