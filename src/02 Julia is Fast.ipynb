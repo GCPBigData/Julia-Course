{
 "cells": [
  {
   "cell_type": "markdown",
   "metadata": {},
   "source": [
    "# Julia is Fast - `@time`, `@elapsed` and `@inbounds`\n",
    "\n",
    "---\n",
    "\n",
    "In this notebook, we demonstrate how fast `Julia` is, compared to other dynamically typed languages. \n",
    "\n",
    "## Prerequisites\n",
    "\n",
    "Read the text [Why Julia?](https://github.com/stevengj/julia-mit/blob/master/README.md#why-julia) (3 min)\n",
    "\n",
    "Read [Performance tips](https://docs.julialang.org/en/stable/manual/performance-tips/) section of the `Julia` manual. (20 min) \n",
    "\n",
    "## Competences \n",
    "\n",
    "The reader should understand effects of \"[just-in-time\n",
    "compiler](https://en.wikipedia.org/wiki/Just-in-time_compilation)\"\n",
    "called [LLVM](http://llvm.org/) on the speed of execution of programs. \n",
    "The reader should be able to write simple, but fast, programs containing loops.\n",
    "\n",
    "## Credits \n",
    "\n",
    "Some examples are taken from [The Julia Manual](https://docs.julialang.org/en/stable/).\n"
   ]
  },
  {
   "cell_type": "markdown",
   "metadata": {},
   "source": [
    "## Scholarly example - summing integer halves\n",
    "\n",
    "Consider the function `f` which sums halves of integers from `1` to `n`:\n",
    "\n",
    "__N.B.__ `Esc l` toggles line numbers in the current cell."
   ]
  },
  {
   "cell_type": "code",
   "execution_count": 1,
   "metadata": {},
   "outputs": [
    {
     "data": {
      "text/plain": [
       "f (generic function with 1 method)"
      ]
     },
     "execution_count": 1,
     "metadata": {},
     "output_type": "execute_result"
    }
   ],
   "source": [
    "function f(n)\n",
    "    s = 0\n",
    "    for i = 1:n\n",
    "        s += i/2\n",
    "    end\n",
    "    s\n",
    "end"
   ]
  },
  {
   "cell_type": "markdown",
   "metadata": {},
   "source": [
    "In order for the fast execution, the function must first be compiled. Compilation is performed automatically, when the function is invoked for the first time. Therefore, the first call can be done with some trivial choice of parameters.\n",
    "\n",
    "The timing can be done by two commands, `@time` and `@elapsed`: "
   ]
  },
  {
   "cell_type": "code",
   "execution_count": 2,
   "metadata": {},
   "outputs": [
    {
     "data": {
      "text/markdown": [
       "```\n",
       "@time\n",
       "```\n",
       "\n",
       "A macro to execute an expression, printing the time it took to execute, the number of allocations, and the total number of bytes its execution caused to be allocated, before returning the value of the expression.\n",
       "\n",
       "See also [`@timev`](@ref), [`@timed`](@ref), [`@elapsed`](@ref), and [`@allocated`](@ref).\n",
       "\n",
       "```julia-repl\n",
       "julia> @time rand(10^6);\n",
       "  0.001525 seconds (7 allocations: 7.630 MiB)\n",
       "\n",
       "julia> @time begin\n",
       "           sleep(0.3)\n",
       "           1+1\n",
       "       end\n",
       "  0.301395 seconds (8 allocations: 336 bytes)\n",
       "```\n"
      ],
      "text/plain": [
       "```\n",
       "@time\n",
       "```\n",
       "\n",
       "A macro to execute an expression, printing the time it took to execute, the number of allocations, and the total number of bytes its execution caused to be allocated, before returning the value of the expression.\n",
       "\n",
       "See also [`@timev`](@ref), [`@timed`](@ref), [`@elapsed`](@ref), and [`@allocated`](@ref).\n",
       "\n",
       "```julia-repl\n",
       "julia> @time rand(10^6);\n",
       "  0.001525 seconds (7 allocations: 7.630 MiB)\n",
       "\n",
       "julia> @time begin\n",
       "           sleep(0.3)\n",
       "           1+1\n",
       "       end\n",
       "  0.301395 seconds (8 allocations: 336 bytes)\n",
       "```\n"
      ]
     },
     "execution_count": 2,
     "metadata": {},
     "output_type": "execute_result"
    }
   ],
   "source": [
    "?@time"
   ]
  },
  {
   "cell_type": "code",
   "execution_count": 3,
   "metadata": {},
   "outputs": [
    {
     "data": {
      "text/markdown": [
       "```\n",
       "@elapsed\n",
       "```\n",
       "\n",
       "A macro to evaluate an expression, discarding the resulting value, instead returning the number of seconds it took to execute as a floating-point number.\n",
       "\n",
       "See also [`@time`](@ref), [`@timev`](@ref), [`@timed`](@ref), and [`@allocated`](@ref).\n",
       "\n",
       "```julia-repl\n",
       "julia> @elapsed sleep(0.3)\n",
       "0.301391426\n",
       "```\n"
      ],
      "text/plain": [
       "```\n",
       "@elapsed\n",
       "```\n",
       "\n",
       "A macro to evaluate an expression, discarding the resulting value, instead returning the number of seconds it took to execute as a floating-point number.\n",
       "\n",
       "See also [`@time`](@ref), [`@timev`](@ref), [`@timed`](@ref), and [`@allocated`](@ref).\n",
       "\n",
       "```julia-repl\n",
       "julia> @elapsed sleep(0.3)\n",
       "0.301391426\n",
       "```\n"
      ]
     },
     "execution_count": 3,
     "metadata": {},
     "output_type": "execute_result"
    }
   ],
   "source": [
    "?@elapsed"
   ]
  },
  {
   "cell_type": "code",
   "execution_count": 4,
   "metadata": {},
   "outputs": [
    {
     "name": "stdout",
     "output_type": "stream",
     "text": [
      "  0.023339 seconds (1.63 k allocations: 91.628 KiB)\n"
     ]
    },
    {
     "data": {
      "text/plain": [
       "0.5"
      ]
     },
     "execution_count": 4,
     "metadata": {},
     "output_type": "execute_result"
    }
   ],
   "source": [
    "@time f(1) "
   ]
  },
  {
   "cell_type": "code",
   "execution_count": 5,
   "metadata": {},
   "outputs": [
    {
     "data": {
      "text/plain": [
       "3.265e-6"
      ]
     },
     "execution_count": 5,
     "metadata": {},
     "output_type": "execute_result"
    }
   ],
   "source": [
    "@elapsed f(1)  # This run is much faster, since the function is already compiled"
   ]
  },
  {
   "cell_type": "markdown",
   "metadata": {},
   "source": [
    "Let us now run the big-size computation. Notice the unnaturally high byte allocation and the huge amount of time spent on \n",
    "[garbage collection](http://en.wikipedia.org/wiki/Garbage_collection_%28computer_science%29)."
   ]
  },
  {
   "cell_type": "code",
   "execution_count": 6,
   "metadata": {},
   "outputs": [
    {
     "name": "stdout",
     "output_type": "stream",
     "text": [
      "  0.155975 seconds (3.00 M allocations: 45.777 MiB, 76.26% gc time)\n"
     ]
    },
    {
     "data": {
      "text/plain": [
       "2.5000025e11"
      ]
     },
     "execution_count": 6,
     "metadata": {},
     "output_type": "execute_result"
    }
   ],
   "source": [
    "@time f(1000000) # Notice the unnaturally high byte  allocation!"
   ]
  },
  {
   "cell_type": "code",
   "execution_count": 7,
   "metadata": {},
   "outputs": [
    {
     "data": {
      "text/plain": [
       "0.045321245"
      ]
     },
     "execution_count": 7,
     "metadata": {},
     "output_type": "execute_result"
    }
   ],
   "source": [
    "@elapsed f(1000000) # We shall be using @time from now on"
   ]
  },
  {
   "cell_type": "markdown",
   "metadata": {},
   "source": [
    "> Since your computer can execute several _Gigaflops_ (floating-point operations per second), this is rather slow. This slowness is due to _type instability_: variable `s` is in the beginning assumed to be of type `Integer`, while at every other step, the result is a real number of type `Float64`. Permanent checking of types requires permanent memory allocation and deallocation (garbage collection). This is corrected by very simple means: just declare `s` as a real number, and the execution is more than 10 times faster with almost no memory allocation (and, consequently, no garbage collection)."
   ]
  },
  {
   "cell_type": "code",
   "execution_count": 8,
   "metadata": {},
   "outputs": [
    {
     "data": {
      "text/plain": [
       "f1 (generic function with 1 method)"
      ]
     },
     "execution_count": 8,
     "metadata": {},
     "output_type": "execute_result"
    }
   ],
   "source": [
    "function f1(n)\n",
    "    s = 0.0\n",
    "    for i = 1:n\n",
    "        s += i/2\n",
    "    end\n",
    "    s\n",
    "end"
   ]
  },
  {
   "cell_type": "code",
   "execution_count": 9,
   "metadata": {},
   "outputs": [
    {
     "name": "stdout",
     "output_type": "stream",
     "text": [
      "  0.014894 seconds (1.03 k allocations: 56.616 KiB)\n"
     ]
    },
    {
     "data": {
      "text/plain": [
       "0.5"
      ]
     },
     "execution_count": 9,
     "metadata": {},
     "output_type": "execute_result"
    }
   ],
   "source": [
    "@time f1(1)"
   ]
  },
  {
   "cell_type": "code",
   "execution_count": 10,
   "metadata": {},
   "outputs": [
    {
     "name": "stdout",
     "output_type": "stream",
     "text": [
      "  0.001449 seconds (5 allocations: 176 bytes)\n"
     ]
    },
    {
     "data": {
      "text/plain": [
       "2.5000025e11"
      ]
     },
     "execution_count": 10,
     "metadata": {},
     "output_type": "execute_result"
    }
   ],
   "source": [
    "@time f1(1000000)"
   ]
  },
  {
   "cell_type": "markdown",
   "metadata": {},
   "source": [
    "`@time` can alo be invoked as a function:"
   ]
  },
  {
   "cell_type": "code",
   "execution_count": 11,
   "metadata": {},
   "outputs": [
    {
     "name": "stdout",
     "output_type": "stream",
     "text": [
      "  0.001392 seconds (5 allocations: 176 bytes)\n"
     ]
    },
    {
     "data": {
      "text/plain": [
       "2.5000025e11"
      ]
     },
     "execution_count": 11,
     "metadata": {},
     "output_type": "execute_result"
    }
   ],
   "source": [
    "@time(f1(1000000))"
   ]
  },
  {
   "cell_type": "code",
   "execution_count": 12,
   "metadata": {},
   "outputs": [
    {
     "name": "stdout",
     "output_type": "stream",
     "text": [
      "  0.001453 seconds (6 allocations: 224 bytes)\n"
     ]
    },
    {
     "data": {
      "text/plain": [
       "2.5000025e11"
      ]
     },
     "execution_count": 12,
     "metadata": {},
     "output_type": "execute_result"
    }
   ],
   "source": [
    "@time s2=f1(1000000)"
   ]
  },
  {
   "cell_type": "code",
   "execution_count": 13,
   "metadata": {},
   "outputs": [
    {
     "name": "stdout",
     "output_type": "stream",
     "text": [
      "  0.001458 seconds (5 allocations: 176 bytes)\n"
     ]
    },
    {
     "data": {
      "text/plain": [
       "2.5000025e11"
      ]
     },
     "execution_count": 13,
     "metadata": {},
     "output_type": "execute_result"
    }
   ],
   "source": [
    "@time(s2=f1(1000000))"
   ]
  },
  {
   "cell_type": "markdown",
   "metadata": {},
   "source": [
    "## Real-world example - exponential moving average\n",
    "\n",
    "[Exponential moving average](http://en.wikipedia.org/wiki/Moving_average#Exponential_moving_average) is a fast _one pass_ formula (each data point of the given data set $A$ is accessed only once) often used in high-frequency on-line trading (see [Online Algorithms in High-Frequency Trading](http://cacm.acm.org/magazines/2013/10/168184-online-algorithms-in-high-frequency-trading/fulltext) for more details). __Notice that the output array $X$ is declared in advance.__\n",
    "\n",
    "Using `return` in the last line is here optional.\n"
   ]
  },
  {
   "cell_type": "code",
   "execution_count": 14,
   "metadata": {},
   "outputs": [
    {
     "data": {
      "text/plain": [
       "fexpma (generic function with 1 method)"
      ]
     },
     "execution_count": 14,
     "metadata": {},
     "output_type": "execute_result"
    }
   ],
   "source": [
    "function fexpma{T}( A::Vector{T}, α::T )\n",
    "# fast exponential moving average: X - moving average, \n",
    "# A - data, alpha - exponential forgetting parameter\n",
    "    n = length(A)\n",
    "    X = Array{T}(n) # Declare X\n",
    "    β = one(T)-α\n",
    "    X[1] = A[1]\n",
    "    for k = 2:n\n",
    "        X[k] = β*A[k] + α*X[k-1]\n",
    "    end\n",
    "    return X\n",
    "end\n"
   ]
  },
  {
   "cell_type": "code",
   "execution_count": 15,
   "metadata": {},
   "outputs": [
    {
     "data": {
      "text/plain": [
       "1-element Array{Float64,1}:\n",
       " 1.0"
      ]
     },
     "execution_count": 15,
     "metadata": {},
     "output_type": "execute_result"
    }
   ],
   "source": [
    "fexpma([1.0],0.5) # First run for compilation"
   ]
  },
  {
   "cell_type": "markdown",
   "metadata": {},
   "source": [
    "We now generate some big-size data:"
   ]
  },
  {
   "cell_type": "code",
   "execution_count": 16,
   "metadata": {},
   "outputs": [
    {
     "data": {
      "text/plain": [
       "20000000-element Array{Float64,1}:\n",
       "   0.906011  \n",
       "   0.847433  \n",
       "   0.879683  \n",
       "   0.755661  \n",
       "   0.0775754 \n",
       "   0.421148  \n",
       "   0.0464743 \n",
       "   0.778137  \n",
       "   0.00721821\n",
       "   0.418953  \n",
       "   0.586005  \n",
       "   0.0374836 \n",
       "   0.564048  \n",
       "   ⋮         \n",
       "   7.84059   \n",
       "  94.8636    \n",
       "  14.8886    \n",
       "  44.3863    \n",
       "  48.3706    \n",
       " 104.792     \n",
       "  57.3345    \n",
       " 131.185     \n",
       "  40.7539    \n",
       " 103.683     \n",
       " 190.492     \n",
       "  16.0494    "
      ]
     },
     "execution_count": 16,
     "metadata": {},
     "output_type": "execute_result"
    }
   ],
   "source": [
    "# Big random slightly increasing sequence\n",
    "A=[rand() + 0.00001*k*rand() for k=1:20_000_000]"
   ]
  },
  {
   "cell_type": "code",
   "execution_count": 17,
   "metadata": {},
   "outputs": [
    {
     "name": "stdout",
     "output_type": "stream",
     "text": [
      "  0.265156 seconds (7 allocations: 152.588 MiB, 48.50% gc time)\n"
     ]
    },
    {
     "data": {
      "text/plain": [
       "20000000-element Array{Float64,1}:\n",
       "  0.906011\n",
       "  0.900153\n",
       "  0.898106\n",
       "  0.883862\n",
       "  0.803233\n",
       "  0.765025\n",
       "  0.69317 \n",
       "  0.701666\n",
       "  0.632222\n",
       "  0.610895\n",
       "  0.608406\n",
       "  0.551313\n",
       "  0.552587\n",
       "  ⋮       \n",
       " 98.2532  \n",
       " 97.9142  \n",
       " 89.6116  \n",
       " 85.0891  \n",
       " 81.4173  \n",
       " 83.7548  \n",
       " 81.1127  \n",
       " 86.12    \n",
       " 81.5834  \n",
       " 83.7933  \n",
       " 94.4632  \n",
       " 86.6218  "
      ]
     },
     "execution_count": 17,
     "metadata": {},
     "output_type": "execute_result"
    }
   ],
   "source": [
    "@time X=fexpma(A,0.9)"
   ]
  },
  {
   "cell_type": "markdown",
   "metadata": {},
   "source": [
    "## `@inbounds`\n",
    "\n",
    "The `@inbounds` command eliminates array bounds checking within expressions. Be certain before doing this. If the subscripts are ever out of bounds, you may suffer crashes or silent corruption. The following program runs a little faster:"
   ]
  },
  {
   "cell_type": "code",
   "execution_count": 18,
   "metadata": {},
   "outputs": [
    {
     "data": {
      "text/plain": [
       "fexpma (generic function with 1 method)"
      ]
     },
     "execution_count": 18,
     "metadata": {},
     "output_type": "execute_result"
    }
   ],
   "source": [
    "function fexpma{T}( A::Vector{T}, α::T )\n",
    "# fast exponential moving average: X - moving average, \n",
    "# A - data, alpha - exponential forgetting parameter\n",
    "    n = length(A)\n",
    "    X = Array{T}(n) # Declare X\n",
    "    β = one(T)-α\n",
    "    X[1] = A[1]\n",
    "    @inbounds for k = 2:n\n",
    "        X[k] = β*A[k] + α*X[k-1]\n",
    "    end\n",
    "    return X\n",
    "end"
   ]
  },
  {
   "cell_type": "code",
   "execution_count": 19,
   "metadata": {},
   "outputs": [
    {
     "name": "stdout",
     "output_type": "stream",
     "text": [
      "  0.219774 seconds (1.97 k allocations: 152.694 MiB, 50.92% gc time)\n"
     ]
    },
    {
     "data": {
      "text/plain": [
       "20000000-element Array{Float64,1}:\n",
       "  0.906011\n",
       "  0.900153\n",
       "  0.898106\n",
       "  0.883862\n",
       "  0.803233\n",
       "  0.765025\n",
       "  0.69317 \n",
       "  0.701666\n",
       "  0.632222\n",
       "  0.610895\n",
       "  0.608406\n",
       "  0.551313\n",
       "  0.552587\n",
       "  ⋮       \n",
       " 98.2532  \n",
       " 97.9142  \n",
       " 89.6116  \n",
       " 85.0891  \n",
       " 81.4173  \n",
       " 83.7548  \n",
       " 81.1127  \n",
       " 86.12    \n",
       " 81.5834  \n",
       " 83.7933  \n",
       " 94.4632  \n",
       " 86.6218  "
      ]
     },
     "execution_count": 19,
     "metadata": {},
     "output_type": "execute_result"
    }
   ],
   "source": [
    "@time X=fexpma(A,0.9)"
   ]
  },
  {
   "cell_type": "markdown",
   "metadata": {},
   "source": [
    "Similar `Matlab` programs give the following timing for the two versions of the function, first _without_ prior declaration of $X$ and then _with_ prior declaration. The _latter_ version is several times faster, but still slow. \n",
    "\n",
    "---\n",
    "```\n",
    "function X = fexpma0( A,alpha )\n",
    "% fast exponential moving average: X - moving average, A - data, alpha - exponential forgetting parameter\n",
    "n=length(A);\n",
    "beta=1-alpha;\n",
    "X(1)=A(1);\n",
    "for k=2:n\n",
    "    X(k)=beta*A(k)+alpha*X(k-1);\n",
    "end\n",
    "```\n",
    "```\n",
    ">> A=rand(20000000,1)+0.00001*[1:20000000]'.*rand(20000000,1);\n",
    ">> tic, X=fexpma0(A,0.9); toc\n",
    "Elapsed time is 3.073359 seconds.\n",
    "```\n",
    "\n",
    "---\n",
    "\n",
    "```\n",
    "function X = fexpma( A,alpha )\n",
    "% fast exponential moving average: X - moving average, A - data, alpha - exponential forgetting parameter\n",
    "n=length(A);\n",
    "X=zeros(n,1); % Allocate X in advance\n",
    "beta=1-alpha;\n",
    "X(1)=A(1);\n",
    "for k=2:n\n",
    "    X(k)=beta*A(k)+alpha*X(k-1);\n",
    "end\n",
    "```\n",
    "```\n",
    ">> tic, X=fexpma(A,0.9); toc\n",
    "Elapsed time is 0.320976 seconds.\n",
    "```"
   ]
  },
  {
   "cell_type": "markdown",
   "metadata": {},
   "source": [
    "## Plotting the moving average\n",
    "\n",
    "Let us plot the data $A$ and its exponential moving average $X$. The dimension of the data is too large for meaningful direct plot. In `Julia` we can use `@manipulate` command to slide through the data. It takes a while to read packages `Winston` (for plotting) and `Interact`, but this is needed only for the first invocation."
   ]
  },
  {
   "cell_type": "code",
   "execution_count": 20,
   "metadata": {},
   "outputs": [
    {
     "data": {
      "text/html": [
       "<div id=\"interact-js-shim\">\n",
       "    <script charset=\"utf-8\">\n",
       "(function (IPython, $, _, MathJax) {\n",
       "    $.event.special.destroyed = {\n",
       "\tremove: function(o) {\n",
       "\t    if (o.handler) {\n",
       "\t\to.handler.apply(this, arguments)\n",
       "\t    }\n",
       "\t}\n",
       "    }\n",
       "\n",
       "    var OutputArea = IPython.version >= \"4.0.0\" ? require(\"notebook/js/outputarea\").OutputArea : IPython.OutputArea;\n",
       "\n",
       "    var redrawValue = function (container, type, val) {\n",
       "\tvar selector = $(\"<div/>\");\n",
       "\tvar oa = new OutputArea(_.extend(selector, {\n",
       "\t    selector: selector,\n",
       "\t    prompt_area: true,\n",
       "\t    events: IPython.events,\n",
       "\t    keyboard_manager: IPython.keyboard_manager\n",
       "\t})); // Hack to work with IPython 2.1.0\n",
       "\n",
       "\tswitch (type) {\n",
       "\tcase \"image/png\":\n",
       "            var _src = 'data:' + type + ';base64,' + val;\n",
       "\t    $(container).find(\"img\").attr('src', _src);\n",
       "\t    break;\n",
       "\tcase \"text/latex\":\n",
       "\t\tif (MathJax){\n",
       "\t\t\tvar math = MathJax.Hub.getAllJax(container)[0];\n",
       "\t\t\tMathJax.Hub.Queue([\"Text\", math, val.replace(/^\\${1,2}|\\${1,2}$/g, '')]);\n",
       "\t\t\tbreak;\n",
       "\t\t}\n",
       "\tdefault:\n",
       "\t    var toinsert = OutputArea.append_map[type].apply(\n",
       "\t\toa, [val, {}, selector]\n",
       "\t    );\n",
       "\t    $(container).empty().append(toinsert.contents());\n",
       "\t    selector.remove();\n",
       "\t}\n",
       "    }\n",
       "\n",
       "\n",
       "    $(document).ready(function() {\n",
       "\tfunction initComm(evt, data) {\n",
       "\t    var comm_manager = data.kernel.comm_manager;\n",
       "        //_.extend(comm_manager.targets, require(\"widgets/js/widget\"))\n",
       "\t    comm_manager.register_target(\"Signal\", function (comm) {\n",
       "            comm.on_msg(function (msg) {\n",
       "                var val = msg.content.data.value;\n",
       "                $(\".signal-\" + comm.comm_id).each(function() {\n",
       "                var type = $(this).data(\"type\");\n",
       "                if (typeof(val[type]) !== \"undefined\" && val[type] !== null) {\n",
       "                    redrawValue(this, type, val[type], type);\n",
       "                }\n",
       "                });\n",
       "                delete val;\n",
       "                delete msg.content.data.value;\n",
       "            });\n",
       "\t    });\n",
       "\n",
       "\t    // coordingate with Comm and redraw Signals\n",
       "\t    // XXX: Test using Reactive here to improve performance\n",
       "\t    $([IPython.events]).on(\n",
       "\t\t'output_appended.OutputArea', function (event, type, value, md, toinsert) {\n",
       "\t\t    if (md && md.reactive) {\n",
       "                // console.log(md.comm_id);\n",
       "                toinsert.addClass(\"signal-\" + md.comm_id);\n",
       "                toinsert.data(\"type\", type);\n",
       "                // Signal back indicating the mimetype required\n",
       "                var comm_manager = IPython.notebook.kernel.comm_manager;\n",
       "                var comm = comm_manager.comms[md.comm_id];\n",
       "                comm.then(function (c) {\n",
       "                    c.send({action: \"subscribe_mime\",\n",
       "                       mime: type});\n",
       "                    toinsert.bind(\"destroyed\", function() {\n",
       "                        c.send({action: \"unsubscribe_mime\",\n",
       "                               mime: type});\n",
       "                    });\n",
       "                })\n",
       "\t\t    }\n",
       "\t    });\n",
       "\t}\n",
       "\n",
       "\ttry {\n",
       "\t    // try to initialize right away. otherwise, wait on the status_started event.\n",
       "\t    initComm(undefined, IPython.notebook);\n",
       "\t} catch (e) {\n",
       "\t    $([IPython.events]).on('kernel_created.Kernel kernel_created.Session', initComm);\n",
       "\t}\n",
       "    });\n",
       "})(IPython, jQuery, _, MathJax);\n",
       "</script>\n",
       "    <script>\n",
       "        window.interactLoadedFlag = true\n",
       "       $(\"#interact-js-shim\").bind(\"destroyed\", function () {\n",
       "           if (window.interactLoadedFlag) {\n",
       "               console.warn(\"JavaScript required by Interact will be removed if you remove this cell or run using Interact more than once.\")\n",
       "           }\n",
       "       })\n",
       "       $([IPython.events]).on(\"kernel_starting.Kernel kernel_restarting.Kernel\", function () { window.interactLoadedFlag = false })\n",
       "   </script>\n",
       "</div>"
      ]
     },
     "metadata": {},
     "output_type": "display_data"
    }
   ],
   "source": [
    "using Winston\n",
    "using Interact"
   ]
  },
  {
   "cell_type": "code",
   "execution_count": 21,
   "metadata": {},
   "outputs": [
    {
     "data": {
      "application/vnd.jupyter.widget-view+json": {
       "model_id": "80628f61-deb0-44b6-a649-7da387bfa6bb",
       "version_major": 2,
       "version_minor": 0
      }
     },
     "metadata": {},
     "output_type": "display_data"
    },
    {
     "data": {
      "text/html": [],
      "text/plain": [
       "Interact.Options{:SelectionSlider,Int64}(1: \"input\" = 9999001 Int64 , \"k\", 9999001, \"9999001\", 10000, Interact.OptionDict(DataStructures.OrderedDict(\"1\"=>1,\"1001\"=>1001,\"2001\"=>2001,\"3001\"=>3001,\"4001\"=>4001,\"5001\"=>5001,\"6001\"=>6001,\"7001\"=>7001,\"8001\"=>8001,\"9001\"=>9001…), Dict(3454001=>\"3454001\",12015001=>\"12015001\",18813001=>\"18813001\",447001=>\"447001\",39001=>\"39001\",6157001=>\"6157001\",5292001=>\"5292001\",3713001=>\"3713001\",12507001=>\"12507001\",14797001=>\"14797001\"…)), Any[], Any[], true, \"horizontal\")"
      ]
     },
     "metadata": {},
     "output_type": "display_data"
    },
    {
     "data": {
      "image/png": "[encoded data removed]",
      "text/plain": [
       "Winston.FramedPlot(...)"
      ]
     },
     "execution_count": 21,
     "metadata": {
      "comm_id": "003c9000-a0d5-46cb-8b33-7c172521ca8d",
      "reactive": true
     },
     "output_type": "execute_result"
    }
   ],
   "source": [
    "@manipulate for k=1:1000:20000000\n",
    "    plot(collect(k:k+1000),A[k:k+1000],\"r.\",\n",
    "        collect(k:k+1000),X[k:k+1000],\"b\")\n",
    "end"
   ]
  },
  {
   "cell_type": "markdown",
   "metadata": {},
   "source": [
    "### Remark\n",
    "More details about optimizing your programs are given in the [Profiling Notebook](http://localhost:8890/notebooks/Documents/Julia/Julia-Course/src/05%20Profiling.ipynb)."
   ]
  },
  {
   "cell_type": "markdown",
   "metadata": {},
   "source": [
    "## Pre-allocating output\n",
    "\n",
    "The following example is from [Pre-allocating outputs](https://docs.julialang.org/en/stable/manual/performance-tips/#Pre-allocating-outputs-1). The functions `loopinc()` and `loopinc_prealloc()` both compute $\\sum_{i=2}^{10000001}i$, the second one being 15 times faster: "
   ]
  },
  {
   "cell_type": "code",
   "execution_count": 22,
   "metadata": {},
   "outputs": [
    {
     "data": {
      "text/plain": [
       "loopinc_prealloc (generic function with 1 method)"
      ]
     },
     "execution_count": 22,
     "metadata": {},
     "output_type": "execute_result"
    }
   ],
   "source": [
    "function xinc(x)\n",
    "    return [x, x+1, x+2]\n",
    "end\n",
    "\n",
    "function loopinc()\n",
    "    y = 0\n",
    "    for i = 1:10^7\n",
    "        ret = xinc(i)\n",
    "        y += ret[2]\n",
    "    end\n",
    "    y\n",
    "end\n",
    "\n",
    "function xinc!{T}(ret::AbstractVector{T}, x::T)\n",
    "    ret[1] = x\n",
    "    ret[2] = x+1\n",
    "    ret[3] = x+2\n",
    "    nothing\n",
    "end\n",
    "\n",
    "function loopinc_prealloc()\n",
    "    ret = Array{Int}(3)\n",
    "    y = 0\n",
    "    for i = 1:10^7\n",
    "        xinc!(ret, i)\n",
    "        y += ret[2]\n",
    "    end\n",
    "    y\n",
    "end"
   ]
  },
  {
   "cell_type": "code",
   "execution_count": 23,
   "metadata": {},
   "outputs": [
    {
     "name": "stdout",
     "output_type": "stream",
     "text": [
      "  0.825178 seconds (40.01 M allocations: 1.490 GiB, 16.84% gc time)\n"
     ]
    },
    {
     "data": {
      "text/plain": [
       "50000015000000"
      ]
     },
     "execution_count": 23,
     "metadata": {},
     "output_type": "execute_result"
    }
   ],
   "source": [
    "@time loopinc()"
   ]
  },
  {
   "cell_type": "code",
   "execution_count": 24,
   "metadata": {},
   "outputs": [
    {
     "name": "stdout",
     "output_type": "stream",
     "text": [
      "  0.057483 seconds (2.00 k allocations: 112.468 KiB)\n"
     ]
    },
    {
     "data": {
      "text/plain": [
       "50000015000000"
      ]
     },
     "execution_count": 24,
     "metadata": {},
     "output_type": "execute_result"
    }
   ],
   "source": [
    "@time loopinc_prealloc() # After the second run"
   ]
  },
  {
   "cell_type": "markdown",
   "metadata": {},
   "source": [
    "## Memory access\n",
    "\n",
    "The following example is from [Access arrays in memory order, along columns](https://docs.julialang.org/en/stable/manual/performance-tips/#Access-arrays-in-memory-order,-along-columns-1).\n",
    "\n",
    "Multidimensional arrays in Julia are stored in column-major order, which means that arrays are stacked one column at a time. This convention for ordering arrays is common in many languages like Fortran, Matlab, and R (to name a few). The alternative to column-major ordering is row-major ordering, which is the convention adopted by C and Python (numpy) among other languages. The ordering can be verified using the `vec()` function or the syntax `[:]`:"
   ]
  },
  {
   "cell_type": "code",
   "execution_count": 25,
   "metadata": {},
   "outputs": [
    {
     "data": {
      "text/plain": [
       "4×3 Array{Int64,2}:\n",
       " 9  0  7\n",
       " 2  4  8\n",
       " 3  9  4\n",
       " 8  0  6"
      ]
     },
     "execution_count": 25,
     "metadata": {},
     "output_type": "execute_result"
    }
   ],
   "source": [
    "B = rand(0:9,4,3)"
   ]
  },
  {
   "cell_type": "code",
   "execution_count": 26,
   "metadata": {},
   "outputs": [
    {
     "data": {
      "text/plain": [
       "12-element Array{Int64,1}:\n",
       " 9\n",
       " 2\n",
       " 3\n",
       " 8\n",
       " 0\n",
       " 4\n",
       " 9\n",
       " 0\n",
       " 7\n",
       " 8\n",
       " 4\n",
       " 6"
      ]
     },
     "execution_count": 26,
     "metadata": {},
     "output_type": "execute_result"
    }
   ],
   "source": [
    "B[:]"
   ]
  },
  {
   "cell_type": "code",
   "execution_count": 27,
   "metadata": {},
   "outputs": [
    {
     "data": {
      "text/plain": [
       "12-element Array{Int64,1}:\n",
       " 9\n",
       " 2\n",
       " 3\n",
       " 8\n",
       " 0\n",
       " 4\n",
       " 9\n",
       " 0\n",
       " 7\n",
       " 8\n",
       " 4\n",
       " 6"
      ]
     },
     "execution_count": 27,
     "metadata": {},
     "output_type": "execute_result"
    }
   ],
   "source": [
    "vec(B)"
   ]
  },
  {
   "cell_type": "markdown",
   "metadata": {},
   "source": [
    "The ordering of arrays can have significant performance effects when looping over arrays. Loops should be organized such that the subsequent accessed elements are close to each other in physical memory.\n",
    "\n",
    "The following functions accept a `Vector` and and return a square `Array` with the rows or the columns filled with copies of the input vector, respectively."
   ]
  },
  {
   "cell_type": "code",
   "execution_count": 28,
   "metadata": {},
   "outputs": [
    {
     "data": {
      "text/plain": [
       "copy_rows (generic function with 1 method)"
      ]
     },
     "execution_count": 28,
     "metadata": {},
     "output_type": "execute_result"
    }
   ],
   "source": [
    "function copy_cols{T}(x::Vector{T})\n",
    "    n = size(x, 1)\n",
    "    out = Array{eltype(x)}(n, n)\n",
    "    for i=1:n\n",
    "        out[:, i] = x\n",
    "    end\n",
    "    out\n",
    "end\n",
    "\n",
    "function copy_rows{T}(x::Vector{T})\n",
    "    n = size(x, 1)\n",
    "    out = Array{eltype(x)}(n, n)\n",
    "    for i=1:n\n",
    "        out[i, :] = x\n",
    "    end\n",
    "    out\n",
    "end"
   ]
  },
  {
   "cell_type": "code",
   "execution_count": 29,
   "metadata": {},
   "outputs": [
    {
     "data": {
      "text/plain": [
       "2×2 Array{Float64,2}:\n",
       " 1.0  2.0\n",
       " 1.0  2.0"
      ]
     },
     "execution_count": 29,
     "metadata": {},
     "output_type": "execute_result"
    }
   ],
   "source": [
    "copy_cols([1.0,2])\n",
    "copy_rows([1.0,2])"
   ]
  },
  {
   "cell_type": "code",
   "execution_count": 30,
   "metadata": {},
   "outputs": [
    {
     "data": {
      "text/plain": [
       "5000-element Array{Float64,1}:\n",
       " 0.461043  \n",
       " 0.491175  \n",
       " 0.975284  \n",
       " 0.128377  \n",
       " 0.997659  \n",
       " 0.821918  \n",
       " 0.0755936 \n",
       " 0.462971  \n",
       " 0.44749   \n",
       " 0.386166  \n",
       " 0.64607   \n",
       " 0.443366  \n",
       " 0.42281   \n",
       " ⋮         \n",
       " 0.298623  \n",
       " 0.187035  \n",
       " 0.812028  \n",
       " 0.59931   \n",
       " 0.0449299 \n",
       " 0.193738  \n",
       " 0.244355  \n",
       " 0.567532  \n",
       " 0.254228  \n",
       " 0.446379  \n",
       " 0.101765  \n",
       " 0.00531636"
      ]
     },
     "execution_count": 30,
     "metadata": {},
     "output_type": "execute_result"
    }
   ],
   "source": [
    "x=rand(5000) # generate a random vector"
   ]
  },
  {
   "cell_type": "code",
   "execution_count": 31,
   "metadata": {},
   "outputs": [
    {
     "name": "stdout",
     "output_type": "stream",
     "text": [
      "  0.112563 seconds (9.50 k allocations: 190.880 MiB, 10.97% gc time)\n"
     ]
    },
    {
     "data": {
      "text/plain": [
       "5000×5000 Array{Float64,2}:\n",
       " 0.461043    0.461043    0.461043    …  0.461043    0.461043    0.461043  \n",
       " 0.491175    0.491175    0.491175       0.491175    0.491175    0.491175  \n",
       " 0.975284    0.975284    0.975284       0.975284    0.975284    0.975284  \n",
       " 0.128377    0.128377    0.128377       0.128377    0.128377    0.128377  \n",
       " 0.997659    0.997659    0.997659       0.997659    0.997659    0.997659  \n",
       " 0.821918    0.821918    0.821918    …  0.821918    0.821918    0.821918  \n",
       " 0.0755936   0.0755936   0.0755936      0.0755936   0.0755936   0.0755936 \n",
       " 0.462971    0.462971    0.462971       0.462971    0.462971    0.462971  \n",
       " 0.44749     0.44749     0.44749        0.44749     0.44749     0.44749   \n",
       " 0.386166    0.386166    0.386166       0.386166    0.386166    0.386166  \n",
       " 0.64607     0.64607     0.64607     …  0.64607     0.64607     0.64607   \n",
       " 0.443366    0.443366    0.443366       0.443366    0.443366    0.443366  \n",
       " 0.42281     0.42281     0.42281        0.42281     0.42281     0.42281   \n",
       " ⋮                                   ⋱                                    \n",
       " 0.298623    0.298623    0.298623       0.298623    0.298623    0.298623  \n",
       " 0.187035    0.187035    0.187035       0.187035    0.187035    0.187035  \n",
       " 0.812028    0.812028    0.812028    …  0.812028    0.812028    0.812028  \n",
       " 0.59931     0.59931     0.59931        0.59931     0.59931     0.59931   \n",
       " 0.0449299   0.0449299   0.0449299      0.0449299   0.0449299   0.0449299 \n",
       " 0.193738    0.193738    0.193738       0.193738    0.193738    0.193738  \n",
       " 0.244355    0.244355    0.244355       0.244355    0.244355    0.244355  \n",
       " 0.567532    0.567532    0.567532    …  0.567532    0.567532    0.567532  \n",
       " 0.254228    0.254228    0.254228       0.254228    0.254228    0.254228  \n",
       " 0.446379    0.446379    0.446379       0.446379    0.446379    0.446379  \n",
       " 0.101765    0.101765    0.101765       0.101765    0.101765    0.101765  \n",
       " 0.00531636  0.00531636  0.00531636     0.00531636  0.00531636  0.00531636"
      ]
     },
     "execution_count": 31,
     "metadata": {},
     "output_type": "execute_result"
    }
   ],
   "source": [
    "@time C=copy_cols(x)  # We generate a large matrix"
   ]
  },
  {
   "cell_type": "code",
   "execution_count": 32,
   "metadata": {},
   "outputs": [
    {
     "name": "stdout",
     "output_type": "stream",
     "text": [
      "  0.312058 seconds (9.50 k allocations: 190.880 MiB, 11.12% gc time)\n"
     ]
    },
    {
     "data": {
      "text/plain": [
       "5000×5000 Array{Float64,2}:\n",
       " 0.461043  0.491175  0.975284  0.128377  …  0.446379  0.101765  0.00531636\n",
       " 0.461043  0.491175  0.975284  0.128377     0.446379  0.101765  0.00531636\n",
       " 0.461043  0.491175  0.975284  0.128377     0.446379  0.101765  0.00531636\n",
       " 0.461043  0.491175  0.975284  0.128377     0.446379  0.101765  0.00531636\n",
       " 0.461043  0.491175  0.975284  0.128377     0.446379  0.101765  0.00531636\n",
       " 0.461043  0.491175  0.975284  0.128377  …  0.446379  0.101765  0.00531636\n",
       " 0.461043  0.491175  0.975284  0.128377     0.446379  0.101765  0.00531636\n",
       " 0.461043  0.491175  0.975284  0.128377     0.446379  0.101765  0.00531636\n",
       " 0.461043  0.491175  0.975284  0.128377     0.446379  0.101765  0.00531636\n",
       " 0.461043  0.491175  0.975284  0.128377     0.446379  0.101765  0.00531636\n",
       " 0.461043  0.491175  0.975284  0.128377  …  0.446379  0.101765  0.00531636\n",
       " 0.461043  0.491175  0.975284  0.128377     0.446379  0.101765  0.00531636\n",
       " 0.461043  0.491175  0.975284  0.128377     0.446379  0.101765  0.00531636\n",
       " ⋮                                       ⋱                                \n",
       " 0.461043  0.491175  0.975284  0.128377     0.446379  0.101765  0.00531636\n",
       " 0.461043  0.491175  0.975284  0.128377     0.446379  0.101765  0.00531636\n",
       " 0.461043  0.491175  0.975284  0.128377  …  0.446379  0.101765  0.00531636\n",
       " 0.461043  0.491175  0.975284  0.128377     0.446379  0.101765  0.00531636\n",
       " 0.461043  0.491175  0.975284  0.128377     0.446379  0.101765  0.00531636\n",
       " 0.461043  0.491175  0.975284  0.128377     0.446379  0.101765  0.00531636\n",
       " 0.461043  0.491175  0.975284  0.128377     0.446379  0.101765  0.00531636\n",
       " 0.461043  0.491175  0.975284  0.128377  …  0.446379  0.101765  0.00531636\n",
       " 0.461043  0.491175  0.975284  0.128377     0.446379  0.101765  0.00531636\n",
       " 0.461043  0.491175  0.975284  0.128377     0.446379  0.101765  0.00531636\n",
       " 0.461043  0.491175  0.975284  0.128377     0.446379  0.101765  0.00531636\n",
       " 0.461043  0.491175  0.975284  0.128377     0.446379  0.101765  0.00531636"
      ]
     },
     "execution_count": 32,
     "metadata": {},
     "output_type": "execute_result"
    }
   ],
   "source": [
    "@time D=copy_rows(x) # This is few times slower"
   ]
  },
  {
   "cell_type": "markdown",
   "metadata": {},
   "source": [
    "### Remark\n",
    "There is also a built-in function `repmat()`:"
   ]
  },
  {
   "cell_type": "code",
   "execution_count": 33,
   "metadata": {},
   "outputs": [
    {
     "name": "stdout",
     "output_type": "stream",
     "text": [
      "search: \u001b[1mr\u001b[22m\u001b[1me\u001b[22m\u001b[1mp\u001b[22m\u001b[1mm\u001b[22m\u001b[1ma\u001b[22m\u001b[1mt\u001b[22m\n",
      "\n"
     ]
    },
    {
     "data": {
      "text/markdown": [
       "```\n",
       "repmat(A, m::Integer, n::Integer=1)\n",
       "```\n",
       "\n",
       "Construct a matrix by repeating the given matrix (or vector) `m` times in dimension 1 and `n` times in dimension 2.\n",
       "\n",
       "```jldoctest\n",
       "julia> repmat([1, 2, 3], 2)\n",
       "6-element Array{Int64,1}:\n",
       " 1\n",
       " 2\n",
       " 3\n",
       " 1\n",
       " 2\n",
       " 3\n",
       "\n",
       "julia> repmat([1, 2, 3], 2, 3)\n",
       "6×3 Array{Int64,2}:\n",
       " 1  1  1\n",
       " 2  2  2\n",
       " 3  3  3\n",
       " 1  1  1\n",
       " 2  2  2\n",
       " 3  3  3\n",
       "```\n"
      ],
      "text/plain": [
       "```\n",
       "repmat(A, m::Integer, n::Integer=1)\n",
       "```\n",
       "\n",
       "Construct a matrix by repeating the given matrix (or vector) `m` times in dimension 1 and `n` times in dimension 2.\n",
       "\n",
       "```jldoctest\n",
       "julia> repmat([1, 2, 3], 2)\n",
       "6-element Array{Int64,1}:\n",
       " 1\n",
       " 2\n",
       " 3\n",
       " 1\n",
       " 2\n",
       " 3\n",
       "\n",
       "julia> repmat([1, 2, 3], 2, 3)\n",
       "6×3 Array{Int64,2}:\n",
       " 1  1  1\n",
       " 2  2  2\n",
       " 3  3  3\n",
       " 1  1  1\n",
       " 2  2  2\n",
       " 3  3  3\n",
       "```\n"
      ]
     },
     "execution_count": 33,
     "metadata": {},
     "output_type": "execute_result"
    }
   ],
   "source": [
    "?repmat"
   ]
  },
  {
   "cell_type": "code",
   "execution_count": 34,
   "metadata": {},
   "outputs": [
    {
     "name": "stdout",
     "output_type": "stream",
     "text": [
      "  0.209108 seconds (31.95 k allocations: 192.165 MiB, 15.03% gc time)\n"
     ]
    },
    {
     "data": {
      "text/plain": [
       "5000×5000 Array{Float64,2}:\n",
       " 0.461043    0.461043    0.461043    …  0.461043    0.461043    0.461043  \n",
       " 0.491175    0.491175    0.491175       0.491175    0.491175    0.491175  \n",
       " 0.975284    0.975284    0.975284       0.975284    0.975284    0.975284  \n",
       " 0.128377    0.128377    0.128377       0.128377    0.128377    0.128377  \n",
       " 0.997659    0.997659    0.997659       0.997659    0.997659    0.997659  \n",
       " 0.821918    0.821918    0.821918    …  0.821918    0.821918    0.821918  \n",
       " 0.0755936   0.0755936   0.0755936      0.0755936   0.0755936   0.0755936 \n",
       " 0.462971    0.462971    0.462971       0.462971    0.462971    0.462971  \n",
       " 0.44749     0.44749     0.44749        0.44749     0.44749     0.44749   \n",
       " 0.386166    0.386166    0.386166       0.386166    0.386166    0.386166  \n",
       " 0.64607     0.64607     0.64607     …  0.64607     0.64607     0.64607   \n",
       " 0.443366    0.443366    0.443366       0.443366    0.443366    0.443366  \n",
       " 0.42281     0.42281     0.42281        0.42281     0.42281     0.42281   \n",
       " ⋮                                   ⋱                                    \n",
       " 0.298623    0.298623    0.298623       0.298623    0.298623    0.298623  \n",
       " 0.187035    0.187035    0.187035       0.187035    0.187035    0.187035  \n",
       " 0.812028    0.812028    0.812028    …  0.812028    0.812028    0.812028  \n",
       " 0.59931     0.59931     0.59931        0.59931     0.59931     0.59931   \n",
       " 0.0449299   0.0449299   0.0449299      0.0449299   0.0449299   0.0449299 \n",
       " 0.193738    0.193738    0.193738       0.193738    0.193738    0.193738  \n",
       " 0.244355    0.244355    0.244355       0.244355    0.244355    0.244355  \n",
       " 0.567532    0.567532    0.567532    …  0.567532    0.567532    0.567532  \n",
       " 0.254228    0.254228    0.254228       0.254228    0.254228    0.254228  \n",
       " 0.446379    0.446379    0.446379       0.446379    0.446379    0.446379  \n",
       " 0.101765    0.101765    0.101765       0.101765    0.101765    0.101765  \n",
       " 0.00531636  0.00531636  0.00531636     0.00531636  0.00531636  0.00531636"
      ]
     },
     "execution_count": 34,
     "metadata": {},
     "output_type": "execute_result"
    }
   ],
   "source": [
    "@time C1=repmat(x,1,5000)"
   ]
  },
  {
   "cell_type": "code",
   "execution_count": null,
   "metadata": {
    "collapsed": true
   },
   "outputs": [],
   "source": []
  }
 ],
 "metadata": {
  "anaconda-cloud": {},
  "kernelspec": {
   "display_name": "Julia 0.6.0",
   "language": "julia",
   "name": "julia-0.6"
  },
  "language_info": {
   "file_extension": ".jl",
   "mimetype": "application/julia",
   "name": "julia",
   "version": "0.6.0"
  },
  "widgets": {
   "state": {
    "660e53b0-36f0-49b0-aeaf-c4ddd60726d2": {
     "views": [
      {
       "cell_index": 31
      }
     ]
    }
   },
   "version": "1.2.0"
  }
 },
 "nbformat": 4,
 "nbformat_minor": 1
}
