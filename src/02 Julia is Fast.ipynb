{
 "cells": [
  {
   "cell_type": "markdown",
   "metadata": {},
   "source": [
    "# Julia is Fast - `@time`, `@elapsed` and `@inbounds`\n",
    "\n",
    "---\n",
    "\n",
    "In this notebook, we demonstrate how fast `Julia` is, compared to other dynamically typed languages. \n",
    "\n",
    "## Prerequisites\n",
    "\n",
    "Read the text [Why Julia?](https://github.com/stevengj/julia-mit/blob/master/README.md#why-julia) (3 min)\n",
    "\n",
    "Read [Performance tips](http://julia.readthedocs.org/en/latest/manual/performance-tips/) section of the `Julia` manual. (20 min) \n",
    "\n",
    "## Competences \n",
    "\n",
    "The reader should understand effects of \"[just-in-time\n",
    "compiler](https://en.wikipedia.org/wiki/Just-in-time_compilation)\"\n",
    "called [LLVM](http://llvm.org/)`LLVM` on the speed of execution of programs. \n",
    "The reader should be able to write simple, but fast, programs containing loops.\n",
    "\n",
    "## Credits \n",
    "\n",
    "Some examples are taken from [The Julia Manual](http://julia.readthedocs.org/en/latest/manual/).\n"
   ]
  },
  {
   "cell_type": "markdown",
   "metadata": {},
   "source": [
    "## Scholarly example - summing integer halves\n",
    "\n",
    "Consider the function `f` which sums halves of integers from `1` to `n`:\n",
    "\n",
    "__N.B.__ `Esc l` toggles the line numbers in the current cell."
   ]
  },
  {
   "cell_type": "code",
   "execution_count": 1,
   "metadata": {
    "collapsed": false
   },
   "outputs": [
    {
     "data": {
      "text/plain": [
       "f (generic function with 1 method)"
      ]
     },
     "execution_count": 1,
     "metadata": {},
     "output_type": "execute_result"
    }
   ],
   "source": [
    "function f(n)\n",
    "    s = 0\n",
    "    for i = 1:n\n",
    "        s += i/2\n",
    "    end\n",
    "    s\n",
    "end"
   ]
  },
  {
   "cell_type": "markdown",
   "metadata": {},
   "source": [
    "In order for the fast execution, the function must first be compiled. Compilation is performed automatically, when the function is invoked for the first time. Therefore, the first call can be done with some trivial choice of parameters.\n",
    "\n",
    "The timing can be done by two commands, `@time` and `@elapsed`: "
   ]
  },
  {
   "cell_type": "code",
   "execution_count": 2,
   "metadata": {
    "collapsed": false
   },
   "outputs": [
    {
     "data": {
      "text/latex": [
       "\\begin{verbatim}\n",
       "@time\n",
       "\\end{verbatim}\n",
       "A macro to execute an expression, printing the time it took to execute, the number of allocations, and the total number of bytes its execution caused to be allocated, before returning the value of the expression.\n"
      ],
      "text/markdown": [
       "```\n",
       "@time\n",
       "```\n",
       "\n",
       "A macro to execute an expression, printing the time it took to execute, the number of allocations, and the total number of bytes its execution caused to be allocated, before returning the value of the expression.\n"
      ],
      "text/plain": [
       "```\n",
       "@time\n",
       "```\n",
       "\n",
       "A macro to execute an expression, printing the time it took to execute, the number of allocations, and the total number of bytes its execution caused to be allocated, before returning the value of the expression.\n"
      ]
     },
     "execution_count": 2,
     "metadata": {},
     "output_type": "execute_result"
    }
   ],
   "source": [
    "?@time"
   ]
  },
  {
   "cell_type": "code",
   "execution_count": 3,
   "metadata": {
    "collapsed": false
   },
   "outputs": [
    {
     "data": {
      "text/latex": [
       "\\begin{verbatim}\n",
       "@elapsed\n",
       "\\end{verbatim}\n",
       "A macro to evaluate an expression, discarding the resulting value, instead returning the number of seconds it took to execute as a floating-point number.\n"
      ],
      "text/markdown": [
       "```\n",
       "@elapsed\n",
       "```\n",
       "\n",
       "A macro to evaluate an expression, discarding the resulting value, instead returning the number of seconds it took to execute as a floating-point number.\n"
      ],
      "text/plain": [
       "```\n",
       "@elapsed\n",
       "```\n",
       "\n",
       "A macro to evaluate an expression, discarding the resulting value, instead returning the number of seconds it took to execute as a floating-point number.\n"
      ]
     },
     "execution_count": 3,
     "metadata": {},
     "output_type": "execute_result"
    }
   ],
   "source": [
    "?@elapsed"
   ]
  },
  {
   "cell_type": "code",
   "execution_count": 4,
   "metadata": {
    "collapsed": false
   },
   "outputs": [
    {
     "name": "stdout",
     "output_type": "stream",
     "text": [
      "  "
     ]
    },
    {
     "data": {
      "text/plain": [
       "0.5"
      ]
     },
     "execution_count": 4,
     "metadata": {},
     "output_type": "execute_result"
    },
    {
     "name": "stdout",
     "output_type": "stream",
     "text": [
      "0.007184 seconds (2.47 k allocations: 127.565 KB)\n"
     ]
    }
   ],
   "source": [
    "@time f(1) "
   ]
  },
  {
   "cell_type": "code",
   "execution_count": 5,
   "metadata": {
    "collapsed": false
   },
   "outputs": [
    {
     "data": {
      "text/plain": [
       "3.971e-6"
      ]
     },
     "execution_count": 5,
     "metadata": {},
     "output_type": "execute_result"
    }
   ],
   "source": [
    "@elapsed f(1)  # This run is much faster, since the function is already compiled"
   ]
  },
  {
   "cell_type": "markdown",
   "metadata": {},
   "source": [
    "Let us now run the big-size computation. Notice the unnaturally high byte allocation and the huge amount of time spent on \n",
    "[garbage collection](http://en.wikipedia.org/wiki/Garbage_collection_%28computer_science%29)."
   ]
  },
  {
   "cell_type": "code",
   "execution_count": 6,
   "metadata": {
    "collapsed": false
   },
   "outputs": [
    {
     "name": "stdout",
     "output_type": "stream",
     "text": [
      "  "
     ]
    },
    {
     "data": {
      "text/plain": [
       "2.5000025e11"
      ]
     },
     "execution_count": 6,
     "metadata": {},
     "output_type": "execute_result"
    },
    {
     "name": "stdout",
     "output_type": "stream",
     "text": [
      "0.040911 seconds (2.00 M allocations: 30.518 MB, 8.44% gc time)\n"
     ]
    }
   ],
   "source": [
    "@time f(1000000) # Notice the unnaturally high byte  allocation!"
   ]
  },
  {
   "cell_type": "code",
   "execution_count": 7,
   "metadata": {
    "collapsed": false
   },
   "outputs": [
    {
     "data": {
      "text/plain": [
       "0.042030389"
      ]
     },
     "execution_count": 7,
     "metadata": {},
     "output_type": "execute_result"
    }
   ],
   "source": [
    "@elapsed f(1000000) # We shall be using @time from now on"
   ]
  },
  {
   "cell_type": "markdown",
   "metadata": {},
   "source": [
    "> Since your computer can execute several _Gigaflops_ (floating-point operations per second), this is rather slow. This slowness is due to _type instability_: variable `s` is in the beginning assumed to be of type `Integer`, while at every other step, the result is a real number of type `Float64`. Permanent checking of types requires permanent memory allocation and deallocation (garbage collection). This is corrected by very simple means: just declare `s` as a real number, and the execution is more than 10 times faster with almost no memory allocation (and, consequently, no garbage collection)."
   ]
  },
  {
   "cell_type": "code",
   "execution_count": 8,
   "metadata": {
    "collapsed": false
   },
   "outputs": [
    {
     "data": {
      "text/plain": [
       "f1 (generic function with 1 method)"
      ]
     },
     "execution_count": 8,
     "metadata": {},
     "output_type": "execute_result"
    }
   ],
   "source": [
    "function f1(n)\n",
    "    s = 0.0\n",
    "    for i = 1:n\n",
    "        s += i/2\n",
    "    end\n",
    "    s\n",
    "end"
   ]
  },
  {
   "cell_type": "code",
   "execution_count": 9,
   "metadata": {
    "collapsed": false
   },
   "outputs": [
    {
     "name": "stdout",
     "output_type": "stream",
     "text": [
      "  "
     ]
    },
    {
     "data": {
      "text/plain": [
       "0.5"
      ]
     },
     "execution_count": 9,
     "metadata": {},
     "output_type": "execute_result"
    },
    {
     "name": "stdout",
     "output_type": "stream",
     "text": [
      "0.004599 seconds (1.79 k allocations: 90.275 KB)\n"
     ]
    }
   ],
   "source": [
    "@time f1(1)"
   ]
  },
  {
   "cell_type": "code",
   "execution_count": 10,
   "metadata": {
    "collapsed": false
   },
   "outputs": [
    {
     "name": "stdout",
     "output_type": "stream",
     "text": [
      "  "
     ]
    },
    {
     "data": {
      "text/plain": [
       "2.5000025e11"
      ]
     },
     "execution_count": 10,
     "metadata": {},
     "output_type": "execute_result"
    },
    {
     "name": "stdout",
     "output_type": "stream",
     "text": [
      "0.001777 seconds (5 allocations: 176 bytes)\n"
     ]
    }
   ],
   "source": [
    "@time f1(1000000)"
   ]
  },
  {
   "cell_type": "markdown",
   "metadata": {},
   "source": [
    "`@time` can alo be invoked as a function, but only on a function call, and not when the output is assigned, as well:"
   ]
  },
  {
   "cell_type": "code",
   "execution_count": 11,
   "metadata": {
    "collapsed": false
   },
   "outputs": [
    {
     "name": "stdout",
     "output_type": "stream",
     "text": [
      "  "
     ]
    },
    {
     "data": {
      "text/plain": [
       "2.5000025e11"
      ]
     },
     "execution_count": 11,
     "metadata": {},
     "output_type": "execute_result"
    },
    {
     "name": "stdout",
     "output_type": "stream",
     "text": [
      "0.001680 seconds (5 allocations: 176 bytes)\n"
     ]
    }
   ],
   "source": [
    "@time(f1(1000000))"
   ]
  },
  {
   "cell_type": "code",
   "execution_count": 12,
   "metadata": {
    "collapsed": false
   },
   "outputs": [
    {
     "name": "stdout",
     "output_type": "stream",
     "text": [
      "  "
     ]
    },
    {
     "data": {
      "text/plain": [
       "2.5000025e11"
      ]
     },
     "execution_count": 12,
     "metadata": {},
     "output_type": "execute_result"
    },
    {
     "name": "stdout",
     "output_type": "stream",
     "text": [
      "0.001780 seconds (6 allocations: 224 bytes)\n"
     ]
    }
   ],
   "source": [
    "@time s2=f1(1000000)"
   ]
  },
  {
   "cell_type": "code",
   "execution_count": 13,
   "metadata": {
    "collapsed": false
   },
   "outputs": [
    {
     "ename": "LoadError",
     "evalue": "LoadError: unsupported or misplaced expression kw\nwhile loading In[13], in expression starting on line 155",
     "output_type": "error",
     "traceback": [
      "LoadError: unsupported or misplaced expression kw\nwhile loading In[13], in expression starting on line 155",
      ""
     ]
    }
   ],
   "source": [
    "@time(s2=f1(1000000))"
   ]
  },
  {
   "cell_type": "markdown",
   "metadata": {},
   "source": [
    "## Real-world example - exponential moving average\n",
    "\n",
    "[Exponential moving average](http://en.wikipedia.org/wiki/Moving_average#Exponential_moving_average) is a fast _one pass_ formula (each data point of the given data set $A$ is accessed only once) often used in high-frequency on-line trading (see [Online Algorithms in High-Frequency Trading](http://cacm.acm.org/magazines/2013/10/168184-online-algorithms-in-high-frequency-trading/fulltext) for more details). __Notice that the output array $X$ is declared in advance.__\n",
    "\n",
    "Using `return` in the last line is here optional.\n"
   ]
  },
  {
   "cell_type": "code",
   "execution_count": 14,
   "metadata": {
    "collapsed": false
   },
   "outputs": [
    {
     "data": {
      "text/plain": [
       "fexpma (generic function with 1 method)"
      ]
     },
     "execution_count": 14,
     "metadata": {},
     "output_type": "execute_result"
    }
   ],
   "source": [
    "function fexpma{T}( A::Vector{T}, alpha::T )\n",
    "# fast exponential moving average: X - moving average, A - data, alpha - exponential forgetting parameter\n",
    "    n = length(A)\n",
    "    X = Array(T,n) # Declare X\n",
    "    beta = one(T)-alpha\n",
    "    X[1] = A[1]\n",
    "    for k = 2:n\n",
    "        X[k] = beta*A[k] + alpha*X[k-1]\n",
    "    end\n",
    "    return X\n",
    "end\n"
   ]
  },
  {
   "cell_type": "code",
   "execution_count": 15,
   "metadata": {
    "collapsed": false
   },
   "outputs": [
    {
     "data": {
      "text/plain": [
       "1-element Array{Float64,1}:\n",
       " 1.0"
      ]
     },
     "execution_count": 15,
     "metadata": {},
     "output_type": "execute_result"
    }
   ],
   "source": [
    "fexpma([1.0],0.5) # First run for compilation"
   ]
  },
  {
   "cell_type": "markdown",
   "metadata": {},
   "source": [
    "We now generate some big-size data:"
   ]
  },
  {
   "cell_type": "code",
   "execution_count": 16,
   "metadata": {
    "collapsed": false
   },
   "outputs": [
    {
     "data": {
      "text/plain": [
       "20000000-element Array{Float64,1}:\n",
       "   0.730839\n",
       "   0.662931\n",
       "   0.544842\n",
       "   0.717339\n",
       "   0.190454\n",
       "   0.305703\n",
       "   0.959483\n",
       "   0.637811\n",
       "   0.113677\n",
       "   0.412956\n",
       "   0.237584\n",
       "   0.566539\n",
       "   0.976854\n",
       "   ⋮       \n",
       "  83.5179  \n",
       "  27.2391  \n",
       " 131.377   \n",
       " 181.824   \n",
       "  33.6962  \n",
       " 139.54    \n",
       "  32.8518  \n",
       " 103.543   \n",
       "  34.7559  \n",
       "  30.7029  \n",
       "  96.9134  \n",
       "  65.4199  "
      ]
     },
     "execution_count": 16,
     "metadata": {},
     "output_type": "execute_result"
    }
   ],
   "source": [
    "A=[rand() + 0.00001*k*rand() for k=1:20_000_000] # Big random sequence with slightly growing tendency"
   ]
  },
  {
   "cell_type": "code",
   "execution_count": 17,
   "metadata": {
    "collapsed": false
   },
   "outputs": [
    {
     "name": "stdout",
     "output_type": "stream",
     "text": [
      "  "
     ]
    },
    {
     "data": {
      "text/plain": [
       "20000000-element Array{Float64,1}:\n",
       "  0.730839\n",
       "  0.724048\n",
       "  0.706128\n",
       "  0.707249\n",
       "  0.655569\n",
       "  0.620583\n",
       "  0.654473\n",
       "  0.652806\n",
       "  0.598893\n",
       "  0.5803  \n",
       "  0.546028\n",
       "  0.548079\n",
       "  0.590957\n",
       "  ⋮       \n",
       " 63.7863  \n",
       " 60.1316  \n",
       " 67.2561  \n",
       " 78.7129  \n",
       " 74.2113  \n",
       " 80.7442  \n",
       " 75.9549  \n",
       " 78.7137  \n",
       " 74.3179  \n",
       " 69.9564  \n",
       " 72.6521  \n",
       " 71.9289  "
      ]
     },
     "execution_count": 17,
     "metadata": {},
     "output_type": "execute_result"
    },
    {
     "name": "stdout",
     "output_type": "stream",
     "text": [
      "0.192595 seconds (7 allocations: 152.588 MB, 1.18% gc time)\n"
     ]
    }
   ],
   "source": [
    "@time X=fexpma(A,0.9)"
   ]
  },
  {
   "cell_type": "markdown",
   "metadata": {},
   "source": [
    "## `@inbounds`\n",
    "\n",
    "The `@inbounds` command eliminates array bounds checking within expressions. Be certain before doing this. If the subscripts are ever out of bounds, you may suffer crashes or silent corruption. The above program runs 40% faster.,"
   ]
  },
  {
   "cell_type": "code",
   "execution_count": 18,
   "metadata": {
    "collapsed": false
   },
   "outputs": [
    {
     "data": {
      "text/plain": [
       "fexpma (generic function with 1 method)"
      ]
     },
     "execution_count": 18,
     "metadata": {},
     "output_type": "execute_result"
    }
   ],
   "source": [
    "function fexpma{T}( A::Vector{T}, alpha::T )\n",
    "# fast exponential moving average: X - moving average, A - data, alpha - exponential forgetting parameter\n",
    "    n = length(A)\n",
    "    X = Array(T,n) # Declare X\n",
    "    beta = one(T)-alpha\n",
    "    X[1] = A[1]\n",
    "    @inbounds for k = 2:n\n",
    "        X[k] = beta*A[k] + alpha*X[k-1]\n",
    "    end\n",
    "    return X\n",
    "end"
   ]
  },
  {
   "cell_type": "code",
   "execution_count": 20,
   "metadata": {
    "collapsed": false
   },
   "outputs": [
    {
     "name": "stdout",
     "output_type": "stream",
     "text": [
      "  "
     ]
    },
    {
     "data": {
      "text/plain": [
       "20000000-element Array{Float64,1}:\n",
       "  0.730839\n",
       "  0.724048\n",
       "  0.706128\n",
       "  0.707249\n",
       "  0.655569\n",
       "  0.620583\n",
       "  0.654473\n",
       "  0.652806\n",
       "  0.598893\n",
       "  0.5803  \n",
       "  0.546028\n",
       "  0.548079\n",
       "  0.590957\n",
       "  ⋮       \n",
       " 63.7863  \n",
       " 60.1316  \n",
       " 67.2561  \n",
       " 78.7129  \n",
       " 74.2113  \n",
       " 80.7442  \n",
       " 75.9549  \n",
       " 78.7137  \n",
       " 74.3179  \n",
       " 69.9564  \n",
       " 72.6521  \n",
       " 71.9289  "
      ]
     },
     "execution_count": 20,
     "metadata": {},
     "output_type": "execute_result"
    },
    {
     "name": "stdout",
     "output_type": "stream",
     "text": [
      "0.178561 seconds (6 allocations: 152.588 MB, 16.47% gc time)\n"
     ]
    }
   ],
   "source": [
    "@time X=fexpma(A,0.9)"
   ]
  },
  {
   "cell_type": "markdown",
   "metadata": {},
   "source": [
    "Similar `Matlab` programs give the following timing for the two versions of the function, first _without_ prior declaration of $X$ and then _with_ prior declaration. The _latter_ version is several times faster, but still slow. \n",
    "\n",
    "---\n",
    "```\n",
    "function X = fexpma0( A,alpha )\n",
    "% fast exponential moving average: X - moving average, A - data, alpha - exponential forgetting parameter\n",
    "n=length(A);\n",
    "beta=1-alpha;\n",
    "X(1)=A(1);\n",
    "for k=2:n\n",
    "    X(k)=beta*A(k)+alpha*X(k-1);\n",
    "end\n",
    "```\n",
    "```\n",
    ">> A=rand(20000000,1)+0.00001*[1:20000000]'.*rand(20000000,1);\n",
    ">> tic, X=fexpma0(A,0.9); toc\n",
    "Elapsed time is 3.073359 seconds.\n",
    "```\n",
    "\n",
    "---\n",
    "\n",
    "```\n",
    "function X = fexpma( A,alpha )\n",
    "% fast exponential moving average: X - moving average, A - data, alpha - exponential forgetting parameter\n",
    "n=length(A);\n",
    "X=zeros(n,1); % Allocate X in advance\n",
    "beta=1-alpha;\n",
    "X(1)=A(1);\n",
    "for k=2:n\n",
    "    X(k)=beta*A(k)+alpha*X(k-1);\n",
    "end\n",
    "```\n",
    "```\n",
    ">> tic, X=fexpma(A,0.9); toc\n",
    "Elapsed time is 0.320976 seconds.\n",
    "```"
   ]
  },
  {
   "cell_type": "markdown",
   "metadata": {},
   "source": [
    "## Plotting the moving average\n",
    "\n",
    "Let us plot the data $A$ and its exponential moving average $X$. The dimension of the data is too large for meaningful direct plot. In `Julia` we can use `@manipulate` command to slide through the data. It takes a while to read packages `Winston` (for plotting) and `Interact`, but this is needed only for the first invocation."
   ]
  },
  {
   "cell_type": "code",
   "execution_count": 22,
   "metadata": {
    "collapsed": false
   },
   "outputs": [],
   "source": [
    "using Winston\n",
    "using Interact"
   ]
  },
  {
   "cell_type": "code",
   "execution_count": 23,
   "metadata": {
    "collapsed": false
   },
   "outputs": [
    {
     "data": {
      "text/html": [],
      "text/plain": [
       "Interact.Slider{Int64}(Signal{Int64}(9999001, nactions=0),\"k\",9999001,1:1000:19999001,true)"
      ]
     },
     "metadata": {},
     "output_type": "display_data"
    },
    {
     "data": {
      "image/png": "[encoded data removed]",
      "text/plain": [
       "Winston.FramedPlot(...)"
      ]
     },
     "execution_count": 23,
     "metadata": {
      "comm_id": "bd9e9c36-f348-4bb5-8f08-00e88463b478",
      "reactive": true
     },
     "output_type": "execute_result"
    }
   ],
   "source": [
    "@manipulate for k=1:1000:20000000\n",
    "    plot(collect(k:k+1000),A[k:k+1000],\"r.\",collect(k:k+1000),X[k:k+1000],\"b\")\n",
    "end"
   ]
  },
  {
   "cell_type": "markdown",
   "metadata": {},
   "source": [
    "### Remark\n",
    "More details about optimizing your programs are given in the [Profiling Notebook]()."
   ]
  },
  {
   "cell_type": "markdown",
   "metadata": {},
   "source": [
    "## Pre-allocating output\n",
    "\n",
    "The following example is from [Pre-allocating outputs](http://julia.readthedocs.org/en/latest/manual/performance-tips/#pre-allocating-outputs). The functions `loopinc()` and `loopinc_prealloc()` both compute $\\sum_{i=2}^{10000001}i$, the second one being 10 times faster: "
   ]
  },
  {
   "cell_type": "code",
   "execution_count": 29,
   "metadata": {
    "collapsed": false
   },
   "outputs": [
    {
     "data": {
      "text/plain": [
       "loopinc_prealloc (generic function with 1 method)"
      ]
     },
     "execution_count": 29,
     "metadata": {},
     "output_type": "execute_result"
    }
   ],
   "source": [
    "function xinc(x)\n",
    "    return [x, x+1, x+2]\n",
    "end\n",
    "\n",
    "function loopinc()\n",
    "    y = 0\n",
    "    for i = 1:10^7\n",
    "        ret = xinc(i)\n",
    "        y += ret[2]\n",
    "    end\n",
    "    y\n",
    "end\n",
    "\n",
    "function xinc!{T}(ret::AbstractVector{T}, x::T)\n",
    "    ret[1] = x\n",
    "    ret[2] = x+1\n",
    "    ret[3] = x+2\n",
    "    nothing\n",
    "end\n",
    "\n",
    "function loopinc_prealloc()\n",
    "    ret = Array(Int, 3)\n",
    "    y = 0\n",
    "    for i = 1:10^7\n",
    "        xinc!(ret, i)\n",
    "        y += ret[2]\n",
    "    end\n",
    "    y\n",
    "end"
   ]
  },
  {
   "cell_type": "code",
   "execution_count": 31,
   "metadata": {
    "collapsed": false
   },
   "outputs": [
    {
     "name": "stdout",
     "output_type": "stream",
     "text": [
      "  "
     ]
    },
    {
     "data": {
      "text/plain": [
       "50000015000000"
      ]
     },
     "execution_count": 31,
     "metadata": {},
     "output_type": "execute_result"
    },
    {
     "name": "stdout",
     "output_type": "stream",
     "text": [
      "0.675429 seconds (40.00 M allocations: 1.341 GB, 25.75% gc time)\n"
     ]
    }
   ],
   "source": [
    "@time loopinc()"
   ]
  },
  {
   "cell_type": "code",
   "execution_count": 33,
   "metadata": {
    "collapsed": false
   },
   "outputs": [
    {
     "name": "stdout",
     "output_type": "stream",
     "text": [
      "  "
     ]
    },
    {
     "data": {
      "text/plain": [
       "50000015000000"
      ]
     },
     "execution_count": 33,
     "metadata": {},
     "output_type": "execute_result"
    },
    {
     "name": "stdout",
     "output_type": "stream",
     "text": [
      "0.051934 seconds (6 allocations: 272 bytes)\n"
     ]
    }
   ],
   "source": [
    "@time loopinc_prealloc() # After the second run"
   ]
  },
  {
   "cell_type": "markdown",
   "metadata": {},
   "source": [
    "## Memory access\n",
    "\n",
    "The following example is from [Access arrays in memory order, along columns](http://julia.readthedocs.org/en/latest/manual/performance-tips/#access-arrays-in-memory-order-along-columns).\n",
    "\n",
    "Multidimensional arrays in Julia are stored in column-major order, which means that arrays are stacked one column at a time. This convention for ordering arrays is common in many languages like Fortran, Matlab, and R (to name a few). The alternative to column-major ordering is row-major ordering, which is the convention adopted by C and Python (numpy) among other languages. The ordering can be verified using the `vec()` function or the syntax `[:]`:"
   ]
  },
  {
   "cell_type": "code",
   "execution_count": 34,
   "metadata": {
    "collapsed": false
   },
   "outputs": [
    {
     "data": {
      "text/plain": [
       "4x3 Array{Int64,2}:\n",
       " 6  3  1\n",
       " 5  8  2\n",
       " 4  4  6\n",
       " 0  7  0"
      ]
     },
     "execution_count": 34,
     "metadata": {},
     "output_type": "execute_result"
    }
   ],
   "source": [
    "B = rand(0:9,4,3)"
   ]
  },
  {
   "cell_type": "code",
   "execution_count": 35,
   "metadata": {
    "collapsed": false
   },
   "outputs": [
    {
     "data": {
      "text/plain": [
       "12-element Array{Int64,1}:\n",
       " 6\n",
       " 5\n",
       " 4\n",
       " 0\n",
       " 3\n",
       " 8\n",
       " 4\n",
       " 7\n",
       " 1\n",
       " 2\n",
       " 6\n",
       " 0"
      ]
     },
     "execution_count": 35,
     "metadata": {},
     "output_type": "execute_result"
    }
   ],
   "source": [
    "B[:]"
   ]
  },
  {
   "cell_type": "code",
   "execution_count": 36,
   "metadata": {
    "collapsed": false
   },
   "outputs": [
    {
     "data": {
      "text/plain": [
       "12-element Array{Int64,1}:\n",
       " 6\n",
       " 5\n",
       " 4\n",
       " 0\n",
       " 3\n",
       " 8\n",
       " 4\n",
       " 7\n",
       " 1\n",
       " 2\n",
       " 6\n",
       " 0"
      ]
     },
     "execution_count": 36,
     "metadata": {},
     "output_type": "execute_result"
    }
   ],
   "source": [
    "vec(B)"
   ]
  },
  {
   "cell_type": "markdown",
   "metadata": {},
   "source": [
    "The ordering of arrays can have significant performance effects when looping over arrays. Loops should be organized such that the subsequent accessed elements are close to each other in physical memory.\n",
    "\n",
    "The following functions accept a `Vector` and and return a square `Array` with the rows or the columns filled with copies of the input vector, respectively."
   ]
  },
  {
   "cell_type": "code",
   "execution_count": 37,
   "metadata": {
    "collapsed": false
   },
   "outputs": [
    {
     "data": {
      "text/plain": [
       "copy_rows (generic function with 1 method)"
      ]
     },
     "execution_count": 37,
     "metadata": {},
     "output_type": "execute_result"
    }
   ],
   "source": [
    "function copy_cols{T}(x::Vector{T})\n",
    "    n = size(x, 1)\n",
    "    out = Array(eltype(x), n, n)\n",
    "    for i=1:n\n",
    "        out[:, i] = x\n",
    "    end\n",
    "    out\n",
    "end\n",
    "\n",
    "function copy_rows{T}(x::Vector{T})\n",
    "    n = size(x, 1)\n",
    "    out = Array(eltype(x), n, n)\n",
    "    for i=1:n\n",
    "        out[i, :] = x\n",
    "    end\n",
    "    out\n",
    "end"
   ]
  },
  {
   "cell_type": "code",
   "execution_count": 39,
   "metadata": {
    "collapsed": false
   },
   "outputs": [
    {
     "data": {
      "text/plain": [
       "2x2 Array{Float64,2}:\n",
       " 1.0  2.0\n",
       " 1.0  2.0"
      ]
     },
     "execution_count": 39,
     "metadata": {},
     "output_type": "execute_result"
    }
   ],
   "source": [
    "copy_cols([1.0,2])\n",
    "copy_rows([1.0,2])"
   ]
  },
  {
   "cell_type": "code",
   "execution_count": 40,
   "metadata": {
    "collapsed": false
   },
   "outputs": [
    {
     "data": {
      "text/plain": [
       "5000-element Array{Float64,1}:\n",
       " 0.584088 \n",
       " 0.123995 \n",
       " 0.706473 \n",
       " 0.277878 \n",
       " 0.812163 \n",
       " 0.807963 \n",
       " 0.0946712\n",
       " 0.93232  \n",
       " 0.656777 \n",
       " 0.520534 \n",
       " 0.405492 \n",
       " 0.385659 \n",
       " 0.997815 \n",
       " ⋮        \n",
       " 0.289552 \n",
       " 0.540741 \n",
       " 0.207564 \n",
       " 0.0756819\n",
       " 0.20071  \n",
       " 0.0562943\n",
       " 0.909588 \n",
       " 0.506497 \n",
       " 0.0210987\n",
       " 0.407645 \n",
       " 0.88234  \n",
       " 0.1267   "
      ]
     },
     "execution_count": 40,
     "metadata": {},
     "output_type": "execute_result"
    }
   ],
   "source": [
    "x=rand(5000) # generate a random vector"
   ]
  },
  {
   "cell_type": "code",
   "execution_count": 46,
   "metadata": {
    "collapsed": false
   },
   "outputs": [
    {
     "name": "stdout",
     "output_type": "stream",
     "text": [
      "  "
     ]
    },
    {
     "data": {
      "text/plain": [
       "5000x5000 Array{Float64,2}:\n",
       " 0.584088   0.584088   0.584088   …  0.584088   0.584088   0.584088 \n",
       " 0.123995   0.123995   0.123995      0.123995   0.123995   0.123995 \n",
       " 0.706473   0.706473   0.706473      0.706473   0.706473   0.706473 \n",
       " 0.277878   0.277878   0.277878      0.277878   0.277878   0.277878 \n",
       " 0.812163   0.812163   0.812163      0.812163   0.812163   0.812163 \n",
       " 0.807963   0.807963   0.807963   …  0.807963   0.807963   0.807963 \n",
       " 0.0946712  0.0946712  0.0946712     0.0946712  0.0946712  0.0946712\n",
       " 0.93232    0.93232    0.93232       0.93232    0.93232    0.93232  \n",
       " 0.656777   0.656777   0.656777      0.656777   0.656777   0.656777 \n",
       " 0.520534   0.520534   0.520534      0.520534   0.520534   0.520534 \n",
       " 0.405492   0.405492   0.405492   …  0.405492   0.405492   0.405492 \n",
       " 0.385659   0.385659   0.385659      0.385659   0.385659   0.385659 \n",
       " 0.997815   0.997815   0.997815      0.997815   0.997815   0.997815 \n",
       " ⋮                                ⋱                                 \n",
       " 0.289552   0.289552   0.289552      0.289552   0.289552   0.289552 \n",
       " 0.540741   0.540741   0.540741      0.540741   0.540741   0.540741 \n",
       " 0.207564   0.207564   0.207564   …  0.207564   0.207564   0.207564 \n",
       " 0.0756819  0.0756819  0.0756819     0.0756819  0.0756819  0.0756819\n",
       " 0.20071    0.20071    0.20071       0.20071    0.20071    0.20071  \n",
       " 0.0562943  0.0562943  0.0562943     0.0562943  0.0562943  0.0562943\n",
       " 0.909588   0.909588   0.909588      0.909588   0.909588   0.909588 \n",
       " 0.506497   0.506497   0.506497   …  0.506497   0.506497   0.506497 \n",
       " 0.0210987  0.0210987  0.0210987     0.0210987  0.0210987  0.0210987\n",
       " 0.407645   0.407645   0.407645      0.407645   0.407645   0.407645 \n",
       " 0.88234    0.88234    0.88234       0.88234    0.88234    0.88234  \n",
       " 0.1267     0.1267     0.1267        0.1267     0.1267     0.1267   "
      ]
     },
     "execution_count": 46,
     "metadata": {},
     "output_type": "execute_result"
    },
    {
     "name": "stdout",
     "output_type": "stream",
     "text": [
      "0.124434 seconds (4.50 k allocations: 190.804 MB)\n"
     ]
    }
   ],
   "source": [
    "@time C=copy_cols(x)  # We generate a large matrix"
   ]
  },
  {
   "cell_type": "code",
   "execution_count": 47,
   "metadata": {
    "collapsed": false
   },
   "outputs": [
    {
     "name": "stdout",
     "output_type": "stream",
     "text": [
      "  "
     ]
    },
    {
     "data": {
      "text/plain": [
       "5000x5000 Array{Float64,2}:\n",
       " 0.584088  0.123995  0.706473  0.277878  …  0.407645  0.88234  0.1267\n",
       " 0.584088  0.123995  0.706473  0.277878     0.407645  0.88234  0.1267\n",
       " 0.584088  0.123995  0.706473  0.277878     0.407645  0.88234  0.1267\n",
       " 0.584088  0.123995  0.706473  0.277878     0.407645  0.88234  0.1267\n",
       " 0.584088  0.123995  0.706473  0.277878     0.407645  0.88234  0.1267\n",
       " 0.584088  0.123995  0.706473  0.277878  …  0.407645  0.88234  0.1267\n",
       " 0.584088  0.123995  0.706473  0.277878     0.407645  0.88234  0.1267\n",
       " 0.584088  0.123995  0.706473  0.277878     0.407645  0.88234  0.1267\n",
       " 0.584088  0.123995  0.706473  0.277878     0.407645  0.88234  0.1267\n",
       " 0.584088  0.123995  0.706473  0.277878     0.407645  0.88234  0.1267\n",
       " 0.584088  0.123995  0.706473  0.277878  …  0.407645  0.88234  0.1267\n",
       " 0.584088  0.123995  0.706473  0.277878     0.407645  0.88234  0.1267\n",
       " 0.584088  0.123995  0.706473  0.277878     0.407645  0.88234  0.1267\n",
       " ⋮                                       ⋱                           \n",
       " 0.584088  0.123995  0.706473  0.277878     0.407645  0.88234  0.1267\n",
       " 0.584088  0.123995  0.706473  0.277878     0.407645  0.88234  0.1267\n",
       " 0.584088  0.123995  0.706473  0.277878  …  0.407645  0.88234  0.1267\n",
       " 0.584088  0.123995  0.706473  0.277878     0.407645  0.88234  0.1267\n",
       " 0.584088  0.123995  0.706473  0.277878     0.407645  0.88234  0.1267\n",
       " 0.584088  0.123995  0.706473  0.277878     0.407645  0.88234  0.1267\n",
       " 0.584088  0.123995  0.706473  0.277878     0.407645  0.88234  0.1267\n",
       " 0.584088  0.123995  0.706473  0.277878  …  0.407645  0.88234  0.1267\n",
       " 0.584088  0.123995  0.706473  0.277878     0.407645  0.88234  0.1267\n",
       " 0.584088  0.123995  0.706473  0.277878     0.407645  0.88234  0.1267\n",
       " 0.584088  0.123995  0.706473  0.277878     0.407645  0.88234  0.1267\n",
       " 0.584088  0.123995  0.706473  0.277878     0.407645  0.88234  0.1267"
      ]
     },
     "execution_count": 47,
     "metadata": {},
     "output_type": "execute_result"
    },
    {
     "name": "stdout",
     "output_type": "stream",
     "text": [
      "0.415047 seconds (4.50 k allocations: 190.804 MB, 12.76% gc time)\n"
     ]
    }
   ],
   "source": [
    "@time D=copy_rows(x) # This is several times slower"
   ]
  },
  {
   "cell_type": "markdown",
   "metadata": {},
   "source": [
    "### Remark\n",
    "There is also a built-in function `repmat()`:"
   ]
  },
  {
   "cell_type": "code",
   "execution_count": 48,
   "metadata": {
    "collapsed": false
   },
   "outputs": [
    {
     "name": "stdout",
     "output_type": "stream",
     "text": [
      "search: "
     ]
    },
    {
     "data": {
      "text/latex": [
       "\\begin{verbatim}\n",
       "repmat(A, n, m)\n",
       "\\end{verbatim}\n",
       "Construct a matrix by repeating the given matrix \\texttt{n} times in dimension 1 and \\texttt{m} times in dimension 2.\n"
      ],
      "text/markdown": [
       "```\n",
       "repmat(A, n, m)\n",
       "```\n",
       "\n",
       "Construct a matrix by repeating the given matrix `n` times in dimension 1 and `m` times in dimension 2.\n"
      ],
      "text/plain": [
       "```\n",
       "repmat(A, n, m)\n",
       "```\n",
       "\n",
       "Construct a matrix by repeating the given matrix `n` times in dimension 1 and `m` times in dimension 2.\n"
      ]
     },
     "execution_count": 48,
     "metadata": {},
     "output_type": "execute_result"
    },
    {
     "name": "stdout",
     "output_type": "stream",
     "text": [
      "repmat\n",
      "\n"
     ]
    }
   ],
   "source": [
    "?repmat"
   ]
  },
  {
   "cell_type": "code",
   "execution_count": 49,
   "metadata": {
    "collapsed": false
   },
   "outputs": [
    {
     "name": "stdout",
     "output_type": "stream",
     "text": [
      "  "
     ]
    },
    {
     "data": {
      "text/plain": [
       "5000x5000 Array{Float64,2}:\n",
       " 0.584088   0.584088   0.584088   …  0.584088   0.584088   0.584088 \n",
       " 0.123995   0.123995   0.123995      0.123995   0.123995   0.123995 \n",
       " 0.706473   0.706473   0.706473      0.706473   0.706473   0.706473 \n",
       " 0.277878   0.277878   0.277878      0.277878   0.277878   0.277878 \n",
       " 0.812163   0.812163   0.812163      0.812163   0.812163   0.812163 \n",
       " 0.807963   0.807963   0.807963   …  0.807963   0.807963   0.807963 \n",
       " 0.0946712  0.0946712  0.0946712     0.0946712  0.0946712  0.0946712\n",
       " 0.93232    0.93232    0.93232       0.93232    0.93232    0.93232  \n",
       " 0.656777   0.656777   0.656777      0.656777   0.656777   0.656777 \n",
       " 0.520534   0.520534   0.520534      0.520534   0.520534   0.520534 \n",
       " 0.405492   0.405492   0.405492   …  0.405492   0.405492   0.405492 \n",
       " 0.385659   0.385659   0.385659      0.385659   0.385659   0.385659 \n",
       " 0.997815   0.997815   0.997815      0.997815   0.997815   0.997815 \n",
       " ⋮                                ⋱                                 \n",
       " 0.289552   0.289552   0.289552      0.289552   0.289552   0.289552 \n",
       " 0.540741   0.540741   0.540741      0.540741   0.540741   0.540741 \n",
       " 0.207564   0.207564   0.207564   …  0.207564   0.207564   0.207564 \n",
       " 0.0756819  0.0756819  0.0756819     0.0756819  0.0756819  0.0756819\n",
       " 0.20071    0.20071    0.20071       0.20071    0.20071    0.20071  \n",
       " 0.0562943  0.0562943  0.0562943     0.0562943  0.0562943  0.0562943\n",
       " 0.909588   0.909588   0.909588      0.909588   0.909588   0.909588 \n",
       " 0.506497   0.506497   0.506497   …  0.506497   0.506497   0.506497 \n",
       " 0.0210987  0.0210987  0.0210987     0.0210987  0.0210987  0.0210987\n",
       " 0.407645   0.407645   0.407645      0.407645   0.407645   0.407645 \n",
       " 0.88234    0.88234    0.88234       0.88234    0.88234    0.88234  \n",
       " 0.1267     0.1267     0.1267        0.1267     0.1267     0.1267   "
      ]
     },
     "execution_count": 49,
     "metadata": {},
     "output_type": "execute_result"
    },
    {
     "name": "stdout",
     "output_type": "stream",
     "text": [
      "0.167700 seconds (60.16 k allocations: 193.389 MB)\n"
     ]
    }
   ],
   "source": [
    "@time C1=repmat(x,1,5000)"
   ]
  },
  {
   "cell_type": "code",
   "execution_count": 35,
   "metadata": {
    "collapsed": false
   },
   "outputs": [],
   "source": []
  }
 ],
 "metadata": {
  "kernelspec": {
   "display_name": "Julia 0.4.5",
   "language": "julia",
   "name": "julia-0.4"
  },
  "language_info": {
   "file_extension": ".jl",
   "mimetype": "application/julia",
   "name": "julia",
   "version": "0.4.5"
  }
 },
 "nbformat": 4,
 "nbformat_minor": 0
}
