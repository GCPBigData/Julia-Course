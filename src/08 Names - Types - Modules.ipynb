{
 "metadata": {
  "language": "Julia",
  "name": "",
  "signature": "sha256:6cd2bb5ffdff5f0e24d91df47f587126546eb3f75433a8f981e1f295ed87e4ff"
 },
 "nbformat": 3,
 "nbformat_minor": 0,
 "worksheets": [
  {
   "cells": [
    {
     "cell_type": "markdown",
     "metadata": {},
     "source": [
      "## `names()`, `.types`, `super()`, `subtypes()`, `issubtype()`"
     ]
    },
    {
     "cell_type": "code",
     "collapsed": false,
     "input": [
      "?names"
     ],
     "language": "python",
     "metadata": {},
     "outputs": [
      {
       "output_type": "stream",
       "stream": "stdout",
       "text": [
        "Base.names(x::Module[, all=false[, imported=false]])\n",
        "\n",
        "   Get an array of the names exported by a module, with optionally\n",
        "   more module globals according to the additional parameters.\n"
       ]
      },
      {
       "output_type": "stream",
       "stream": "stdout",
       "text": [
        "\n",
        "Base.names(x::DataType)\n",
        "\n",
        "   Get an array of the fields of a data type.\n"
       ]
      }
     ],
     "prompt_number": 1
    },
    {
     "cell_type": "code",
     "collapsed": false,
     "input": [
      "?super"
     ],
     "language": "python",
     "metadata": {},
     "outputs": [
      {
       "output_type": "stream",
       "stream": "stdout",
       "text": [
        "Base.super(T::DataType)\n",
        "\n",
        "   Return the supertype of DataType T\n"
       ]
      }
     ],
     "prompt_number": 3
    },
    {
     "cell_type": "code",
     "collapsed": false,
     "input": [
      "?subtypes"
     ],
     "language": "python",
     "metadata": {},
     "outputs": [
      {
       "output_type": "stream",
       "stream": "stdout",
       "text": [
        "Base.subtypes(T::DataType)\n",
        "\n",
        "   Return a list of immediate subtypes of DataType T.  Note that all\n",
        "   currently loaded subtypes are included, including those not visible\n",
        "   in the current module.\n"
       ]
      }
     ],
     "prompt_number": 4
    },
    {
     "cell_type": "code",
     "collapsed": false,
     "input": [
      "?issubtype"
     ],
     "language": "python",
     "metadata": {},
     "outputs": [
      {
       "output_type": "stream",
       "stream": "stdout",
       "text": [
        "Base.issubtype(type1, type2)\n",
        "\n",
        "   True if and only if all values of \"type1\" are also of \"type2\".\n",
        "   Can also be written using the \"<:\" infix operator as \"type1 <:\n",
        "   type2\".\n"
       ]
      }
     ],
     "prompt_number": 5
    },
    {
     "cell_type": "code",
     "collapsed": false,
     "input": [],
     "language": "python",
     "metadata": {},
     "outputs": []
    }
   ],
   "metadata": {}
  }
 ]
}