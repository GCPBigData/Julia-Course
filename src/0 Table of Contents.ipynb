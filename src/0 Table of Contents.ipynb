{
 "metadata": {
  "language": "Julia",
  "name": "",
  "signature": "sha256:b09711e3312cf983d9610d7792908e5681193fd4ea55dff22c864fe17e5a0df4"
 },
 "nbformat": 3,
 "nbformat_minor": 0,
 "worksheets": [
  {
   "cells": [
    {
     "cell_type": "markdown",
     "metadata": {},
     "source": [
      "# Julia Course - Table of Contents\n",
      "\n",
      "1. [Manifest - Teaching - Julia - Research](1 Manifest.ipynb)\n",
      "2. [Installation](2 Installation.ipynb)\n",
      "3. [Lightning Round - Basic Features and Commands](2 Lightning.ipynb)\n",
      "4. [Julia is open - `whos()`, `methods()` and `@which`](4 Help.ipynb)\n",
      "5. [Julia is fast - `@time` and `@elapsed`](5 Fast.ipynb)\n",
      "6. [Profiling](6 Profiling.ipynb)\n"
     ]
    },
    {
     "cell_type": "code",
     "collapsed": false,
     "input": [],
     "language": "python",
     "metadata": {},
     "outputs": []
    }
   ],
   "metadata": {}
  }
 ]
}