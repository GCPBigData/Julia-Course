{
 "metadata": {
  "language": "Julia",
  "name": "",
  "signature": "sha256:cab7762f8049e9ac102d057566ddc57fadb48d36000d723dcc125e336122f71d"
 },
 "nbformat": 3,
 "nbformat_minor": 0,
 "worksheets": [
  {
   "cells": [
    {
     "cell_type": "markdown",
     "metadata": {},
     "source": [
      "# Julia Course - Table of Contents\n",
      "\n",
      "1. [Manifest - Teaching - Julia - Research](1 Manifest.ipynb)\n",
      "2. [Installation](2 Installation.ipynb)\n",
      "3. [Lightning Round - Basic Features and Commands](2 Lightning.ipynb)\n"
     ]
    },
    {
     "cell_type": "code",
     "collapsed": false,
     "input": [],
     "language": "python",
     "metadata": {},
     "outputs": []
    }
   ],
   "metadata": {}
  }
 ]
}