{
 "metadata": {
  "language": "Julia",
  "name": "",
  "signature": "sha256:a0d4a6b1330b1c293540a043e508233e350255d05811bd523580047d2f3416d1"
 },
 "nbformat": 3,
 "nbformat_minor": 0,
 "worksheets": [
  {
   "cells": [
    {
     "cell_type": "markdown",
     "metadata": {},
     "source": [
      "# Lightning Round - Basic Features and Commands \n",
      "\n",
      "In this notebook, we quickly go through basic constructs and commands.\n",
      "\n",
      "## Competences \n",
      "\n",
      "The user should know to start `Julia` in various modes (command line prompt, `IJulia`), how to exit, learn some features and be able to write simple programs.\n",
      "\n",
      "## Credits\n",
      "\n",
      "This notebook is based on the [slides](https://github.com/JuliaLang/julia-tutorial/tree/master/LightningRound) accompanying  the Lightning Round [video]( https://www.youtube.com/watch?v=37L1OMk_3FU&feature=player_embedded#at=33) by [Alan Edelman](http://www-math.mit.edu/~edelman/index.php), all part of the [Julia Tutorial](https://github.com/JuliaLang/julia-tutorial).\n",
      "\n",
      "---"
     ]
    },
    {
     "cell_type": "markdown",
     "metadata": {},
     "source": [
      "## Execution\n",
      "To execute cell use `Shift + Enter` or press `Play` (__Run cell__).\n",
      "\n",
      "To run all cells in the notebook go to `Cell` -> `Run All` "
     ]
    },
    {
     "cell_type": "markdown",
     "metadata": {},
     "source": [
      "## Which version of `Julia` is running?"
     ]
    },
    {
     "cell_type": "code",
     "collapsed": false,
     "input": [
      "versioninfo()"
     ],
     "language": "python",
     "metadata": {},
     "outputs": [
      {
       "output_type": "stream",
       "stream": "stdout",
       "text": [
        "Julia Version 0.4.0-dev+2070\n"
       ]
      },
      {
       "output_type": "stream",
       "stream": "stdout",
       "text": [
        "Commit f2b5a11* (2014-12-11 10:19 UTC)\n",
        "Platform Info:\n",
        "  System: Linux (x86_64-linux-gnu)\n",
        "  CPU: Intel(R) Core(TM) i7-4610M CPU @ 3.00GHz\n",
        "  WORD_SIZE: 64\n",
        "  BLAS: libopenblas (USE64BITINT DYNAMIC_ARCH NO_AFFINITY Haswell)\n",
        "  LAPACK: libopenblas\n",
        "  LIBM: libopenlibm\n",
        "  LLVM: libLLVM-3.3\n"
       ]
      }
     ],
     "prompt_number": 2
    },
    {
     "cell_type": "markdown",
     "metadata": {},
     "source": [
      "## Quitting\n",
      "\n",
      "__Exiting__ from `julia>` or __restarting kernel__ in `IJulia`"
     ]
    },
    {
     "cell_type": "code",
     "collapsed": false,
     "input": [
      "# exit()"
     ],
     "language": "python",
     "metadata": {},
     "outputs": [],
     "prompt_number": 1
    },
    {
     "cell_type": "markdown",
     "metadata": {},
     "source": [
      "## Documentation\n",
      "\n",
      "Documentation is well written and the starting point is http://docs.julialang.org/en/latest/\n",
      "\n",
      "But, also remeber that `Julia` is __open source__ and all routines are available on [Github](http://github.com). You will learn how to make full use of this later in the course."
     ]
    },
    {
     "cell_type": "markdown",
     "metadata": {},
     "source": [
      "## Punctuation review\n",
      "\n",
      "* `[...]` are for indexing, array constructors and __Comprehensions__\n",
      "* `(...)` are __required__ for functions `quit()`, `tic()`, `toc()`, `help()` \n",
      "* `{...}` are for arrays\n",
      "* `#` is for comments"
     ]
    },
    {
     "cell_type": "markdown",
     "metadata": {},
     "source": [
      "## Basic indexing"
     ]
    },
    {
     "cell_type": "code",
     "collapsed": false,
     "input": [
      "A=rand(5,5) # Matrix with random entries between 0 and 1"
     ],
     "language": "python",
     "metadata": {},
     "outputs": [
      {
       "metadata": {},
       "output_type": "pyout",
       "prompt_number": 3,
       "text": [
        "5x5 Array{Float64,2}:\n",
        " 0.845816  0.987748   0.640414  0.235523  0.864175 \n",
        " 0.855544  0.106295   0.37717   0.870207  0.618794 \n",
        " 0.163167  0.0674391  0.156432  0.137077  0.438727 \n",
        " 0.617688  0.686      0.619044  0.129407  0.991623 \n",
        " 0.7188    0.451738   0.404449  0.208886  0.0681362"
       ]
      }
     ],
     "prompt_number": 3
    },
    {
     "cell_type": "code",
     "collapsed": false,
     "input": [
      "A[1,1]"
     ],
     "language": "python",
     "metadata": {},
     "outputs": [
      {
       "metadata": {},
       "output_type": "pyout",
       "prompt_number": 4,
       "text": [
        "0.8458159936614338"
       ]
      }
     ],
     "prompt_number": 4
    },
    {
     "cell_type": "code",
     "collapsed": false,
     "input": [
      "rand(5,5)[1:2,3:4] # You can even do this"
     ],
     "language": "python",
     "metadata": {},
     "outputs": [
      {
       "metadata": {},
       "output_type": "pyout",
       "prompt_number": 5,
       "text": [
        "2x2 Array{Float64,2}:\n",
        " 0.560802  0.849448\n",
        " 0.359354  0.964577"
       ]
      }
     ],
     "prompt_number": 5
    },
    {
     "cell_type": "markdown",
     "metadata": {},
     "source": [
      "### Indexing is elegant\n",
      "\n",
      "If you want to compute the lower right $2\\times 2$ block of $A^{10}$, in most languages you need to first compute $B=A^{10}$ and then index into $B$. In Julia, the command is simply"
     ]
    },
    {
     "cell_type": "code",
     "collapsed": false,
     "input": [
      "(A^10)[4:5,4:5] # Parenthesses around A^10 are necessary"
     ],
     "language": "python",
     "metadata": {},
     "outputs": [
      {
       "metadata": {},
       "output_type": "pyout",
       "prompt_number": 6,
       "text": [
        "2x2 Array{Float64,2}:\n",
        " 1385.54   2466.23\n",
        "  969.598  1725.91"
       ]
      }
     ],
     "prompt_number": 6
    },
    {
     "cell_type": "markdown",
     "metadata": {},
     "source": [
      "### Comprehensions - elegant array constructors"
     ]
    },
    {
     "cell_type": "code",
     "collapsed": false,
     "input": [
      "[i for i=1:5]"
     ],
     "language": "python",
     "metadata": {},
     "outputs": [
      {
       "metadata": {},
       "output_type": "pyout",
       "prompt_number": 7,
       "text": [
        "5-element Array{Int64,1}:\n",
        " 1\n",
        " 2\n",
        " 3\n",
        " 4\n",
        " 5"
       ]
      }
     ],
     "prompt_number": 7
    },
    {
     "cell_type": "code",
     "collapsed": false,
     "input": [
      "[trace(rand(n,n)) for n=1:5]"
     ],
     "language": "python",
     "metadata": {},
     "outputs": [
      {
       "metadata": {},
       "output_type": "pyout",
       "prompt_number": 8,
       "text": [
        "5-element Array{Float64,1}:\n",
        " 0.637404\n",
        " 1.01537 \n",
        " 1.42883 \n",
        " 2.39076 \n",
        " 1.99465 "
       ]
      }
     ],
     "prompt_number": 8
    },
    {
     "cell_type": "code",
     "collapsed": false,
     "input": [
      "x=1:10"
     ],
     "language": "python",
     "metadata": {},
     "outputs": [
      {
       "metadata": {},
       "output_type": "pyout",
       "prompt_number": 9,
       "text": [
        "1:10"
       ]
      }
     ],
     "prompt_number": 9
    },
    {
     "cell_type": "code",
     "collapsed": false,
     "input": [
      "[ x[i]+x[i+1] for i=1:9 ]"
     ],
     "language": "python",
     "metadata": {},
     "outputs": [
      {
       "metadata": {},
       "output_type": "pyout",
       "prompt_number": 10,
       "text": [
        "9-element Array{Any,1}:\n",
        "  3\n",
        "  5\n",
        "  7\n",
        "  9\n",
        " 11\n",
        " 13\n",
        " 15\n",
        " 17\n",
        " 19"
       ]
      }
     ],
     "prompt_number": 10
    },
    {
     "cell_type": "code",
     "collapsed": false,
     "input": [
      "z = {eye(n) for n=1:5}  # z is Array of Arrays"
     ],
     "language": "python",
     "metadata": {},
     "outputs": [
      {
       "output_type": "stream",
       "stream": "stderr",
       "text": [
        "\n",
        "WARNING: deprecated syntax \"{a for a in b}\" at In[11]:1.\n",
        "Use \"Any[a for a in b]\" instead.\n"
       ]
      },
      {
       "metadata": {},
       "output_type": "pyout",
       "prompt_number": 11,
       "text": [
        "5-element Array{Any,1}:\n",
        " 1x1 Array{Float64,2}:\n",
        " 1.0                                                                                                                        \n",
        " 2x2 Array{Float64,2}:\n",
        " 1.0  0.0\n",
        " 0.0  1.0                                                                                                         \n",
        " 3x3 Array{Float64,2}:\n",
        " 1.0  0.0  0.0\n",
        " 0.0  1.0  0.0\n",
        " 0.0  0.0  1.0                                                                                \n",
        " 4x4 Array{Float64,2}:\n",
        " 1.0  0.0  0.0  0.0\n",
        " 0.0  1.0  0.0  0.0\n",
        " 0.0  0.0  1.0  0.0\n",
        " 0.0  0.0  0.0  1.0                                             \n",
        " 5x5 Array{Float64,2}:\n",
        " 1.0  0.0  0.0  0.0  0.0\n",
        " 0.0  1.0  0.0  0.0  0.0\n",
        " 0.0  0.0  1.0  0.0  0.0\n",
        " 0.0  0.0  0.0  1.0  0.0\n",
        " 0.0  0.0  0.0  0.0  1.0"
       ]
      }
     ],
     "prompt_number": 11
    },
    {
     "cell_type": "code",
     "collapsed": false,
     "input": [
      "z[1] # First element is a 1x1 Array "
     ],
     "language": "python",
     "metadata": {},
     "outputs": [
      {
       "metadata": {},
       "output_type": "pyout",
       "prompt_number": 12,
       "text": [
        "1x1 Array{Float64,2}:\n",
        " 1.0"
       ]
      }
     ],
     "prompt_number": 12
    },
    {
     "cell_type": "code",
     "collapsed": false,
     "input": [
      "z[4] # What is the fourth element?"
     ],
     "language": "python",
     "metadata": {},
     "outputs": [
      {
       "metadata": {},
       "output_type": "pyout",
       "prompt_number": 13,
       "text": [
        "4x4 Array{Float64,2}:\n",
        " 1.0  0.0  0.0  0.0\n",
        " 0.0  1.0  0.0  0.0\n",
        " 0.0  0.0  1.0  0.0\n",
        " 0.0  0.0  0.0  1.0"
       ]
      }
     ],
     "prompt_number": 13
    },
    {
     "cell_type": "code",
     "collapsed": false,
     "input": [
      "A=[ i+j for i=1:5, j=1:5 ] # Another example of a comprehension"
     ],
     "language": "python",
     "metadata": {},
     "outputs": [
      {
       "metadata": {},
       "output_type": "pyout",
       "prompt_number": 14,
       "text": [
        "5x5 Array{Int64,2}:\n",
        " 2  3  4  5   6\n",
        " 3  4  5  6   7\n",
        " 4  5  6  7   8\n",
        " 5  6  7  8   9\n",
        " 6  7  8  9  10"
       ]
      }
     ],
     "prompt_number": 14
    },
    {
     "cell_type": "markdown",
     "metadata": {},
     "source": [
      "## Commands `ndims()` and `typeof()`"
     ]
    },
    {
     "cell_type": "code",
     "collapsed": false,
     "input": [
      "ndims(ans)"
     ],
     "language": "python",
     "metadata": {},
     "outputs": [
      {
       "metadata": {},
       "output_type": "pyout",
       "prompt_number": 15,
       "text": [
        "2"
       ]
      }
     ],
     "prompt_number": 15
    },
    {
     "cell_type": "code",
     "collapsed": false,
     "input": [
      "ndims(z) # z is a one-dimensional array"
     ],
     "language": "python",
     "metadata": {},
     "outputs": [
      {
       "metadata": {},
       "output_type": "pyout",
       "prompt_number": 16,
       "text": [
        "1"
       ]
      }
     ],
     "prompt_number": 16
    },
    {
     "cell_type": "code",
     "collapsed": false,
     "input": [
      "typeof(z)"
     ],
     "language": "python",
     "metadata": {},
     "outputs": [
      {
       "metadata": {},
       "output_type": "pyout",
       "prompt_number": 17,
       "text": [
        "Array{Any,1}"
       ]
      }
     ],
     "prompt_number": 17
    },
    {
     "cell_type": "code",
     "collapsed": false,
     "input": [
      "typeof(z[5]) # z[5] is a two-dimensional array"
     ],
     "language": "python",
     "metadata": {},
     "outputs": [
      {
       "metadata": {},
       "output_type": "pyout",
       "prompt_number": 18,
       "text": [
        "Array{Float64,2}"
       ]
      }
     ],
     "prompt_number": 18
    },
    {
     "cell_type": "code",
     "collapsed": false,
     "input": [
      "typeof(A)"
     ],
     "language": "python",
     "metadata": {},
     "outputs": [
      {
       "metadata": {},
       "output_type": "pyout",
       "prompt_number": 19,
       "text": [
        "Array{Int64,2}"
       ]
      }
     ],
     "prompt_number": 19
    },
    {
     "cell_type": "markdown",
     "metadata": {},
     "source": [
      "## Vectors are 1-dimensional arrays\n",
      "\n",
      "See [Multi-dimensional arrays](http://julia.readthedocs.org/en/latest/manual/arrays/) for more."
     ]
    },
    {
     "cell_type": "code",
     "collapsed": false,
     "input": [
      "v=rand(5,1) # This is 2-dimensional array"
     ],
     "language": "python",
     "metadata": {},
     "outputs": [
      {
       "metadata": {},
       "output_type": "pyout",
       "prompt_number": 20,
       "text": [
        "5x1 Array{Float64,2}:\n",
        " 0.969474\n",
        " 0.308496\n",
        " 0.453864\n",
        " 0.594792\n",
        " 0.374175"
       ]
      }
     ],
     "prompt_number": 20
    },
    {
     "cell_type": "code",
     "collapsed": false,
     "input": [
      "vv=vec(v) # This is an 1-dimensional array or vector"
     ],
     "language": "python",
     "metadata": {},
     "outputs": [
      {
       "metadata": {},
       "output_type": "pyout",
       "prompt_number": 21,
       "text": [
        "5-element Array{Float64,1}:\n",
        " 0.969474\n",
        " 0.308496\n",
        " 0.453864\n",
        " 0.594792\n",
        " 0.374175"
       ]
      }
     ],
     "prompt_number": 21
    },
    {
     "cell_type": "code",
     "collapsed": false,
     "input": [
      "v==vv  # Notice that they are different"
     ],
     "language": "python",
     "metadata": {},
     "outputs": [
      {
       "metadata": {},
       "output_type": "pyout",
       "prompt_number": 22,
       "text": [
        "false"
       ]
      }
     ],
     "prompt_number": 22
    },
    {
     "cell_type": "code",
     "collapsed": false,
     "input": [
      "w=rand(5) # This is again a vector"
     ],
     "language": "python",
     "metadata": {},
     "outputs": [
      {
       "metadata": {},
       "output_type": "pyout",
       "prompt_number": 23,
       "text": [
        "5-element Array{Float64,1}:\n",
        " 0.587433\n",
        " 0.973609\n",
        " 0.663726\n",
        " 0.673986\n",
        " 0.444724"
       ]
      }
     ],
     "prompt_number": 23
    },
    {
     "cell_type": "code",
     "collapsed": false,
     "input": [
      "Mv=[v w] # First column is a 5 x 1 matrix, second column is a vector of length 5"
     ],
     "language": "python",
     "metadata": {},
     "outputs": [
      {
       "metadata": {},
       "output_type": "pyout",
       "prompt_number": 24,
       "text": [
        "5x2 Array{Float64,2}:\n",
        " 0.969474  0.587433\n",
        " 0.308496  0.973609\n",
        " 0.453864  0.663726\n",
        " 0.594792  0.673986\n",
        " 0.374175  0.444724"
       ]
      }
     ],
     "prompt_number": 24
    },
    {
     "cell_type": "code",
     "collapsed": false,
     "input": [
      "x=Mv[:,1] # Matrix columns are extracted as vectors"
     ],
     "language": "python",
     "metadata": {},
     "outputs": [
      {
       "metadata": {},
       "output_type": "pyout",
       "prompt_number": 25,
       "text": [
        "5-element Array{Float64,1}:\n",
        " 0.969474\n",
        " 0.308496\n",
        " 0.453864\n",
        " 0.594792\n",
        " 0.374175"
       ]
      }
     ],
     "prompt_number": 25
    },
    {
     "cell_type": "code",
     "collapsed": false,
     "input": [
      "y=Mv[:,2]"
     ],
     "language": "python",
     "metadata": {},
     "outputs": [
      {
       "metadata": {},
       "output_type": "pyout",
       "prompt_number": 26,
       "text": [
        "5-element Array{Float64,1}:\n",
        " 0.587433\n",
        " 0.973609\n",
        " 0.663726\n",
        " 0.673986\n",
        " 0.444724"
       ]
      }
     ],
     "prompt_number": 26
    },
    {
     "cell_type": "code",
     "collapsed": false,
     "input": [
      "x==v # The types differ"
     ],
     "language": "python",
     "metadata": {},
     "outputs": [
      {
       "metadata": {},
       "output_type": "pyout",
       "prompt_number": 27,
       "text": [
        "false"
       ]
      }
     ],
     "prompt_number": 27
    },
    {
     "cell_type": "code",
     "collapsed": false,
     "input": [
      "y==w"
     ],
     "language": "python",
     "metadata": {},
     "outputs": [
      {
       "metadata": {},
       "output_type": "pyout",
       "prompt_number": 28,
       "text": [
        "true"
       ]
      }
     ],
     "prompt_number": 28
    },
    {
     "cell_type": "markdown",
     "metadata": {},
     "source": [
      "Such behavior is due to the fact that `Julia` has vectors as a special type. Pros? Cons?"
     ]
    },
    {
     "cell_type": "markdown",
     "metadata": {},
     "source": [
      "### Sometimes brackets are needed"
     ]
    },
    {
     "cell_type": "code",
     "collapsed": false,
     "input": [
      "w=1.0:5"
     ],
     "language": "python",
     "metadata": {},
     "outputs": [
      {
       "metadata": {},
       "output_type": "pyout",
       "prompt_number": 34,
       "text": [
        "1.0:1.0:5.0"
       ]
      }
     ],
     "prompt_number": 34
    },
    {
     "cell_type": "code",
     "collapsed": false,
     "input": [
      "A*w  # This returns an error"
     ],
     "language": "python",
     "metadata": {},
     "outputs": [
      {
       "ename": "LoadError",
       "evalue": "`A_mul_B!` has no method matching A_mul_B!(::Array{Float64,1}, ::Array{Int64,2}, ::FloatRange{Float64})\nClosest candidates are:\n  A_mul_B!(::Union(DenseArray{T,1},SubArray{T,1,A<:DenseArray{T,N},I<:(Union(Int64,Colon,Range{Int64})...,),LD}), ::Union(DenseArray{T,2},DenseArray{T,1},SubArray{T,2,A<:DenseArray{T,N},I<:(Union(Int64,Colon,Range{Int64})...,),LD},SubArray{T,1,A<:DenseArray{T,N},I<:(Union(Int64,Colon,Range{Int64})...,),LD}), ::Union(DenseArray{T,1},SubArray{T,1,A<:DenseArray{T,N},I<:(Union(Int64,Colon,Range{Int64})...,),LD}))\n  A_mul_B!(::Union(AbstractArray{T,2},AbstractArray{T,1}), ::Base.LinAlg.Tridiagonal{T}, ::Union(AbstractArray{T,2},AbstractArray{T,1}))\n  A_mul_B!(::Union(AbstractArray{T,2},AbstractArray{T,1}), ::Base.LinAlg.Triangular{T,S<:AbstractArray{T,2},UpLo,IsUnit}, ::Union(AbstractArray{T,2},AbstractArray{T,1}))\n  ...\n\nwhile loading In[35], in expression starting on line 1",
       "output_type": "pyerr",
       "traceback": [
        "`A_mul_B!` has no method matching A_mul_B!(::Array{Float64,1}, ::Array{Int64,2}, ::FloatRange{Float64})\nClosest candidates are:\n  A_mul_B!(::Union(DenseArray{T,1},SubArray{T,1,A<:DenseArray{T,N},I<:(Union(Int64,Colon,Range{Int64})...,),LD}), ::Union(DenseArray{T,2},DenseArray{T,1},SubArray{T,2,A<:DenseArray{T,N},I<:(Union(Int64,Colon,Range{Int64})...,),LD},SubArray{T,1,A<:DenseArray{T,N},I<:(Union(Int64,Colon,Range{Int64})...,),LD}), ::Union(DenseArray{T,1},SubArray{T,1,A<:DenseArray{T,N},I<:(Union(Int64,Colon,Range{Int64})...,),LD}))\n  A_mul_B!(::Union(AbstractArray{T,2},AbstractArray{T,1}), ::Base.LinAlg.Tridiagonal{T}, ::Union(AbstractArray{T,2},AbstractArray{T,1}))\n  A_mul_B!(::Union(AbstractArray{T,2},AbstractArray{T,1}), ::Base.LinAlg.Triangular{T,S<:AbstractArray{T,2},UpLo,IsUnit}, ::Union(AbstractArray{T,2},AbstractArray{T,1}))\n  ...\n\nwhile loading In[35], in expression starting on line 1",
        "",
        " in * at linalg/matmul.jl:72"
       ]
      }
     ],
     "prompt_number": 35
    },
    {
     "cell_type": "code",
     "collapsed": false,
     "input": [
      "w=[1.0:5] "
     ],
     "language": "python",
     "metadata": {},
     "outputs": [
      {
       "metadata": {},
       "output_type": "pyout",
       "prompt_number": 36,
       "text": [
        "5-element Array{Float64,1}:\n",
        " 1.0\n",
        " 2.0\n",
        " 3.0\n",
        " 4.0\n",
        " 5.0"
       ]
      }
     ],
     "prompt_number": 36
    },
    {
     "cell_type": "code",
     "collapsed": false,
     "input": [
      "A*w  # This returns a 1-dimensional array"
     ],
     "language": "python",
     "metadata": {},
     "outputs": [
      {
       "metadata": {},
       "output_type": "pyout",
       "prompt_number": 37,
       "text": [
        "5-element Array{Float64,1}:\n",
        "  70.0\n",
        "  85.0\n",
        " 100.0\n",
        " 115.0\n",
        " 130.0"
       ]
      }
     ],
     "prompt_number": 37
    },
    {
     "cell_type": "code",
     "collapsed": false,
     "input": [
      "A*v # This returns a 2-dimensional array - v is a 5 x 1 array"
     ],
     "language": "python",
     "metadata": {},
     "outputs": [
      {
       "metadata": {},
       "output_type": "pyout",
       "prompt_number": 38,
       "text": [
        "5x1 Array{Float64,2}:\n",
        "  9.8989\n",
        " 12.5997\n",
        " 15.3005\n",
        " 18.0013\n",
        " 20.7021"
       ]
      }
     ],
     "prompt_number": 38
    },
    {
     "cell_type": "markdown",
     "metadata": {},
     "source": [
      "## `ones()`, `eye()` and `zeros()`\n",
      "   \n",
      "Notice that the output type depends on the argument. This is a general Julia feature called `Multiple dispatch` \n",
      "and will be explained later in more detail. "
     ]
    },
    {
     "cell_type": "code",
     "collapsed": false,
     "input": [
      "ones(3,5), ones(5), ones(rand(1:3,4,6)) \n",
      "# The output type depends on the argument. Float64 is the default."
     ],
     "language": "python",
     "metadata": {},
     "outputs": [
      {
       "metadata": {},
       "output_type": "pyout",
       "prompt_number": 39,
       "text": [
        "(\n",
        "3x5 Array{Float64,2}:\n",
        " 1.0  1.0  1.0  1.0  1.0\n",
        " 1.0  1.0  1.0  1.0  1.0\n",
        " 1.0  1.0  1.0  1.0  1.0,\n",
        "\n",
        "[1.0,1.0,1.0,1.0,1.0],\n",
        "4x6 Array{Int64,2}:\n",
        " 1  1  1  1  1  1\n",
        " 1  1  1  1  1  1\n",
        " 1  1  1  1  1  1\n",
        " 1  1  1  1  1  1)"
       ]
      }
     ],
     "prompt_number": 39
    },
    {
     "cell_type": "code",
     "collapsed": false,
     "input": [
      "zeros(3,5), zeros(5), zeros(rand(1:3,4,6))"
     ],
     "language": "python",
     "metadata": {},
     "outputs": [
      {
       "metadata": {},
       "output_type": "pyout",
       "prompt_number": 40,
       "text": [
        "(\n",
        "3x5 Array{Float64,2}:\n",
        " 0.0  0.0  0.0  0.0  0.0\n",
        " 0.0  0.0  0.0  0.0  0.0\n",
        " 0.0  0.0  0.0  0.0  0.0,\n",
        "\n",
        "[0.0,0.0,0.0,0.0,0.0],\n",
        "4x6 Array{Int64,2}:\n",
        " 0  0  0  0  0  0\n",
        " 0  0  0  0  0  0\n",
        " 0  0  0  0  0  0\n",
        " 0  0  0  0  0  0)"
       ]
      }
     ],
     "prompt_number": 40
    },
    {
     "cell_type": "code",
     "collapsed": false,
     "input": [
      "eye(4), int(eye(4)), int64(eye(4)), int32(eye(4)), complex(eye(4)) \n",
      "# type can also be set"
     ],
     "language": "python",
     "metadata": {},
     "outputs": [
      {
       "metadata": {},
       "output_type": "pyout",
       "prompt_number": 41,
       "text": [
        "(\n",
        "4x4 Array{Float64,2}:\n",
        " 1.0  0.0  0.0  0.0\n",
        " 0.0  1.0  0.0  0.0\n",
        " 0.0  0.0  1.0  0.0\n",
        " 0.0  0.0  0.0  1.0,\n",
        "\n",
        "4x4 Array{Int64,2}:\n",
        " 1  0  0  0\n",
        " 0  1  0  0\n",
        " 0  0  1  0\n",
        " 0  0  0  1,\n",
        "\n",
        "4x4 Array{Int64,2}:\n",
        " 1  0  0  0\n",
        " 0  1  0  0\n",
        " 0  0  1  0\n",
        " 0  0  0  1,\n",
        "\n",
        "4x4 Array{Int32,2}:\n",
        " 1  0  0  0\n",
        " 0  1  0  0\n",
        " 0  0  1  0\n",
        " 0  0  0  1,\n",
        "\n",
        "4x4 Array{Complex{Float64},2}:\n",
        " 1.0+0.0im  0.0+0.0im  0.0+0.0im  0.0+0.0im\n",
        " 0.0+0.0im  1.0+0.0im  0.0+0.0im  0.0+0.0im\n",
        " 0.0+0.0im  0.0+0.0im  1.0+0.0im  0.0+0.0im\n",
        " 0.0+0.0im  0.0+0.0im  0.0+0.0im  1.0+0.0im)"
       ]
      }
     ],
     "prompt_number": 41
    },
    {
     "cell_type": "markdown",
     "metadata": {},
     "source": [
      " __Some important issues concerning usage of vectors and matrices will be described later!!__"
     ]
    },
    {
     "cell_type": "markdown",
     "metadata": {},
     "source": [
      "## Complex numbers\n",
      "\n",
      "`i` is too valuable symbol for loops, so Julia uses `im` for the complex unit. "
     ]
    },
    {
     "cell_type": "code",
     "collapsed": false,
     "input": [
      "im"
     ],
     "language": "python",
     "metadata": {},
     "outputs": [
      {
       "metadata": {},
       "output_type": "pyout",
       "prompt_number": 42,
       "text": [
        "im"
       ]
      }
     ],
     "prompt_number": 42
    },
    {
     "cell_type": "code",
     "collapsed": false,
     "input": [
      "2im"
     ],
     "language": "python",
     "metadata": {},
     "outputs": [
      {
       "metadata": {},
       "output_type": "pyout",
       "prompt_number": 43,
       "text": [
        "0 + 2im"
       ]
      }
     ],
     "prompt_number": 43
    },
    {
     "cell_type": "code",
     "collapsed": false,
     "input": [
      "typeof(ans)"
     ],
     "language": "python",
     "metadata": {},
     "outputs": [
      {
       "metadata": {},
       "output_type": "pyout",
       "prompt_number": 44,
       "text": [
        "Complex{Int64}"
       ]
      }
     ],
     "prompt_number": 44
    },
    {
     "cell_type": "code",
     "collapsed": false,
     "input": [
      "typeof(2.0im)"
     ],
     "language": "python",
     "metadata": {},
     "outputs": [
      {
       "metadata": {},
       "output_type": "pyout",
       "prompt_number": 45,
       "text": [
        "Complex{Float64}"
       ]
      }
     ],
     "prompt_number": 45
    },
    {
     "cell_type": "code",
     "collapsed": false,
     "input": [
      "complex(3,4) # Another way of defining complex numbers"
     ],
     "language": "python",
     "metadata": {},
     "outputs": [
      {
       "metadata": {},
       "output_type": "pyout",
       "prompt_number": 46,
       "text": [
        "3 + 4im"
       ]
      }
     ],
     "prompt_number": 46
    },
    {
     "cell_type": "code",
     "collapsed": false,
     "input": [
      "complex(3,4.0) # If one of the arguments if Float64, so is the entire number"
     ],
     "language": "python",
     "metadata": {},
     "outputs": [
      {
       "metadata": {},
       "output_type": "pyout",
       "prompt_number": 47,
       "text": [
        "3.0 + 4.0im"
       ]
      }
     ],
     "prompt_number": 47
    },
    {
     "cell_type": "code",
     "collapsed": false,
     "input": [
      "sqrt(-1) # This produces an error (like in any other language),"
     ],
     "language": "python",
     "metadata": {},
     "outputs": [
      {
       "ename": "LoadError",
       "evalue": "DomainError\nwhile loading In[48], in expression starting on line 1",
       "output_type": "pyerr",
       "traceback": [
        "DomainError\nwhile loading In[48], in expression starting on line 1",
        "",
        " in sqrt at math.jl:132"
       ]
      }
     ],
     "prompt_number": 48
    },
    {
     "cell_type": "code",
     "collapsed": false,
     "input": [
      "sqrt(complex(-1))  # and this is fine."
     ],
     "language": "python",
     "metadata": {},
     "outputs": [
      {
       "metadata": {},
       "output_type": "pyout",
       "prompt_number": 49,
       "text": [
        "0.0 + 1.0im"
       ]
      }
     ],
     "prompt_number": 49
    },
    {
     "cell_type": "markdown",
     "metadata": {},
     "source": [
      "## Ternary operator\n",
      "Let us define our version of the sign function"
     ]
    },
    {
     "cell_type": "code",
     "collapsed": false,
     "input": [
      "si(x) = (x>0) ? 1 : -1"
     ],
     "language": "python",
     "metadata": {},
     "outputs": [
      {
       "metadata": {},
       "output_type": "pyout",
       "prompt_number": 50,
       "text": [
        "si (generic function with 1 method)"
       ]
      }
     ],
     "prompt_number": 50
    },
    {
     "cell_type": "code",
     "collapsed": false,
     "input": [
      "si(-13)"
     ],
     "language": "python",
     "metadata": {},
     "outputs": [
      {
       "metadata": {},
       "output_type": "pyout",
       "prompt_number": 51,
       "text": [
        "-1"
       ]
      }
     ],
     "prompt_number": 51
    },
    {
     "cell_type": "markdown",
     "metadata": {},
     "source": [
      "This is equivalent to:"
     ]
    },
    {
     "cell_type": "code",
     "collapsed": false,
     "input": [
      "function si(x)\n",
      "    if x>0\n",
      "        return 1\n",
      "    else\n",
      "        return -1\n",
      "    end\n",
      "end"
     ],
     "language": "python",
     "metadata": {},
     "outputs": [
      {
       "metadata": {},
       "output_type": "pyout",
       "prompt_number": 52,
       "text": [
        "si (generic function with 1 method)"
       ]
      }
     ],
     "prompt_number": 52
    },
    {
     "cell_type": "code",
     "collapsed": false,
     "input": [
      "si(pi-8), si(0), si(0.0)"
     ],
     "language": "python",
     "metadata": {},
     "outputs": [
      {
       "metadata": {},
       "output_type": "pyout",
       "prompt_number": 53,
       "text": [
        "(-1,-1,-1)"
       ]
      }
     ],
     "prompt_number": 53
    },
    {
     "cell_type": "markdown",
     "metadata": {},
     "source": [
      "The expressions can be nested:"
     ]
    },
    {
     "cell_type": "code",
     "collapsed": false,
     "input": [
      "si(x) = (x>0) ? 1 : ((x<0) ? -1: 0) # now si(0) is 0"
     ],
     "language": "python",
     "metadata": {},
     "outputs": [
      {
       "metadata": {},
       "output_type": "pyout",
       "prompt_number": 54,
       "text": [
        "si (generic function with 1 method)"
       ]
      }
     ],
     "prompt_number": 54
    },
    {
     "cell_type": "code",
     "collapsed": false,
     "input": [
      "si(\u03c0-8), si(0) # '\\pi Tab' produces \u03c0 and means \u03c0"
     ],
     "language": "python",
     "metadata": {},
     "outputs": [
      {
       "metadata": {},
       "output_type": "pyout",
       "prompt_number": 55,
       "text": [
        "(-1,0)"
       ]
      }
     ],
     "prompt_number": 55
    },
    {
     "cell_type": "markdown",
     "metadata": {},
     "source": [
      "## Typing\n",
      "Special mathematical (LaTeX) symbols can be used (like $\\alpha$, $\\Xi$, $\\pi$, $\\oplus$, $\\cdot$, etc.). The symbol in both, the notebook and command line version, is produced by writing \n",
      "LaTeX command followed by `Tab` "
     ]
    },
    {
     "cell_type": "code",
     "collapsed": false,
     "input": [
      "\u039e = 8; \u03a8  = 6; \u0393 = \u039e \u22c5 \u03a8\n"
     ],
     "language": "python",
     "metadata": {},
     "outputs": [
      {
       "metadata": {},
       "output_type": "pyout",
       "prompt_number": 56,
       "text": [
        "48"
       ]
      }
     ],
     "prompt_number": 56
    },
    {
     "cell_type": "code",
     "collapsed": false,
     "input": [
      "typeof(\u0393)"
     ],
     "language": "python",
     "metadata": {},
     "outputs": [
      {
       "metadata": {},
       "output_type": "pyout",
       "prompt_number": 57,
       "text": [
        "Int64"
       ]
      }
     ],
     "prompt_number": 57
    },
    {
     "cell_type": "markdown",
     "metadata": {},
     "source": [
      "## Writing a program and running a file\n",
      "\n",
      "Special feature of Julia is that the results of commands are not displayed, unless explicitely required. \n",
      "\n",
      "To display results you can use commands `@show` or `println()` (or many others, see the [Text I/O](http://julia.readthedocs.org/en/latest/stdlib/base/?highlight=print#text-i-o) in the manual.)\n",
      "\n",
      "Consider the file `deploy.jl` with the following code\n",
      "```julia\n",
      "n=int(ARGS[1])          # take one integer argument\n",
      "println(rand(1:n,n,n))  # generate and print n x n matrix of random integers between 1 and n\n",
      "@show b=3               # set b to 3 and show the result\n",
      "c=4                     # set c to 4\n",
      "```\n",
      "Running the program in the shell gives\n",
      "```julia\n",
      "$ julia deploy.jl 5\n",
      "[1 3 2 4 1\n",
      " 5 3 1 1 4\n",
      " 5 4 2 2 5\n",
      " 3 1 2 3 4\n",
      " 4 4 5 4 4]\n",
      "b = 3 => 3\n",
      "```\n",
      "Notice that the result of the last command (_c_) is not displayed.\n",
      "\n",
      ">You can, of course, also run the above command in the `Console` tab of `JuliaBox`. To do this, you first have to change the directory\n",
      "```\n",
      "cd Julia-Course/src\n",
      "```\n",
      "\n",
      "Similarly, the program can be converted to executable and run directly, \n",
      "without referencing `julia` in the command line.\n",
      "The refernece to `julia` must be added in the first line, as in the file `deploy1.jl`:\n",
      "```julia\n",
      "#!/usr/bin/julia\n",
      "n=int(ARGS[1])\n",
      "println(rand(1:n,n,n))\n",
      "@show b=3\n",
      "c=4\n",
      "```\n",
      "In the shell do:\n",
      "```\n",
      "$ chmod +x deploy1.jl\n",
      "$ ./deploy1.jl 5\n",
      "[4 5 3 2 5\n",
      " 4 2 1 5 1\n",
      " 3 2 4 5 1\n",
      " 2 4 4 3 1\n",
      " 3 4 5 3 3]\n",
      "b = 3 => 3\n",
      "```\n",
      "Finally, to run the same program in `julia` shell or `IJulia`, the input has to be changed, as in the file `deploy2.jl`:\n",
      "```julia\n",
      "n=int(readline(STDIN))\n",
      "println(rand(1:n,n,n))\n",
      "@show b=3\n",
      "c=4\n",
      "```\n",
      "__Notice that now the result of the last line is displayed by default!__"
     ]
    },
    {
     "cell_type": "code",
     "collapsed": false,
     "input": [
      "include(\"deploy2.jl\")"
     ],
     "language": "python",
     "metadata": {},
     "outputs": [
      {
       "name": "stdout",
       "output_type": "stream",
       "stream": "stdout",
       "text": [
        "STDIN> 5\n"
       ]
      },
      {
       "output_type": "stream",
       "stream": "stdout",
       "text": [
        "[1"
       ]
      },
      {
       "output_type": "stream",
       "stream": "stdout",
       "text": [
        " 5 2 1 4\n",
        " 4 1 3 2 5\n",
        " 1 5 2 2 3\n",
        " 1 2 4 1 1\n",
        " 1 2 4 2 5]\n",
        "b = 3 = 3\n"
       ]
      },
      {
       "metadata": {},
       "output_type": "pyout",
       "prompt_number": 60,
       "text": [
        "4"
       ]
      }
     ],
     "prompt_number": 60
    },
    {
     "cell_type": "markdown",
     "metadata": {},
     "source": [
      "## Running external programs and unix pipe\n",
      "\n",
      "### `run()` - calling external program"
     ]
    },
    {
     "cell_type": "code",
     "collapsed": false,
     "input": [
      "help(\"run\") # help() is also a function"
     ],
     "language": "python",
     "metadata": {},
     "outputs": [
      {
       "output_type": "stream",
       "stream": "stdout",
       "text": [
        "Base.run(command)\n",
        "\n",
        "   Run a command object, constructed with backticks. Throws an error\n",
        "   if anything goes wrong, including the process exiting with a non-\n",
        "   zero status.\n"
       ]
      }
     ],
     "prompt_number": 61
    },
    {
     "cell_type": "code",
     "collapsed": false,
     "input": [
      "help(run) # \"\" can be omitted"
     ],
     "language": "python",
     "metadata": {},
     "outputs": [
      {
       "output_type": "stream",
       "stream": "stdout",
       "text": [
        "Base.run(command)\n",
        "\n",
        "   Run a command object, constructed with backticks. Throws an error\n",
        "   if anything goes wrong, including the process exiting with a non-\n",
        "   zero status.\n"
       ]
      }
     ],
     "prompt_number": 62
    },
    {
     "cell_type": "code",
     "collapsed": false,
     "input": [
      "run(`cal`) # This calls the unix Calendar program"
     ],
     "language": "python",
     "metadata": {},
     "outputs": [
      {
       "output_type": "stream",
       "stream": "stdout",
       "text": [
        "   December 2014      \n",
        "Su Mo Tu We Th Fr Sa  \n",
        "    1  2  3  4  5  6  \n",
        " 7  8  9 10 11 12 13  \n",
        "14 15 _\b1_\b6 17 18 19 20  \n",
        "21 22 23 24 25 26 27  \n",
        "28 29 30 31           \n",
        "                      \n"
       ]
      }
     ],
     "prompt_number": 63
    },
    {
     "cell_type": "code",
     "collapsed": false,
     "input": [
      "run(`cal` |> `grep Sa`) # The pipe is '|>' instead of usual '|'"
     ],
     "language": "python",
     "metadata": {},
     "outputs": [
      {
       "output_type": "stream",
       "stream": "stdout",
       "text": [
        "Su Mo Tu We Th Fr Sa  \n"
       ]
      }
     ],
     "prompt_number": 64
    },
    {
     "cell_type": "markdown",
     "metadata": {},
     "source": [
      "### `ccall()` - calling `C` program"
     ]
    },
    {
     "cell_type": "code",
     "collapsed": false,
     "input": [
      "help(ccall) # ccall is the only function which needs \"\" in help() !!"
     ],
     "language": "python",
     "metadata": {},
     "outputs": [
      {
       "ename": "LoadError",
       "evalue": "syntax: invalid \"ccall\" syntax\nwhile loading In[65], in expression starting on line 1",
       "output_type": "pyerr",
       "traceback": [
        "syntax: invalid \"ccall\" syntax\nwhile loading In[65], in expression starting on line 1",
        ""
       ]
      }
     ],
     "prompt_number": 65
    },
    {
     "cell_type": "code",
     "collapsed": false,
     "input": [
      "help(\"ccall\")"
     ],
     "language": "python",
     "metadata": {},
     "outputs": [
      {
       "output_type": "stream",
       "stream": "stdout",
       "text": [
        "Base.ccall((symbol, library) or fptr, RetType, (ArgType1, ...), ArgVar1, ...)\n",
        "\n",
        "   Call function in C-exported shared library, specified by\n",
        "   \"(function name, library)\" tuple, where each component is a\n",
        "   AbstractString or :Symbol. Alternatively, ccall may be used to call\n",
        "   a function pointer returned by dlsym, but note that this usage is\n",
        "   generally discouraged to facilitate future static compilation. Note\n",
        "   that the argument type tuple must be a literal tuple, and not a\n",
        "   tuple-valued variable or expression.\n"
       ]
      }
     ],
     "prompt_number": 66
    },
    {
     "cell_type": "code",
     "collapsed": false,
     "input": [
      "ccall(:ctime, Int, ()) # Simple version"
     ],
     "language": "python",
     "metadata": {},
     "outputs": [
      {
       "metadata": {},
       "output_type": "pyout",
       "prompt_number": 67,
       "text": [
        "139973781220768"
       ]
      }
     ],
     "prompt_number": 67
    },
    {
     "cell_type": "code",
     "collapsed": false,
     "input": [
      "bytestring(ccall(:ctime, Ptr{Uint8}, ())) # Human readable version"
     ],
     "language": "python",
     "metadata": {},
     "outputs": [
      {
       "metadata": {},
       "output_type": "pyout",
       "prompt_number": 68,
       "text": [
        "\"Wed Nov  4 17:14:40 1970\\n\""
       ]
      }
     ],
     "prompt_number": 68
    },
    {
     "cell_type": "code",
     "collapsed": false,
     "input": [
      "bytestring(ccall((:ctime,\"libc\"), Ptr{Uint8}, ())) \n",
      "# With specifying the library"
     ],
     "language": "python",
     "metadata": {},
     "outputs": [
      {
       "metadata": {},
       "output_type": "pyout",
       "prompt_number": 69,
       "text": [
        "\"Wed Nov  4 17:14:40 1970\\n\""
       ]
      }
     ],
     "prompt_number": 69
    },
    {
     "cell_type": "code",
     "collapsed": false,
     "input": [
      "ccall(:ctime, Ptr{Uint8}, ()) # Or with pointers"
     ],
     "language": "python",
     "metadata": {},
     "outputs": [
      {
       "metadata": {},
       "output_type": "pyout",
       "prompt_number": 70,
       "text": [
        "Ptr{UInt8} @0x00007f4e2f81eda0"
       ]
      }
     ],
     "prompt_number": 70
    },
    {
     "cell_type": "markdown",
     "metadata": {},
     "source": [
      "## `Task()`, `produce()` and `consume()` \n",
      "`Julia` has  a control flow feature that allows computations to be suspended \n",
      "and resumed in a flexible manner (see\n",
      "[tasks](http://julia.readthedocs.org/en/latest/manual/control-flow/#man-tasks) in the manual)."
     ]
    },
    {
     "cell_type": "code",
     "collapsed": false,
     "input": [
      "function stepbystep()\n",
      "    for n=1:3\n",
      "        produce(n^2)\n",
      "    end\n",
      "end"
     ],
     "language": "python",
     "metadata": {},
     "outputs": [
      {
       "metadata": {},
       "output_type": "pyout",
       "prompt_number": 71,
       "text": [
        "stepbystep (generic function with 1 method)"
       ]
      }
     ],
     "prompt_number": 71
    },
    {
     "cell_type": "code",
     "collapsed": false,
     "input": [
      "p=Task(stepbystep)"
     ],
     "language": "python",
     "metadata": {},
     "outputs": [
      {
       "metadata": {},
       "output_type": "pyout",
       "prompt_number": 72,
       "text": [
        "Task (runnable) @0x000000000b96d980"
       ]
      }
     ],
     "prompt_number": 72
    },
    {
     "cell_type": "code",
     "collapsed": false,
     "input": [
      "consume(p)"
     ],
     "language": "python",
     "metadata": {},
     "outputs": [
      {
       "metadata": {},
       "output_type": "pyout",
       "prompt_number": 73,
       "text": [
        "1"
       ]
      }
     ],
     "prompt_number": 73
    },
    {
     "cell_type": "code",
     "collapsed": false,
     "input": [
      "consume(p)"
     ],
     "language": "python",
     "metadata": {},
     "outputs": [
      {
       "metadata": {},
       "output_type": "pyout",
       "prompt_number": 74,
       "text": [
        "4"
       ]
      }
     ],
     "prompt_number": 74
    },
    {
     "cell_type": "code",
     "collapsed": false,
     "input": [
      "consume(p) "
     ],
     "language": "python",
     "metadata": {},
     "outputs": [
      {
       "metadata": {},
       "output_type": "pyout",
       "prompt_number": 75,
       "text": [
        "9"
       ]
      }
     ],
     "prompt_number": 75
    },
    {
     "cell_type": "code",
     "collapsed": false,
     "input": [
      "consume(p) # Guess what comes next?"
     ],
     "language": "python",
     "metadata": {},
     "outputs": [],
     "prompt_number": 76
    },
    {
     "cell_type": "code",
     "collapsed": false,
     "input": [],
     "language": "python",
     "metadata": {},
     "outputs": [],
     "prompt_number": 77
    }
   ],
   "metadata": {}
  }
 ]
}